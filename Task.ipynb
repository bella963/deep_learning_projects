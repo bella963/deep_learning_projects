{
  "nbformat": 4,
  "nbformat_minor": 0,
  "metadata": {
    "colab": {
      "name": "Assignment2_Task 3.ipynb",
      "provenance": [],
      "collapsed_sections": [],
      "machine_shape": "hm"
    },
    "kernelspec": {
      "display_name": "Python 3",
      "name": "python3"
    },
    "language_info": {
      "name": "python"
    },
    "accelerator": "GPU"
  },
  "cells": [
    {
      "cell_type": "code",
      "metadata": {
        "id": "444GEAd1CmxW"
      },
      "source": [
        "import numpy as np\n",
        "import pandas as pd\n",
        "import matplotlib.pyplot as plt\n",
        "import seaborn as sns\n",
        "\n",
        "import tensorflow as tf\n",
        "from tensorflow import keras\n",
        "from tensorflow.keras import layers, models\n",
        "\n",
        "\n",
        "from sklearn.model_selection import train_test_split\n",
        "from sklearn.metrics import confusion_matrix\n",
        "\n",
        "import seaborn as sns"
      ],
      "execution_count": 1,
      "outputs": []
    },
    {
      "cell_type": "code",
      "metadata": {
        "colab": {
          "base_uri": "https://localhost:8080/"
        },
        "id": "zXY4Cc4xC2Vw",
        "outputId": "c3531c07-a0ca-418e-e8bb-fdd53a40e5e8"
      },
      "source": [
        "labels = np.load(\"labels.npy\")\n",
        "print(labels)"
      ],
      "execution_count": 2,
      "outputs": [
        {
          "output_type": "stream",
          "name": "stdout",
          "text": [
            "[[ 0  0]\n",
            " [ 0  0]\n",
            " [ 0  0]\n",
            " ...\n",
            " [11 59]\n",
            " [11 59]\n",
            " [11 59]]\n"
          ]
        }
      ]
    },
    {
      "cell_type": "code",
      "metadata": {
        "id": "LlrM8daNC6W1",
        "colab": {
          "base_uri": "https://localhost:8080/"
        },
        "outputId": "c511b3ec-79be-4e07-f0f0-79dba2d40b30"
      },
      "source": [
        "clock = np.load(\"images.npy\")\n",
        "print(clock)\n",
        "\n",
        "images = np.expand_dims(clock, axis = 3)\n",
        "print(images)\n",
        "\n"
      ],
      "execution_count": 3,
      "outputs": [
        {
          "output_type": "stream",
          "name": "stdout",
          "text": [
            "[[[135 130 139 ... 144 147 150]\n",
            "  [130 124 131 ... 142 143 143]\n",
            "  [135 141 149 ... 153 153 153]\n",
            "  ...\n",
            "  [ 62  74  99 ... 110 138 129]\n",
            "  [ 79  96 123 ...  72  76  94]\n",
            "  [ 95  97 111 ...  70  66  82]]\n",
            "\n",
            " [[128 140 147 ... 140 134 134]\n",
            "  [142 141 160 ... 129 122 121]\n",
            "  [138 144 147 ... 120 129 134]\n",
            "  ...\n",
            "  [ 69  65  69 ... 101  92  90]\n",
            "  [ 70  78  91 ... 102  96  92]\n",
            "  [ 74  96 117 ...  99  92  82]]\n",
            "\n",
            " [[128 125 116 ... 153 151 150]\n",
            "  [148 148 142 ... 162 163 164]\n",
            "  [152 153 148 ... 157 154 151]\n",
            "  ...\n",
            "  [138 136 147 ...  82  70  77]\n",
            "  [127 130 129 ...  99  91  98]\n",
            "  [142 135 124 ... 102  94  98]]\n",
            "\n",
            " ...\n",
            "\n",
            " [[129 122 126 ... 149 150 153]\n",
            "  [134 125 124 ... 144 143 144]\n",
            "  [141 136 139 ... 151 150 151]\n",
            "  ...\n",
            "  [156 145 112 ... 123 146 142]\n",
            "  [ 57  63  66 ... 102 143 141]\n",
            "  [ 54  47  43 ...  97 151 149]]\n",
            "\n",
            " [[118 123 142 ...  99  76  87]\n",
            "  [141 149 129 ... 109  95  98]\n",
            "  [115 115 139 ... 113 109 101]\n",
            "  ...\n",
            "  [129 166 135 ...  41  70  74]\n",
            "  [119 126  79 ... 106  83  70]\n",
            "  [139 121  94 ...  88  82  50]]\n",
            "\n",
            " [[ 94  99 110 ...  99 106  94]\n",
            "  [109 110 113 ...  97 108 104]\n",
            "  [114 116 116 ...  92  97  95]\n",
            "  ...\n",
            "  [126 129 132 ... 107 116 114]\n",
            "  [118 121 124 ... 107 112 108]\n",
            "  [122 123 125 ... 113 117 114]]]\n",
            "[[[[135]\n",
            "   [130]\n",
            "   [139]\n",
            "   ...\n",
            "   [144]\n",
            "   [147]\n",
            "   [150]]\n",
            "\n",
            "  [[130]\n",
            "   [124]\n",
            "   [131]\n",
            "   ...\n",
            "   [142]\n",
            "   [143]\n",
            "   [143]]\n",
            "\n",
            "  [[135]\n",
            "   [141]\n",
            "   [149]\n",
            "   ...\n",
            "   [153]\n",
            "   [153]\n",
            "   [153]]\n",
            "\n",
            "  ...\n",
            "\n",
            "  [[ 62]\n",
            "   [ 74]\n",
            "   [ 99]\n",
            "   ...\n",
            "   [110]\n",
            "   [138]\n",
            "   [129]]\n",
            "\n",
            "  [[ 79]\n",
            "   [ 96]\n",
            "   [123]\n",
            "   ...\n",
            "   [ 72]\n",
            "   [ 76]\n",
            "   [ 94]]\n",
            "\n",
            "  [[ 95]\n",
            "   [ 97]\n",
            "   [111]\n",
            "   ...\n",
            "   [ 70]\n",
            "   [ 66]\n",
            "   [ 82]]]\n",
            "\n",
            "\n",
            " [[[128]\n",
            "   [140]\n",
            "   [147]\n",
            "   ...\n",
            "   [140]\n",
            "   [134]\n",
            "   [134]]\n",
            "\n",
            "  [[142]\n",
            "   [141]\n",
            "   [160]\n",
            "   ...\n",
            "   [129]\n",
            "   [122]\n",
            "   [121]]\n",
            "\n",
            "  [[138]\n",
            "   [144]\n",
            "   [147]\n",
            "   ...\n",
            "   [120]\n",
            "   [129]\n",
            "   [134]]\n",
            "\n",
            "  ...\n",
            "\n",
            "  [[ 69]\n",
            "   [ 65]\n",
            "   [ 69]\n",
            "   ...\n",
            "   [101]\n",
            "   [ 92]\n",
            "   [ 90]]\n",
            "\n",
            "  [[ 70]\n",
            "   [ 78]\n",
            "   [ 91]\n",
            "   ...\n",
            "   [102]\n",
            "   [ 96]\n",
            "   [ 92]]\n",
            "\n",
            "  [[ 74]\n",
            "   [ 96]\n",
            "   [117]\n",
            "   ...\n",
            "   [ 99]\n",
            "   [ 92]\n",
            "   [ 82]]]\n",
            "\n",
            "\n",
            " [[[128]\n",
            "   [125]\n",
            "   [116]\n",
            "   ...\n",
            "   [153]\n",
            "   [151]\n",
            "   [150]]\n",
            "\n",
            "  [[148]\n",
            "   [148]\n",
            "   [142]\n",
            "   ...\n",
            "   [162]\n",
            "   [163]\n",
            "   [164]]\n",
            "\n",
            "  [[152]\n",
            "   [153]\n",
            "   [148]\n",
            "   ...\n",
            "   [157]\n",
            "   [154]\n",
            "   [151]]\n",
            "\n",
            "  ...\n",
            "\n",
            "  [[138]\n",
            "   [136]\n",
            "   [147]\n",
            "   ...\n",
            "   [ 82]\n",
            "   [ 70]\n",
            "   [ 77]]\n",
            "\n",
            "  [[127]\n",
            "   [130]\n",
            "   [129]\n",
            "   ...\n",
            "   [ 99]\n",
            "   [ 91]\n",
            "   [ 98]]\n",
            "\n",
            "  [[142]\n",
            "   [135]\n",
            "   [124]\n",
            "   ...\n",
            "   [102]\n",
            "   [ 94]\n",
            "   [ 98]]]\n",
            "\n",
            "\n",
            " ...\n",
            "\n",
            "\n",
            " [[[129]\n",
            "   [122]\n",
            "   [126]\n",
            "   ...\n",
            "   [149]\n",
            "   [150]\n",
            "   [153]]\n",
            "\n",
            "  [[134]\n",
            "   [125]\n",
            "   [124]\n",
            "   ...\n",
            "   [144]\n",
            "   [143]\n",
            "   [144]]\n",
            "\n",
            "  [[141]\n",
            "   [136]\n",
            "   [139]\n",
            "   ...\n",
            "   [151]\n",
            "   [150]\n",
            "   [151]]\n",
            "\n",
            "  ...\n",
            "\n",
            "  [[156]\n",
            "   [145]\n",
            "   [112]\n",
            "   ...\n",
            "   [123]\n",
            "   [146]\n",
            "   [142]]\n",
            "\n",
            "  [[ 57]\n",
            "   [ 63]\n",
            "   [ 66]\n",
            "   ...\n",
            "   [102]\n",
            "   [143]\n",
            "   [141]]\n",
            "\n",
            "  [[ 54]\n",
            "   [ 47]\n",
            "   [ 43]\n",
            "   ...\n",
            "   [ 97]\n",
            "   [151]\n",
            "   [149]]]\n",
            "\n",
            "\n",
            " [[[118]\n",
            "   [123]\n",
            "   [142]\n",
            "   ...\n",
            "   [ 99]\n",
            "   [ 76]\n",
            "   [ 87]]\n",
            "\n",
            "  [[141]\n",
            "   [149]\n",
            "   [129]\n",
            "   ...\n",
            "   [109]\n",
            "   [ 95]\n",
            "   [ 98]]\n",
            "\n",
            "  [[115]\n",
            "   [115]\n",
            "   [139]\n",
            "   ...\n",
            "   [113]\n",
            "   [109]\n",
            "   [101]]\n",
            "\n",
            "  ...\n",
            "\n",
            "  [[129]\n",
            "   [166]\n",
            "   [135]\n",
            "   ...\n",
            "   [ 41]\n",
            "   [ 70]\n",
            "   [ 74]]\n",
            "\n",
            "  [[119]\n",
            "   [126]\n",
            "   [ 79]\n",
            "   ...\n",
            "   [106]\n",
            "   [ 83]\n",
            "   [ 70]]\n",
            "\n",
            "  [[139]\n",
            "   [121]\n",
            "   [ 94]\n",
            "   ...\n",
            "   [ 88]\n",
            "   [ 82]\n",
            "   [ 50]]]\n",
            "\n",
            "\n",
            " [[[ 94]\n",
            "   [ 99]\n",
            "   [110]\n",
            "   ...\n",
            "   [ 99]\n",
            "   [106]\n",
            "   [ 94]]\n",
            "\n",
            "  [[109]\n",
            "   [110]\n",
            "   [113]\n",
            "   ...\n",
            "   [ 97]\n",
            "   [108]\n",
            "   [104]]\n",
            "\n",
            "  [[114]\n",
            "   [116]\n",
            "   [116]\n",
            "   ...\n",
            "   [ 92]\n",
            "   [ 97]\n",
            "   [ 95]]\n",
            "\n",
            "  ...\n",
            "\n",
            "  [[126]\n",
            "   [129]\n",
            "   [132]\n",
            "   ...\n",
            "   [107]\n",
            "   [116]\n",
            "   [114]]\n",
            "\n",
            "  [[118]\n",
            "   [121]\n",
            "   [124]\n",
            "   ...\n",
            "   [107]\n",
            "   [112]\n",
            "   [108]]\n",
            "\n",
            "  [[122]\n",
            "   [123]\n",
            "   [125]\n",
            "   ...\n",
            "   [113]\n",
            "   [117]\n",
            "   [114]]]]\n"
          ]
        }
      ]
    },
    {
      "cell_type": "markdown",
      "metadata": {
        "id": "CwKN8jM99doO"
      },
      "source": [
        "## Regression NN Model"
      ]
    },
    {
      "cell_type": "code",
      "metadata": {
        "id": "w827E8XM9cON"
      },
      "source": [
        "#build our neural network regression model\n",
        "\n",
        "def regression_model():\n",
        "    all_inputs = keras.Input(shape = (150,150,1), \n",
        "                            name = \"transformed_labels\")\n",
        "    \n",
        "    #x = layers.RandomFlip(\"horizontal_and_vertical\")(all_inputs)\n",
        "    #x = layers.RandomRotation(0.2)(x)\n",
        "    \n",
        "    \n",
        "    x = layers.Conv2D(filters= 64, kernel_size=(7,7), kernel_initializer = tf.keras.initializers.HeUniform(),\n",
        "                      padding=\"same\", activation=\"relu\")(all_inputs)\n",
        "    x = layers.MaxPooling2D((2,2))(x)\n",
        "    x = layers.BatchNormalization()(x)\n",
        "    x = layers.Dropout(0.25)(x)\n",
        "    \n",
        "    \n",
        "    x = layers.Conv2D(filters= 128, kernel_size=(3,3), kernel_initializer = tf.keras.initializers.HeUniform(),\n",
        "                      padding=\"same\", activation=\"relu\")(x)\n",
        "    x = layers.MaxPooling2D(pool_size=(2,2))(x)\n",
        "    x = layers.BatchNormalization()(x)\n",
        "    x = layers.Dropout(0.25)(x)\n",
        "\n",
        "    x = layers.Conv2D(filters= 128, kernel_size=(3,3), kernel_initializer = tf.keras.initializers.HeUniform(),\n",
        "                      padding=\"same\", activation=\"relu\")(x)\n",
        "    x = layers.MaxPooling2D(pool_size=(2,2))(x)\n",
        "    x = layers.BatchNormalization()(x)\n",
        "    x = layers.Dropout(0.25)(x)\n",
        "    \n",
        "    \n",
        "    \n",
        "    x = layers.Conv2D(filters = 256, kernel_size=(3,3), kernel_initializer = tf.keras.initializers.HeUniform(),\n",
        "                      padding=\"same\", activation=\"relu\")(x) \n",
        "    x = layers.BatchNormalization()(x)\n",
        "    x = layers.Dropout(0.25)(x)\n",
        "    \n",
        "    \n",
        "    #dense\n",
        "    x = layers.Flatten()(x)\n",
        "    \n",
        "    x = layers.Dense(512, activation = \"relu\")(x)\n",
        "    x = layers.BatchNormalization()(x)\n",
        "    x = layers.Dropout(0.5)(x)\n",
        "    #x = layers.Dense(128, activation = \"relu\")(x)\n",
        "    #x = layers.BatchNormalization()(x)\n",
        "    #x = layers.Dropout(0.5)(x)\n",
        "    \n",
        "    \n",
        "    reg_output = layers.Dense(1, name = \"reg_output\")(x)\n",
        "    reg_model = keras.models.Model(inputs=all_inputs, outputs = reg_output)\n",
        "                               \n",
        "    return reg_model\n",
        "    \n",
        "\n",
        "\n",
        "\n",
        "\n",
        "\n",
        "\n",
        "         "
      ],
      "execution_count": null,
      "outputs": []
    },
    {
      "cell_type": "code",
      "metadata": {
        "id": "2AMMfuwX9cJG"
      },
      "source": [
        "reg_labels = np.around((labels[:,0] + labels[:,1]/59.0), 1)"
      ],
      "execution_count": null,
      "outputs": []
    },
    {
      "cell_type": "code",
      "metadata": {
        "colab": {
          "base_uri": "https://localhost:8080/"
        },
        "id": "HJK0hzqaCsPZ",
        "outputId": "b7dff76a-a2d8-477f-fe17-dffbe93b2ebb"
      },
      "source": [
        "print(reg_labels[800:1000])"
      ],
      "execution_count": null,
      "outputs": [
        {
          "output_type": "stream",
          "name": "stdout",
          "text": [
            "[0.5 0.5 0.5 0.5 0.5 0.5 0.5 0.5 0.5 0.5 0.5 0.5 0.5 0.5 0.5 0.5 0.5 0.5\n",
            " 0.5 0.5 0.5 0.5 0.5 0.5 0.5 0.6 0.6 0.6 0.6 0.6 0.6 0.6 0.6 0.6 0.6 0.6\n",
            " 0.6 0.6 0.6 0.6 0.6 0.6 0.6 0.6 0.6 0.6 0.6 0.6 0.6 0.6 0.6 0.6 0.6 0.6\n",
            " 0.6 0.6 0.6 0.6 0.6 0.6 0.6 0.6 0.6 0.6 0.6 0.6 0.6 0.6 0.6 0.6 0.6 0.6\n",
            " 0.6 0.6 0.6 0.6 0.6 0.6 0.6 0.6 0.6 0.6 0.6 0.6 0.6 0.6 0.6 0.6 0.6 0.6\n",
            " 0.6 0.6 0.6 0.6 0.6 0.6 0.6 0.6 0.6 0.6 0.6 0.6 0.6 0.6 0.6 0.6 0.6 0.6\n",
            " 0.6 0.6 0.6 0.6 0.6 0.6 0.6 0.6 0.6 0.6 0.6 0.6 0.6 0.6 0.6 0.6 0.6 0.6\n",
            " 0.6 0.6 0.6 0.6 0.6 0.6 0.6 0.6 0.6 0.6 0.6 0.6 0.6 0.6 0.6 0.6 0.6 0.6\n",
            " 0.6 0.6 0.6 0.6 0.6 0.6 0.6 0.6 0.6 0.6 0.6 0.6 0.6 0.6 0.6 0.6 0.6 0.6\n",
            " 0.6 0.6 0.6 0.6 0.6 0.6 0.6 0.6 0.6 0.6 0.6 0.6 0.6 0.7 0.7 0.7 0.7 0.7\n",
            " 0.7 0.7 0.7 0.7 0.7 0.7 0.7 0.7 0.7 0.7 0.7 0.7 0.7 0.7 0.7 0.7 0.7 0.7\n",
            " 0.7 0.7]\n"
          ]
        }
      ]
    },
    {
      "cell_type": "code",
      "metadata": {
        "id": "JETRkkei-uRs"
      },
      "source": [
        "X_train_reg, X_test_reg, y_train_reg, y_test_reg = train_test_split(images, reg_labels, \n",
        "                                                                    test_size=0.2, \n",
        "                                                                    shuffle = True, random_state = 1)"
      ],
      "execution_count": null,
      "outputs": []
    },
    {
      "cell_type": "code",
      "metadata": {
        "colab": {
          "base_uri": "https://localhost:8080/"
        },
        "id": "N-jbFTFQAg9O",
        "outputId": "ac26e453-da94-4daa-855e-9642f28e3f33"
      },
      "source": [
        "print(len(y_train_reg))\n",
        "print(len(X_train_reg))\n",
        "print(len(X_test_reg))\n",
        "print(len(y_test_reg))"
      ],
      "execution_count": null,
      "outputs": [
        {
          "output_type": "stream",
          "name": "stdout",
          "text": [
            "14400\n",
            "14400\n",
            "3600\n",
            "3600\n"
          ]
        }
      ]
    },
    {
      "cell_type": "code",
      "metadata": {
        "id": "K76890r1Agw6"
      },
      "source": [
        "#standardize X_train_reg and X_test_reg\n",
        "X_train_reg = X_train_reg/255\n",
        "X_test_reg = X_test_reg/255"
      ],
      "execution_count": null,
      "outputs": []
    },
    {
      "cell_type": "code",
      "metadata": {
        "colab": {
          "base_uri": "https://localhost:8080/"
        },
        "id": "nSbDfaPq9cEH",
        "outputId": "b00956e7-dc4e-4b43-9553-232c5e0b1e39"
      },
      "source": [
        "reg_model = regression_model()\n",
        "\n",
        "reg_model.compile(loss = \"mse\",\n",
        "                 optimizer = tf.keras.optimizers.Adam(0.001),\n",
        "                 metrics = [\"mae\"])\n",
        "\n",
        "reg_history = reg_model.fit(X_train_reg, y_train_reg, batch_size = 72, epochs = 60)"
      ],
      "execution_count": null,
      "outputs": [
        {
          "output_type": "stream",
          "name": "stdout",
          "text": [
            "Epoch 1/60\n",
            "200/200 [==============================] - 32s 77ms/step - loss: 24.7349 - mae: 3.9766\n",
            "Epoch 2/60\n",
            "200/200 [==============================] - 15s 77ms/step - loss: 10.4577 - mae: 2.5854\n",
            "Epoch 3/60\n",
            "200/200 [==============================] - 15s 77ms/step - loss: 9.4281 - mae: 2.4445\n",
            "Epoch 4/60\n",
            "200/200 [==============================] - 15s 77ms/step - loss: 8.6892 - mae: 2.3361\n",
            "Epoch 5/60\n",
            "200/200 [==============================] - 15s 77ms/step - loss: 8.2380 - mae: 2.2687\n",
            "Epoch 6/60\n",
            "200/200 [==============================] - 15s 77ms/step - loss: 7.2766 - mae: 2.1187\n",
            "Epoch 7/60\n",
            "200/200 [==============================] - 15s 77ms/step - loss: 7.0468 - mae: 2.0871\n",
            "Epoch 8/60\n",
            "200/200 [==============================] - 15s 77ms/step - loss: 6.2302 - mae: 1.9380\n",
            "Epoch 9/60\n",
            "200/200 [==============================] - 15s 77ms/step - loss: 5.8474 - mae: 1.8665\n",
            "Epoch 10/60\n",
            "200/200 [==============================] - 15s 77ms/step - loss: 5.5588 - mae: 1.8202\n",
            "Epoch 11/60\n",
            "200/200 [==============================] - 15s 77ms/step - loss: 4.6932 - mae: 1.6461\n",
            "Epoch 12/60\n",
            "200/200 [==============================] - 15s 77ms/step - loss: 4.3208 - mae: 1.5733\n",
            "Epoch 13/60\n",
            "200/200 [==============================] - 15s 77ms/step - loss: 4.0746 - mae: 1.5292\n",
            "Epoch 14/60\n",
            "200/200 [==============================] - 15s 77ms/step - loss: 3.4455 - mae: 1.3878\n",
            "Epoch 15/60\n",
            "200/200 [==============================] - 15s 77ms/step - loss: 3.0778 - mae: 1.3101\n",
            "Epoch 16/60\n",
            "200/200 [==============================] - 15s 77ms/step - loss: 2.9282 - mae: 1.2781\n",
            "Epoch 17/60\n",
            "200/200 [==============================] - 15s 77ms/step - loss: 2.5344 - mae: 1.1867\n",
            "Epoch 18/60\n",
            "200/200 [==============================] - 15s 77ms/step - loss: 2.3293 - mae: 1.1263\n",
            "Epoch 19/60\n",
            "200/200 [==============================] - 15s 77ms/step - loss: 2.1143 - mae: 1.0856\n",
            "Epoch 20/60\n",
            "200/200 [==============================] - 15s 77ms/step - loss: 2.1182 - mae: 1.0806\n",
            "Epoch 21/60\n",
            "200/200 [==============================] - 15s 77ms/step - loss: 1.9019 - mae: 1.0269\n",
            "Epoch 22/60\n",
            "200/200 [==============================] - 15s 77ms/step - loss: 1.9061 - mae: 1.0302\n",
            "Epoch 23/60\n",
            "200/200 [==============================] - 15s 77ms/step - loss: 1.8548 - mae: 1.0137\n",
            "Epoch 24/60\n",
            "200/200 [==============================] - 15s 77ms/step - loss: 1.6738 - mae: 0.9677\n",
            "Epoch 25/60\n",
            "200/200 [==============================] - 15s 77ms/step - loss: 1.4784 - mae: 0.9155\n",
            "Epoch 26/60\n",
            "200/200 [==============================] - 15s 77ms/step - loss: 1.4629 - mae: 0.9066\n",
            "Epoch 27/60\n",
            "200/200 [==============================] - 15s 77ms/step - loss: 1.5153 - mae: 0.9274\n",
            "Epoch 28/60\n",
            "200/200 [==============================] - 15s 77ms/step - loss: 1.4540 - mae: 0.9094\n",
            "Epoch 29/60\n",
            "200/200 [==============================] - 15s 77ms/step - loss: 1.3125 - mae: 0.8627\n",
            "Epoch 30/60\n",
            "200/200 [==============================] - 15s 77ms/step - loss: 1.2948 - mae: 0.8649\n",
            "Epoch 31/60\n",
            "200/200 [==============================] - 15s 77ms/step - loss: 1.2973 - mae: 0.8596\n",
            "Epoch 32/60\n",
            "200/200 [==============================] - 15s 77ms/step - loss: 1.2995 - mae: 0.8612\n",
            "Epoch 33/60\n",
            "200/200 [==============================] - 15s 77ms/step - loss: 1.2540 - mae: 0.8468\n",
            "Epoch 34/60\n",
            "200/200 [==============================] - 15s 77ms/step - loss: 1.3146 - mae: 0.8632\n",
            "Epoch 35/60\n",
            "200/200 [==============================] - 15s 77ms/step - loss: 1.2176 - mae: 0.8307\n",
            "Epoch 36/60\n",
            "200/200 [==============================] - 15s 77ms/step - loss: 1.1769 - mae: 0.8205\n",
            "Epoch 37/60\n",
            "200/200 [==============================] - 15s 77ms/step - loss: 1.0987 - mae: 0.7989\n",
            "Epoch 38/60\n",
            "200/200 [==============================] - 15s 77ms/step - loss: 1.1406 - mae: 0.8130\n",
            "Epoch 39/60\n",
            "200/200 [==============================] - 15s 78ms/step - loss: 1.0995 - mae: 0.7981\n",
            "Epoch 40/60\n",
            "200/200 [==============================] - 15s 77ms/step - loss: 1.0359 - mae: 0.7741\n",
            "Epoch 41/60\n",
            "200/200 [==============================] - 15s 77ms/step - loss: 1.1077 - mae: 0.8035\n",
            "Epoch 42/60\n",
            "200/200 [==============================] - 15s 77ms/step - loss: 1.0511 - mae: 0.7793\n",
            "Epoch 43/60\n",
            "200/200 [==============================] - 15s 77ms/step - loss: 1.3032 - mae: 0.8494\n",
            "Epoch 44/60\n",
            "200/200 [==============================] - 15s 77ms/step - loss: 1.0826 - mae: 0.7876\n",
            "Epoch 45/60\n",
            "200/200 [==============================] - 15s 77ms/step - loss: 0.9963 - mae: 0.7601\n",
            "Epoch 46/60\n",
            "200/200 [==============================] - 15s 77ms/step - loss: 0.9872 - mae: 0.7562\n",
            "Epoch 47/60\n",
            "200/200 [==============================] - 15s 77ms/step - loss: 0.9349 - mae: 0.7419\n",
            "Epoch 48/60\n",
            "200/200 [==============================] - 16s 78ms/step - loss: 0.9395 - mae: 0.7346\n",
            "Epoch 49/60\n",
            "200/200 [==============================] - 15s 77ms/step - loss: 0.9099 - mae: 0.7275\n",
            "Epoch 50/60\n",
            "200/200 [==============================] - 15s 77ms/step - loss: 1.1094 - mae: 0.7938\n",
            "Epoch 51/60\n",
            "200/200 [==============================] - 15s 77ms/step - loss: 0.9755 - mae: 0.7505\n",
            "Epoch 52/60\n",
            "200/200 [==============================] - 15s 77ms/step - loss: 0.9102 - mae: 0.7274\n",
            "Epoch 53/60\n",
            "200/200 [==============================] - 15s 77ms/step - loss: 0.8754 - mae: 0.7223\n",
            "Epoch 54/60\n",
            "200/200 [==============================] - 15s 77ms/step - loss: 0.8362 - mae: 0.7044\n",
            "Epoch 55/60\n",
            "200/200 [==============================] - 15s 77ms/step - loss: 0.8813 - mae: 0.7248\n",
            "Epoch 56/60\n",
            "200/200 [==============================] - 15s 77ms/step - loss: 0.8886 - mae: 0.7281\n",
            "Epoch 57/60\n",
            "200/200 [==============================] - 15s 77ms/step - loss: 0.8203 - mae: 0.6990\n",
            "Epoch 58/60\n",
            "200/200 [==============================] - 15s 77ms/step - loss: 0.8382 - mae: 0.7071\n",
            "Epoch 59/60\n",
            "200/200 [==============================] - 15s 77ms/step - loss: 0.8055 - mae: 0.6913\n",
            "Epoch 60/60\n",
            "200/200 [==============================] - 16s 78ms/step - loss: 0.8346 - mae: 0.7020\n"
          ]
        }
      ]
    },
    {
      "cell_type": "code",
      "metadata": {
        "colab": {
          "base_uri": "https://localhost:8080/",
          "height": 282
        },
        "id": "-bvhiD3o9b_R",
        "outputId": "fbf437c7-4cf8-49c8-df77-6148b7840d11"
      },
      "source": [
        "plt.plot(reg_history.history[\"loss\"])"
      ],
      "execution_count": null,
      "outputs": [
        {
          "output_type": "execute_result",
          "data": {
            "text/plain": [
              "[<matplotlib.lines.Line2D at 0x7ff06638fd10>]"
            ]
          },
          "metadata": {},
          "execution_count": 11
        },
        {
          "output_type": "display_data",
          "data": {
            "image/png": "[encoded data removed]",
            "text/plain": [
              "<Figure size 432x288 with 1 Axes>"
            ]
          },
          "metadata": {
            "needs_background": "light"
          }
        }
      ]
    },
    {
      "cell_type": "code",
      "metadata": {
        "colab": {
          "base_uri": "https://localhost:8080/",
          "height": 282
        },
        "id": "Z2KU0Lv8WyMi",
        "outputId": "1f9127a2-5771-45be-f8b0-4c3eaca5d4e4"
      },
      "source": [
        "plt.plot(reg_history.history[\"mae\"])"
      ],
      "execution_count": null,
      "outputs": [
        {
          "output_type": "execute_result",
          "data": {
            "text/plain": [
              "[<matplotlib.lines.Line2D at 0x7ff0660bf3d0>]"
            ]
          },
          "metadata": {},
          "execution_count": 12
        },
        {
          "output_type": "display_data",
          "data": {
            "image/png": "[encoded data removed]",
            "text/plain": [
              "<Figure size 432x288 with 1 Axes>"
            ]
          },
          "metadata": {
            "needs_background": "light"
          }
        }
      ]
    },
    {
      "cell_type": "code",
      "metadata": {
        "colab": {
          "base_uri": "https://localhost:8080/"
        },
        "id": "8C5C0zjC9b6_",
        "outputId": "78587406-4b6a-4303-b28b-a8640dd0288e"
      },
      "source": [
        "reg_score = reg_model.evaluate(X_test_reg, y_test_reg)"
      ],
      "execution_count": null,
      "outputs": [
        {
          "output_type": "stream",
          "name": "stdout",
          "text": [
            "113/113 [==============================] - 2s 14ms/step - loss: 0.7775 - mae: 0.5132\n"
          ]
        }
      ]
    },
    {
      "cell_type": "code",
      "metadata": {
        "id": "SmtjMqDu9b2x"
      },
      "source": [
        "ypred_reg = reg_model.predict(X_test_reg)"
      ],
      "execution_count": null,
      "outputs": []
    },
    {
      "cell_type": "code",
      "metadata": {
        "colab": {
          "base_uri": "https://localhost:8080/"
        },
        "id": "35C4QHlS9bwm",
        "outputId": "80e7fae1-563b-4830-ef94-684544f1134f"
      },
      "source": [
        "np.around(ypred_reg,1) #predicted values"
      ],
      "execution_count": null,
      "outputs": [
        {
          "output_type": "execute_result",
          "data": {
            "text/plain": [
              "array([[1.3],\n",
              "       [3.9],\n",
              "       [4. ],\n",
              "       ...,\n",
              "       [1.2],\n",
              "       [9.1],\n",
              "       [2.5]], dtype=float32)"
            ]
          },
          "metadata": {},
          "execution_count": 15
        }
      ]
    },
    {
      "cell_type": "code",
      "metadata": {
        "colab": {
          "base_uri": "https://localhost:8080/"
        },
        "id": "icJ0aRYX9brq",
        "outputId": "ccefea9e-29a3-4c3a-8bf7-0c3e1de852e4"
      },
      "source": [
        "y_test_reg.reshape(-1,1) #true values"
      ],
      "execution_count": null,
      "outputs": [
        {
          "output_type": "execute_result",
          "data": {
            "text/plain": [
              "array([[ 0.6],\n",
              "       [ 3.8],\n",
              "       [ 2. ],\n",
              "       ...,\n",
              "       [ 0.6],\n",
              "       [11. ],\n",
              "       [ 3.2]])"
            ]
          },
          "metadata": {},
          "execution_count": 16
        }
      ]
    },
    {
      "cell_type": "code",
      "metadata": {
        "id": "FqsfZrP39bmG"
      },
      "source": [
        " time_diff =  abs(np.around(ypred_reg,1) - y_test_reg.reshape(-1,1)) # time difference"
      ],
      "execution_count": null,
      "outputs": []
    },
    {
      "cell_type": "code",
      "metadata": {
        "colab": {
          "base_uri": "https://localhost:8080/"
        },
        "id": "vJtBJsnT9bfG",
        "outputId": "48bfbd37-8d76-4671-80de-e419c85670f4"
      },
      "source": [
        "np.mean(time_diff) #time difference with regression model"
      ],
      "execution_count": null,
      "outputs": [
        {
          "output_type": "execute_result",
          "data": {
            "text/plain": [
              "0.5123611225709319"
            ]
          },
          "metadata": {},
          "execution_count": 18
        }
      ]
    },
    {
      "cell_type": "code",
      "metadata": {
        "id": "8VynL-NcxBRc"
      },
      "source": [
        ""
      ],
      "execution_count": null,
      "outputs": []
    },
    {
      "cell_type": "code",
      "metadata": {
        "id": "oxiap38q9bZg"
      },
      "source": [
        ""
      ],
      "execution_count": null,
      "outputs": []
    },
    {
      "cell_type": "code",
      "metadata": {
        "id": "z5O1RF5c9bT5"
      },
      "source": [
        ""
      ],
      "execution_count": null,
      "outputs": []
    },
    {
      "cell_type": "code",
      "metadata": {
        "id": "vSZeVqhx9bN6"
      },
      "source": [
        ""
      ],
      "execution_count": null,
      "outputs": []
    },
    {
      "cell_type": "code",
      "metadata": {
        "id": "lDewPRph9bJM"
      },
      "source": [
        ""
      ],
      "execution_count": null,
      "outputs": []
    },
    {
      "cell_type": "markdown",
      "metadata": {
        "id": "-m_g1_kdwlHy"
      },
      "source": [
        "## n-Class classification"
      ]
    },
    {
      "cell_type": "code",
      "metadata": {
        "id": "7B3JrOkfCap8"
      },
      "source": [
        "# function to calculate true and predicted time differences\n",
        "def time_gap(true, pred):\n",
        "  gap = []\n",
        "  for ht, hp in zip(true[:,0], pred[:,0]):\n",
        "    if ht > hp and hp == 0:\n",
        "      gap.append(abs(ht*60.0 + (hp + 12)*60.0))\n",
        "    else:\n",
        "      gap.append(abs((ht-hp)*60.0))\n",
        "\n",
        "  minute_diff = abs(true[:,1] - pred[:,1])\n",
        "\n",
        "  return np.mean(gap + minute_diff)"
      ],
      "execution_count": 14,
      "outputs": []
    },
    {
      "cell_type": "code",
      "metadata": {
        "id": "IPfoDrueCcp0"
      },
      "source": [
        ""
      ],
      "execution_count": null,
      "outputs": []
    },
    {
      "cell_type": "code",
      "metadata": {
        "id": "HbpxC8YNCcd0"
      },
      "source": [
        ""
      ],
      "execution_count": null,
      "outputs": []
    },
    {
      "cell_type": "code",
      "metadata": {
        "id": "KIWIltU3C-E-"
      },
      "source": [
        "def n_classify(num_class):\n",
        "    all_inputs = keras.Input(shape = (150,150,1), \n",
        "                            name = \"n_classification\")\n",
        "    \n",
        "    #x = layers.RandomFlip(\"horizontal_and_vertical\")(all_inputs)\n",
        "    #x = layers.RandomRotation(0.2)(x)\n",
        "    \n",
        "    \n",
        "    x = layers.Conv2D(filters= 64, kernel_size=(7,7), kernel_initializer = tf.keras.initializers.HeUniform(),\n",
        "                      padding=\"same\", activation=\"relu\")(all_inputs)\n",
        "    x = layers.MaxPooling2D((2,2))(x)\n",
        "    x = layers.BatchNormalization()(x)\n",
        "    x = layers.Dropout(0.25)(x)\n",
        "    \n",
        "    \n",
        "    x = layers.Conv2D(filters= 128 , kernel_size=(3,3), kernel_initializer = tf.keras.initializers.HeUniform(),\n",
        "                      padding=\"same\", activation=\"relu\")(x)\n",
        "    x = layers.MaxPooling2D(pool_size=(2,2))(x)\n",
        "    x = layers.BatchNormalization()(x)\n",
        "    x = layers.Dropout(0.25)(x)\n",
        "\n",
        "    x = layers.Conv2D(filters= 256 , kernel_size=(3,3), kernel_initializer = tf.keras.initializers.HeUniform(),\n",
        "                      padding=\"same\", activation=\"relu\")(x)\n",
        "    x = layers.MaxPooling2D(pool_size=(2,2))(x)\n",
        "    x = layers.BatchNormalization()(x)\n",
        "    x = layers.Dropout(0.25)(x)\n",
        "    \n",
        "    \n",
        "    x = layers.Conv2D(filters = 512, kernel_size=(3,3), kernel_initializer = tf.keras.initializers.HeUniform(),\n",
        "                      padding=\"same\", activation=\"relu\")(x)  \n",
        "    x = layers.MaxPooling2D(pool_size=(2,2))(x)\n",
        "    x = layers.BatchNormalization()(x)\n",
        "    x = layers.Dropout(0.25)(x)\n",
        "    \n",
        "    \n",
        "    #dense\n",
        "    x = layers.Flatten()(x)\n",
        "    \n",
        "    x = layers.Dense(240, activation = \"relu\")(x)\n",
        "    x = layers.BatchNormalization()(x)\n",
        "    x = layers.Dropout(0.5)(x)\n",
        "    x = layers.Dense(240, activation = \"relu\")(x)\n",
        "    x = layers.BatchNormalization()(x)\n",
        "    x = layers.Dropout(0.5)(x)\n",
        "    \n",
        "    output = layers.Dense(num_class, activation = \"softmax\")(x)\n",
        "    #hour_output = layers.Dense(num_hour, activation=\"softmax\", name = \"hour_output\")(x)  \n",
        "    #minute_output = layers.Dense(num_minute, activation = \"softmax\", name = \"minute_output\")(x)\n",
        "    \n",
        "    model = keras.models.Model(inputs=all_inputs, outputs = output)\n",
        "                               \n",
        "    return model\n",
        "    "
      ],
      "execution_count": 15,
      "outputs": []
    },
    {
      "cell_type": "markdown",
      "metadata": {
        "id": "KARqKrxqwuyy"
      },
      "source": [
        "#### 72 classes"
      ]
    },
    {
      "cell_type": "code",
      "metadata": {
        "id": "CnxchzMdDKBC"
      },
      "source": [
        "label72 = np.array([[j]*250 for j in range(72)]).flatten()"
      ],
      "execution_count": 45,
      "outputs": []
    },
    {
      "cell_type": "code",
      "metadata": {
        "id": "8TIamBx0DNo4"
      },
      "source": [
        "Xtrain72, Xtest72, ytrain72, ytest72 = train_test_split(images, label72,\n",
        "                                                       test_size=0.2, shuffle=True,\n",
        "                                                       random_state=6)"
      ],
      "execution_count": 46,
      "outputs": []
    },
    {
      "cell_type": "code",
      "metadata": {
        "id": "X9i8Y-m6DQXH"
      },
      "source": [
        "Xtrain72 = Xtrain72/255\n",
        "Xtest72 = Xtest72/255"
      ],
      "execution_count": 47,
      "outputs": []
    },
    {
      "cell_type": "code",
      "metadata": {
        "id": "s8QGGi4oDSsZ"
      },
      "source": [
        "mod_class72 = n_classify(72)"
      ],
      "execution_count": 48,
      "outputs": []
    },
    {
      "cell_type": "code",
      "metadata": {
        "id": "MmmkczvLDUjk"
      },
      "source": [
        "mod_class72.compile(loss = \"sparse_categorical_crossentropy\",\n",
        "                  optimizer = tf.keras.optimizers.Adam(0.001),\n",
        "                  metrics = [\"accuracy\"])"
      ],
      "execution_count": 49,
      "outputs": []
    },
    {
      "cell_type": "code",
      "metadata": {
        "id": "sJyH-I2KDWzU",
        "colab": {
          "base_uri": "https://localhost:8080/"
        },
        "outputId": "5aac88fa-3606-47a0-e0f7-8d400967018e"
      },
      "source": [
        "history72 = mod_class72.fit(Xtrain72, ytrain72, batch_size=72, epochs= 35)\n",
        "#parameters: 64*7*7, 128*3*3, 256*3*3,  full connected laysers: 512  epoch = 35, accuracy: 0.6806\n",
        "#parameters: 64*7*7, 128*3*3, 256*3*3,  full connected laysers: 512  epoch = 35, accuracy: 0.6594\n",
        "#parameters: 64*7*7, 128*3*3, 256*3*3, 512*3*3 full connected laysers: 240 240  epoch = 30, accuracy: 0.7811\n",
        "#parameters: 64*7*7, 128*3*3, 256*3*3, 512*3*3 full connected laysers: 240 240  epoch = 35, accuracy: 0.7881\n",
        "#parameters: 64*7*7, 128*3*3, 256*3*3, 512*3*3 full connected laysers: 240 240  epoch = 35, accuracy: 0.8875\n"
      ],
      "execution_count": 50,
      "outputs": [
        {
          "output_type": "stream",
          "name": "stdout",
          "text": [
            "Epoch 1/35\n",
            "200/200 [==============================] - 18s 84ms/step - loss: 5.0898 - accuracy: 0.0192\n",
            "Epoch 2/35\n",
            "200/200 [==============================] - 17s 84ms/step - loss: 4.2730 - accuracy: 0.0441\n",
            "Epoch 3/35\n",
            "200/200 [==============================] - 17s 84ms/step - loss: 3.5076 - accuracy: 0.1016\n",
            "Epoch 4/35\n",
            "200/200 [==============================] - 17s 85ms/step - loss: 2.8889 - accuracy: 0.1699\n",
            "Epoch 5/35\n",
            "200/200 [==============================] - 17s 85ms/step - loss: 2.4435 - accuracy: 0.2390\n",
            "Epoch 6/35\n",
            "200/200 [==============================] - 17s 84ms/step - loss: 2.1473 - accuracy: 0.2944\n",
            "Epoch 7/35\n",
            "200/200 [==============================] - 17s 85ms/step - loss: 1.9905 - accuracy: 0.3349\n",
            "Epoch 8/35\n",
            "200/200 [==============================] - 17s 85ms/step - loss: 1.7815 - accuracy: 0.3802\n",
            "Epoch 9/35\n",
            "200/200 [==============================] - 17s 85ms/step - loss: 1.6716 - accuracy: 0.4073\n",
            "Epoch 10/35\n",
            "200/200 [==============================] - 17s 85ms/step - loss: 1.5524 - accuracy: 0.4432\n",
            "Epoch 11/35\n",
            "200/200 [==============================] - 17s 85ms/step - loss: 1.4633 - accuracy: 0.4758\n",
            "Epoch 12/35\n",
            "200/200 [==============================] - 17s 85ms/step - loss: 1.3832 - accuracy: 0.5028\n",
            "Epoch 13/35\n",
            "200/200 [==============================] - 17s 85ms/step - loss: 1.2656 - accuracy: 0.5459\n",
            "Epoch 14/35\n",
            "200/200 [==============================] - 17s 84ms/step - loss: 1.1775 - accuracy: 0.5822\n",
            "Epoch 15/35\n",
            "200/200 [==============================] - 17s 84ms/step - loss: 1.0801 - accuracy: 0.6211\n",
            "Epoch 16/35\n",
            "200/200 [==============================] - 17s 84ms/step - loss: 0.9997 - accuracy: 0.6467\n",
            "Epoch 17/35\n",
            "200/200 [==============================] - 17s 85ms/step - loss: 0.9069 - accuracy: 0.6808\n",
            "Epoch 18/35\n",
            "200/200 [==============================] - 17s 84ms/step - loss: 0.8401 - accuracy: 0.7008\n",
            "Epoch 19/35\n",
            "200/200 [==============================] - 17s 84ms/step - loss: 0.7711 - accuracy: 0.7306\n",
            "Epoch 20/35\n",
            "200/200 [==============================] - 17s 84ms/step - loss: 0.7097 - accuracy: 0.7469\n",
            "Epoch 21/35\n",
            "200/200 [==============================] - 17s 85ms/step - loss: 0.6669 - accuracy: 0.7658\n",
            "Epoch 22/35\n",
            "200/200 [==============================] - 17s 85ms/step - loss: 0.6233 - accuracy: 0.7819\n",
            "Epoch 23/35\n",
            "200/200 [==============================] - 17s 85ms/step - loss: 0.5689 - accuracy: 0.7983\n",
            "Epoch 24/35\n",
            "200/200 [==============================] - 17s 84ms/step - loss: 0.5393 - accuracy: 0.8153\n",
            "Epoch 25/35\n",
            "200/200 [==============================] - 17s 85ms/step - loss: 0.5079 - accuracy: 0.8240\n",
            "Epoch 26/35\n",
            "200/200 [==============================] - 17s 85ms/step - loss: 0.4731 - accuracy: 0.8363\n",
            "Epoch 27/35\n",
            "200/200 [==============================] - 17s 85ms/step - loss: 0.4539 - accuracy: 0.8424\n",
            "Epoch 28/35\n",
            "200/200 [==============================] - 17s 85ms/step - loss: 0.4286 - accuracy: 0.8495\n",
            "Epoch 29/35\n",
            "200/200 [==============================] - 17s 84ms/step - loss: 0.3962 - accuracy: 0.8631\n",
            "Epoch 30/35\n",
            "200/200 [==============================] - 17s 85ms/step - loss: 0.3900 - accuracy: 0.8656\n",
            "Epoch 31/35\n",
            "200/200 [==============================] - 17s 85ms/step - loss: 0.3624 - accuracy: 0.8737\n",
            "Epoch 32/35\n",
            "200/200 [==============================] - 17s 85ms/step - loss: 0.3489 - accuracy: 0.8799\n",
            "Epoch 33/35\n",
            "200/200 [==============================] - 17s 85ms/step - loss: 0.3418 - accuracy: 0.8838\n",
            "Epoch 34/35\n",
            "200/200 [==============================] - 17s 85ms/step - loss: 0.3458 - accuracy: 0.8825\n",
            "Epoch 35/35\n",
            "200/200 [==============================] - 17s 85ms/step - loss: 0.3215 - accuracy: 0.8906\n"
          ]
        }
      ]
    },
    {
      "cell_type": "code",
      "metadata": {
        "id": "zvUsucTMDa-x",
        "colab": {
          "base_uri": "https://localhost:8080/"
        },
        "outputId": "a60fc71b-4146-45f5-acd9-4afff332ccb0"
      },
      "source": [
        "mod_class72.evaluate(Xtest72, ytest72)"
      ],
      "execution_count": 51,
      "outputs": [
        {
          "output_type": "stream",
          "name": "stdout",
          "text": [
            "113/113 [==============================] - 2s 14ms/step - loss: 0.3512 - accuracy: 0.8875\n"
          ]
        },
        {
          "output_type": "execute_result",
          "data": {
            "text/plain": [
              "[0.35123586654663086, 0.887499988079071]"
            ]
          },
          "metadata": {},
          "execution_count": 51
        }
      ]
    },
    {
      "cell_type": "code",
      "metadata": {
        "id": "EllZ6nMQHH2Y"
      },
      "source": [
        ""
      ],
      "execution_count": 43,
      "outputs": []
    },
    {
      "cell_type": "code",
      "metadata": {
        "id": "-UV095JxDbk5",
        "colab": {
          "base_uri": "https://localhost:8080/",
          "height": 282
        },
        "outputId": "52e6bf84-f240-415a-92a2-9957c2be723c"
      },
      "source": [
        "plt.plot(history72.history[\"loss\"])"
      ],
      "execution_count": 52,
      "outputs": [
        {
          "output_type": "execute_result",
          "data": {
            "text/plain": [
              "[<matplotlib.lines.Line2D at 0x7f40f05af6d0>]"
            ]
          },
          "metadata": {},
          "execution_count": 52
        },
        {
          "output_type": "display_data",
          "data": {
            "image/png": "[encoded data removed]",
            "text/plain": [
              "<Figure size 432x288 with 1 Axes>"
            ]
          },
          "metadata": {
            "needs_background": "light"
          }
        }
      ]
    },
    {
      "cell_type": "code",
      "metadata": {
        "id": "WoTYCWliDcJ8"
      },
      "source": [
        "ypred72 = np.argmax(mod_class72.predict(Xtest72), axis = 1)"
      ],
      "execution_count": 53,
      "outputs": []
    },
    {
      "cell_type": "code",
      "metadata": {
        "id": "N-9ehGMRDcoK",
        "colab": {
          "base_uri": "https://localhost:8080/"
        },
        "outputId": "e5d345e5-addd-4125-beb4-42512c609e09"
      },
      "source": [
        "ypred72"
      ],
      "execution_count": 54,
      "outputs": [
        {
          "output_type": "execute_result",
          "data": {
            "text/plain": [
              "array([21, 57, 35, ..., 48, 53, 34])"
            ]
          },
          "metadata": {},
          "execution_count": 54
        }
      ]
    },
    {
      "cell_type": "code",
      "metadata": {
        "colab": {
          "base_uri": "https://localhost:8080/"
        },
        "id": "fAb3NBaLQ9ZS",
        "outputId": "f021b37c-2bec-4742-af05-572b17d676bf"
      },
      "source": [
        "ytest72"
      ],
      "execution_count": 55,
      "outputs": [
        {
          "output_type": "execute_result",
          "data": {
            "text/plain": [
              "array([21, 57, 35, ..., 47, 54, 34])"
            ]
          },
          "metadata": {},
          "execution_count": 55
        }
      ]
    },
    {
      "cell_type": "code",
      "metadata": {
        "id": "LhGxxNhVQ9JH"
      },
      "source": [
        "pred_label = labels[ypred72*250]"
      ],
      "execution_count": 56,
      "outputs": []
    },
    {
      "cell_type": "code",
      "metadata": {
        "id": "B-RiYJ4mQ80D"
      },
      "source": [
        "true_label = labels[ytest72*250]"
      ],
      "execution_count": 57,
      "outputs": []
    },
    {
      "cell_type": "code",
      "metadata": {
        "colab": {
          "base_uri": "https://localhost:8080/"
        },
        "id": "0Z-gZn4Pq5tA",
        "outputId": "7aee161c-129e-4530-dfbb-0824c52626dd"
      },
      "source": [
        "time_gap(true_label, pred_label) #mean absolute error in minutes"
      ],
      "execution_count": 58,
      "outputs": [
        {
          "output_type": "execute_result",
          "data": {
            "text/plain": [
              "10.722222222222221"
            ]
          },
          "metadata": {},
          "execution_count": 58
        }
      ]
    },
    {
      "cell_type": "code",
      "metadata": {
        "colab": {
          "base_uri": "https://localhost:8080/",
          "height": 289
        },
        "id": "OHaw_ZlAfguS",
        "outputId": "18f6f567-f5e5-47f9-fbff-694b37d4a857"
      },
      "source": [
        "sns.heatmap(confusion_matrix(ytest72, ypred72), cmap=\"Greens\")"
      ],
      "execution_count": 59,
      "outputs": [
        {
          "output_type": "execute_result",
          "data": {
            "text/plain": [
              "<matplotlib.axes._subplots.AxesSubplot at 0x7f40f04c2050>"
            ]
          },
          "metadata": {},
          "execution_count": 59
        },
        {
          "output_type": "display_data",
          "data": {
            "image/png": "[encoded data removed]",
            "text/plain": [
              "<Figure size 432x288 with 2 Axes>"
            ]
          },
          "metadata": {
            "needs_background": "light"
          }
        }
      ]
    },
    {
      "cell_type": "code",
      "metadata": {
        "id": "81LJQvE9fgo2"
      },
      "source": [
        ""
      ],
      "execution_count": null,
      "outputs": []
    },
    {
      "cell_type": "code",
      "metadata": {
        "id": "4Ik1ZpKCfgkg"
      },
      "source": [
        ""
      ],
      "execution_count": null,
      "outputs": []
    },
    {
      "cell_type": "code",
      "metadata": {
        "id": "grFOg57OfgQj"
      },
      "source": [
        ""
      ],
      "execution_count": null,
      "outputs": []
    },
    {
      "cell_type": "code",
      "metadata": {
        "id": "MU39BCmLfgNs"
      },
      "source": [
        ""
      ],
      "execution_count": null,
      "outputs": []
    },
    {
      "cell_type": "markdown",
      "metadata": {
        "id": "8N9Lj710w0il"
      },
      "source": [
        "#### 24 classes"
      ]
    },
    {
      "cell_type": "code",
      "metadata": {
        "id": "ydLw1eSMDdGp"
      },
      "source": [
        "label24 = np.array([[i]*750 for i in range(24)]).flatten()"
      ],
      "execution_count": null,
      "outputs": []
    },
    {
      "cell_type": "code",
      "metadata": {
        "id": "fpzkILCIDjBO"
      },
      "source": [
        "Xtrain24, Xtest24, ytrain24, ytest24 = train_test_split(images, label24,\n",
        "                                                       test_size=0.2, shuffle=True,\n",
        "                                                       random_state=9)"
      ],
      "execution_count": null,
      "outputs": []
    },
    {
      "cell_type": "code",
      "metadata": {
        "id": "5Zz-aqVNDlUq",
        "colab": {
          "base_uri": "https://localhost:8080/"
        },
        "outputId": "adc49e32-a8e7-483d-d475-8ed23da4f52c"
      },
      "source": [
        "Xtrain24 = Xtrain24/255\n",
        "Xtest24 = Xtest24/255\n",
        "\n",
        "print(Xtrain24.shape)\n",
        "print(ytrain24.shape)"
      ],
      "execution_count": null,
      "outputs": [
        {
          "output_type": "stream",
          "name": "stdout",
          "text": [
            "(14400, 150, 150, 1)\n",
            "(14400,)\n"
          ]
        }
      ]
    },
    {
      "cell_type": "code",
      "metadata": {
        "id": "r2GHhy_LDnyl"
      },
      "source": [
        "mod_class24 = n_classify(24)"
      ],
      "execution_count": null,
      "outputs": []
    },
    {
      "cell_type": "code",
      "metadata": {
        "id": "sK0W-2xsDqB1"
      },
      "source": [
        "mod_class24.compile(loss = \"sparse_categorical_crossentropy\",\n",
        "                  optimizer = tf.keras.optimizers.Adam(0.001),\n",
        "                  metrics = [\"accuracy\"])"
      ],
      "execution_count": null,
      "outputs": []
    },
    {
      "cell_type": "code",
      "metadata": {
        "colab": {
          "base_uri": "https://localhost:8080/"
        },
        "id": "uCUNF54rDsUs",
        "outputId": "f9b727b8-e6b9-4bf0-a5d0-c3a0f5507b9c"
      },
      "source": [
        "history24 = mod_class24.fit(Xtrain24, ytrain24, batch_size=72, epochs= 45)\n",
        "#parameters: 64*7*7, 128*3*3, 256*3*3,  full connected laysers: 512 accuracy: 0.8255\n",
        "#parameters: 32*7*7, 64*3*3, 128*3*3,  full connected laysers: 512 accuracy: 0.6500\n",
        "#parameters: 64*7*7, 128*3*3, 256*3*3,  full connected laysers: 512 accuracy: 0.8031\n",
        "#parameters: 64*7*7, 128*3*3, 256*3*3,  full connected laysers: 512 accuracy: 0.7522\n",
        "#parameters: 64*7*7, 128*3*3, 128*3*3,  full connected laysers: 512 accuracy: 0.6528\n",
        "#parameters: 64*7*7, 128*3*3, 128*3*3, 256*3*3  full connected laysers: 512 accuracy: 0.2542\n",
        "#parameters: 64*7*7, 128*3*3, 256*3*3,  full connected laysers: 512 accuracy: 0.7822\n",
        "#parameters: 64*7*7, 128*3*3, 256*3*3,  full connected laysers: 512 accuracy: 0.7686\n",
        "#parameters: 64*7*7, 128*3*3, 256*3*3,  full connected laysers: 512 accuracy: 0.8222  epoch=43\n",
        "#parameters: 64*7*7, 128*3*3, 256*3*3, 512*3*3,  full connected laysers: 240 240 accuracy: 0.9442  epoch=45\n"
      ],
      "execution_count": null,
      "outputs": [
        {
          "output_type": "stream",
          "name": "stdout",
          "text": [
            "Epoch 1/45\n",
            "200/200 [==============================] - 19s 85ms/step - loss: 3.9817 - accuracy: 0.0492\n",
            "Epoch 2/45\n",
            "200/200 [==============================] - 17s 85ms/step - loss: 3.2728 - accuracy: 0.0851\n",
            "Epoch 3/45\n",
            "200/200 [==============================] - 17s 85ms/step - loss: 2.7767 - accuracy: 0.1390\n",
            "Epoch 4/45\n",
            "200/200 [==============================] - 17s 85ms/step - loss: 2.4061 - accuracy: 0.1944\n",
            "Epoch 5/45\n",
            "200/200 [==============================] - 17s 85ms/step - loss: 2.1299 - accuracy: 0.2499\n",
            "Epoch 6/45\n",
            "200/200 [==============================] - 17s 86ms/step - loss: 1.8972 - accuracy: 0.3195\n",
            "Epoch 7/45\n",
            "200/200 [==============================] - 17s 85ms/step - loss: 1.7239 - accuracy: 0.3717\n",
            "Epoch 8/45\n",
            "200/200 [==============================] - 17s 85ms/step - loss: 1.5363 - accuracy: 0.4270\n",
            "Epoch 9/45\n",
            "200/200 [==============================] - 17s 85ms/step - loss: 1.4086 - accuracy: 0.4706\n",
            "Epoch 10/45\n",
            "200/200 [==============================] - 17s 86ms/step - loss: 1.3345 - accuracy: 0.4969\n",
            "Epoch 11/45\n",
            "200/200 [==============================] - 17s 86ms/step - loss: 1.1676 - accuracy: 0.5494\n",
            "Epoch 12/45\n",
            "200/200 [==============================] - 17s 85ms/step - loss: 1.1370 - accuracy: 0.5675\n",
            "Epoch 13/45\n",
            "200/200 [==============================] - 17s 85ms/step - loss: 0.9852 - accuracy: 0.6192\n",
            "Epoch 14/45\n",
            "200/200 [==============================] - 17s 84ms/step - loss: 0.9296 - accuracy: 0.6356\n",
            "Epoch 15/45\n",
            "200/200 [==============================] - 17s 84ms/step - loss: 0.8683 - accuracy: 0.6619\n",
            "Epoch 16/45\n",
            "200/200 [==============================] - 17s 84ms/step - loss: 0.8075 - accuracy: 0.6869\n",
            "Epoch 17/45\n",
            "200/200 [==============================] - 17s 84ms/step - loss: 0.7702 - accuracy: 0.7047\n",
            "Epoch 18/45\n",
            "200/200 [==============================] - 17s 84ms/step - loss: 0.7014 - accuracy: 0.7329\n",
            "Epoch 19/45\n",
            "200/200 [==============================] - 17s 84ms/step - loss: 0.6804 - accuracy: 0.7371\n",
            "Epoch 20/45\n",
            "200/200 [==============================] - 17s 84ms/step - loss: 0.6519 - accuracy: 0.7520\n",
            "Epoch 21/45\n",
            "200/200 [==============================] - 17s 84ms/step - loss: 0.6262 - accuracy: 0.7593\n",
            "Epoch 22/45\n",
            "200/200 [==============================] - 17s 85ms/step - loss: 0.5920 - accuracy: 0.7767\n",
            "Epoch 23/45\n",
            "200/200 [==============================] - 17s 85ms/step - loss: 0.5676 - accuracy: 0.7821\n",
            "Epoch 24/45\n",
            "200/200 [==============================] - 17s 85ms/step - loss: 0.5363 - accuracy: 0.7979\n",
            "Epoch 25/45\n",
            "200/200 [==============================] - 17s 85ms/step - loss: 0.5082 - accuracy: 0.8069\n",
            "Epoch 26/45\n",
            "200/200 [==============================] - 17s 86ms/step - loss: 0.4732 - accuracy: 0.8267\n",
            "Epoch 27/45\n",
            "200/200 [==============================] - 17s 86ms/step - loss: 0.4613 - accuracy: 0.8321\n",
            "Epoch 28/45\n",
            "200/200 [==============================] - 17s 86ms/step - loss: 0.4553 - accuracy: 0.8272\n",
            "Epoch 29/45\n",
            "200/200 [==============================] - 17s 86ms/step - loss: 0.4351 - accuracy: 0.8372\n",
            "Epoch 30/45\n",
            "200/200 [==============================] - 17s 85ms/step - loss: 0.4039 - accuracy: 0.8526\n",
            "Epoch 31/45\n",
            "200/200 [==============================] - 17s 85ms/step - loss: 0.4144 - accuracy: 0.8462\n",
            "Epoch 32/45\n",
            "200/200 [==============================] - 17s 86ms/step - loss: 0.3847 - accuracy: 0.8550\n",
            "Epoch 33/45\n",
            "200/200 [==============================] - 17s 85ms/step - loss: 0.3768 - accuracy: 0.8610\n",
            "Epoch 34/45\n",
            "200/200 [==============================] - 17s 85ms/step - loss: 0.3579 - accuracy: 0.8671\n",
            "Epoch 35/45\n",
            "200/200 [==============================] - 17s 86ms/step - loss: 0.3408 - accuracy: 0.8743\n",
            "Epoch 36/45\n",
            "200/200 [==============================] - 17s 85ms/step - loss: 0.3254 - accuracy: 0.8783\n",
            "Epoch 37/45\n",
            "200/200 [==============================] - 17s 86ms/step - loss: 0.3435 - accuracy: 0.8746\n",
            "Epoch 38/45\n",
            "200/200 [==============================] - 17s 85ms/step - loss: 0.3136 - accuracy: 0.8835\n",
            "Epoch 39/45\n",
            "200/200 [==============================] - 17s 86ms/step - loss: 0.2927 - accuracy: 0.8909\n",
            "Epoch 40/45\n",
            "200/200 [==============================] - 17s 86ms/step - loss: 0.2893 - accuracy: 0.8933\n",
            "Epoch 41/45\n",
            "200/200 [==============================] - 17s 86ms/step - loss: 0.2840 - accuracy: 0.8960\n",
            "Epoch 42/45\n",
            "200/200 [==============================] - 17s 85ms/step - loss: 0.2732 - accuracy: 0.9030\n",
            "Epoch 43/45\n",
            "200/200 [==============================] - 17s 85ms/step - loss: 0.2720 - accuracy: 0.9013\n",
            "Epoch 44/45\n",
            "200/200 [==============================] - 17s 85ms/step - loss: 0.2609 - accuracy: 0.9050\n",
            "Epoch 45/45\n",
            "200/200 [==============================] - 17s 85ms/step - loss: 0.2526 - accuracy: 0.9085\n"
          ]
        }
      ]
    },
    {
      "cell_type": "code",
      "metadata": {
        "colab": {
          "base_uri": "https://localhost:8080/"
        },
        "id": "uGLnm2ft0lid",
        "outputId": "79786fa1-6434-4f95-d4d7-8ce72820cef7"
      },
      "source": [
        "score24 = mod_class24.evaluate(Xtest24,ytest24)"
      ],
      "execution_count": null,
      "outputs": [
        {
          "output_type": "stream",
          "name": "stdout",
          "text": [
            "113/113 [==============================] - 2s 15ms/step - loss: 0.2042 - accuracy: 0.9442\n"
          ]
        }
      ]
    },
    {
      "cell_type": "code",
      "metadata": {
        "colab": {
          "base_uri": "https://localhost:8080/",
          "height": 282
        },
        "id": "Cxfekddy0tE8",
        "outputId": "dde58441-60a9-42e5-e1cf-30923738027c"
      },
      "source": [
        "plt.plot(history24.history[\"loss\"])"
      ],
      "execution_count": null,
      "outputs": [
        {
          "output_type": "execute_result",
          "data": {
            "text/plain": [
              "[<matplotlib.lines.Line2D at 0x7fae3e54f650>]"
            ]
          },
          "metadata": {},
          "execution_count": 32
        },
        {
          "output_type": "display_data",
          "data": {
            "image/png": "[encoded data removed]",
            "text/plain": [
              "<Figure size 432x288 with 1 Axes>"
            ]
          },
          "metadata": {
            "needs_background": "light"
          }
        }
      ]
    },
    {
      "cell_type": "code",
      "metadata": {
        "colab": {
          "base_uri": "https://localhost:8080/",
          "height": 282
        },
        "id": "MdIOecfu1AAV",
        "outputId": "1cc1f1cc-f118-4a58-e159-31caab1e16de"
      },
      "source": [
        "plt.plot(history24.history[\"accuracy\"])"
      ],
      "execution_count": null,
      "outputs": [
        {
          "output_type": "execute_result",
          "data": {
            "text/plain": [
              "[<matplotlib.lines.Line2D at 0x7faec03beb90>]"
            ]
          },
          "metadata": {},
          "execution_count": 33
        },
        {
          "output_type": "display_data",
          "data": {
            "image/png": "[encoded data removed]",
            "text/plain": [
              "<Figure size 432x288 with 1 Axes>"
            ]
          },
          "metadata": {
            "needs_background": "light"
          }
        }
      ]
    },
    {
      "cell_type": "code",
      "metadata": {
        "id": "lC4DqDYqJmeH"
      },
      "source": [
        "ypred24 = np.argmax(mod_class24.predict(Xtest24), axis = 1)"
      ],
      "execution_count": null,
      "outputs": []
    },
    {
      "cell_type": "code",
      "metadata": {
        "colab": {
          "base_uri": "https://localhost:8080/"
        },
        "id": "-Hc2KSVDJnH8",
        "outputId": "a6fcbd45-dec6-465d-dd79-ce615ed90a2a"
      },
      "source": [
        "ypred24"
      ],
      "execution_count": null,
      "outputs": [
        {
          "output_type": "execute_result",
          "data": {
            "text/plain": [
              "array([16, 23, 13, ..., 20, 15,  0])"
            ]
          },
          "metadata": {},
          "execution_count": 35
        }
      ]
    },
    {
      "cell_type": "code",
      "metadata": {
        "colab": {
          "base_uri": "https://localhost:8080/"
        },
        "id": "KRzakrcDJnfz",
        "outputId": "4a587b00-380f-4b84-c990-f55d7d301760"
      },
      "source": [
        "ytest24"
      ],
      "execution_count": null,
      "outputs": [
        {
          "output_type": "execute_result",
          "data": {
            "text/plain": [
              "array([16, 23, 13, ..., 20, 15,  0])"
            ]
          },
          "metadata": {},
          "execution_count": 36
        }
      ]
    },
    {
      "cell_type": "code",
      "metadata": {
        "id": "iNn6f4VtJn3F"
      },
      "source": [
        "lpred=labels[ypred24*750]"
      ],
      "execution_count": null,
      "outputs": []
    },
    {
      "cell_type": "code",
      "metadata": {
        "id": "cocm-yf2v1ve"
      },
      "source": [
        "ltrue=labels[ytest24*750]"
      ],
      "execution_count": null,
      "outputs": []
    },
    {
      "cell_type": "code",
      "metadata": {
        "id": "BK6ouhg07vtq"
      },
      "source": [
        ""
      ],
      "execution_count": null,
      "outputs": []
    },
    {
      "cell_type": "code",
      "metadata": {
        "colab": {
          "base_uri": "https://localhost:8080/"
        },
        "id": "SdmilEz67vgo",
        "outputId": "fa74c587-b37a-4184-e895-b2e2bfd518d8"
      },
      "source": [
        "time_gap(ltrue, lpred) # MAE in minutes"
      ],
      "execution_count": null,
      "outputs": [
        {
          "output_type": "execute_result",
          "data": {
            "text/plain": [
              "6.091666666666667"
            ]
          },
          "metadata": {},
          "execution_count": 39
        }
      ]
    },
    {
      "cell_type": "code",
      "metadata": {
        "id": "YhxW--T27vWx"
      },
      "source": [
        ""
      ],
      "execution_count": null,
      "outputs": []
    },
    {
      "cell_type": "code",
      "metadata": {
        "colab": {
          "base_uri": "https://localhost:8080/",
          "height": 285
        },
        "id": "8Vf535KSwKmf",
        "outputId": "99164e1a-5668-40ee-d189-cd9e93def4e2"
      },
      "source": [
        "sns.heatmap(confusion_matrix(ytest24, ypred24),  cmap=\"GnBu\")"
      ],
      "execution_count": null,
      "outputs": [
        {
          "output_type": "execute_result",
          "data": {
            "text/plain": [
              "<matplotlib.axes._subplots.AxesSubplot at 0x7fae3e2dd510>"
            ]
          },
          "metadata": {},
          "execution_count": 42
        },
        {
          "output_type": "display_data",
          "data": {
            "image/png": "[encoded data removed]",
            "text/plain": [
              "<Figure size 432x288 with 2 Axes>"
            ]
          },
          "metadata": {
            "needs_background": "light"
          }
        }
      ]
    },
    {
      "cell_type": "code",
      "metadata": {
        "id": "Q76nkCMdwKXj"
      },
      "source": [
        ""
      ],
      "execution_count": null,
      "outputs": []
    },
    {
      "cell_type": "code",
      "metadata": {
        "id": "FkqrZVOewKJl"
      },
      "source": [
        ""
      ],
      "execution_count": null,
      "outputs": []
    },
    {
      "cell_type": "code",
      "metadata": {
        "id": "ATqptJh7v1jO",
        "colab": {
          "base_uri": "https://localhost:8080/"
        },
        "outputId": "aa09ab84-2674-4d83-a79b-67e7fa401d2c"
      },
      "source": [
        "history24_1 = mod_class24.fit(Xtrain24, ytrain24, batch_size=72, epochs=45)\n",
        "#parameters: 64*7*7, 128*3*4, 256*3*3,  full connected laysers: 1024 accuracy: 0.60\n",
        "#parameters: 64*7*7, 128*3*4, 256*3*3,  full connected laysers: 512 accuracy: 0.8344\n"
      ],
      "execution_count": null,
      "outputs": [
        {
          "output_type": "stream",
          "name": "stdout",
          "text": [
            "Epoch 1/45\n",
            "200/200 [==============================] - 16s 77ms/step - loss: 3.7024 - accuracy: 0.0589\n",
            "Epoch 2/45\n",
            "200/200 [==============================] - 15s 76ms/step - loss: 3.1482 - accuracy: 0.1084\n",
            "Epoch 3/45\n",
            "200/200 [==============================] - 15s 76ms/step - loss: 2.7501 - accuracy: 0.1632\n",
            "Epoch 4/45\n",
            "200/200 [==============================] - 15s 77ms/step - loss: 2.4862 - accuracy: 0.2144\n",
            "Epoch 5/45\n",
            "200/200 [==============================] - 15s 76ms/step - loss: 2.1192 - accuracy: 0.2978\n",
            "Epoch 6/45\n",
            "200/200 [==============================] - 15s 76ms/step - loss: 1.8336 - accuracy: 0.3666\n",
            "Epoch 7/45\n",
            "200/200 [==============================] - 15s 76ms/step - loss: 1.5952 - accuracy: 0.4455\n",
            "Epoch 8/45\n",
            "200/200 [==============================] - 15s 76ms/step - loss: 1.3834 - accuracy: 0.5082\n",
            "Epoch 9/45\n",
            "200/200 [==============================] - 15s 77ms/step - loss: 1.2135 - accuracy: 0.5687\n",
            "Epoch 10/45\n",
            "200/200 [==============================] - 15s 76ms/step - loss: 1.0332 - accuracy: 0.6345\n",
            "Epoch 11/45\n",
            "200/200 [==============================] - 15s 77ms/step - loss: 1.0372 - accuracy: 0.6303\n",
            "Epoch 12/45\n",
            "200/200 [==============================] - 15s 77ms/step - loss: 0.8787 - accuracy: 0.6874\n",
            "Epoch 13/45\n",
            "200/200 [==============================] - 15s 77ms/step - loss: 0.6934 - accuracy: 0.7631\n",
            "Epoch 14/45\n",
            "200/200 [==============================] - 15s 76ms/step - loss: 0.5929 - accuracy: 0.7943\n",
            "Epoch 15/45\n",
            "200/200 [==============================] - 15s 77ms/step - loss: 0.5024 - accuracy: 0.8288\n",
            "Epoch 16/45\n",
            "200/200 [==============================] - 15s 76ms/step - loss: 0.4398 - accuracy: 0.8501\n",
            "Epoch 17/45\n",
            "200/200 [==============================] - 15s 77ms/step - loss: 0.3802 - accuracy: 0.8715\n",
            "Epoch 18/45\n",
            "200/200 [==============================] - 15s 76ms/step - loss: 0.3335 - accuracy: 0.8879\n",
            "Epoch 19/45\n",
            "200/200 [==============================] - 15s 77ms/step - loss: 0.2938 - accuracy: 0.9047\n",
            "Epoch 20/45\n",
            "200/200 [==============================] - 15s 77ms/step - loss: 0.2710 - accuracy: 0.9097\n",
            "Epoch 21/45\n",
            "200/200 [==============================] - 15s 77ms/step - loss: 0.2583 - accuracy: 0.9128\n",
            "Epoch 22/45\n",
            "200/200 [==============================] - 15s 76ms/step - loss: 0.2176 - accuracy: 0.9292\n",
            "Epoch 23/45\n",
            "200/200 [==============================] - 15s 76ms/step - loss: 0.2138 - accuracy: 0.9278\n",
            "Epoch 24/45\n",
            "200/200 [==============================] - 15s 77ms/step - loss: 0.2003 - accuracy: 0.9318\n",
            "Epoch 25/45\n",
            "200/200 [==============================] - 15s 77ms/step - loss: 0.1649 - accuracy: 0.9442\n",
            "Epoch 26/45\n",
            "200/200 [==============================] - 15s 76ms/step - loss: 0.1595 - accuracy: 0.9476\n",
            "Epoch 27/45\n",
            "200/200 [==============================] - 15s 77ms/step - loss: 0.1431 - accuracy: 0.9535\n",
            "Epoch 28/45\n",
            "200/200 [==============================] - 15s 76ms/step - loss: 0.1387 - accuracy: 0.9535\n",
            "Epoch 29/45\n",
            "200/200 [==============================] - 15s 77ms/step - loss: 0.1336 - accuracy: 0.9572\n",
            "Epoch 30/45\n",
            "200/200 [==============================] - 15s 77ms/step - loss: 0.1230 - accuracy: 0.9592\n",
            "Epoch 31/45\n",
            "200/200 [==============================] - 15s 77ms/step - loss: 0.1270 - accuracy: 0.9565\n",
            "Epoch 32/45\n",
            "200/200 [==============================] - 15s 77ms/step - loss: 0.1247 - accuracy: 0.9583\n",
            "Epoch 33/45\n",
            "200/200 [==============================] - 15s 76ms/step - loss: 0.1274 - accuracy: 0.9558\n",
            "Epoch 34/45\n",
            "200/200 [==============================] - 15s 76ms/step - loss: 0.1247 - accuracy: 0.9576\n",
            "Epoch 35/45\n",
            "200/200 [==============================] - 15s 76ms/step - loss: 0.1101 - accuracy: 0.9618\n",
            "Epoch 36/45\n",
            "200/200 [==============================] - 15s 77ms/step - loss: 0.1066 - accuracy: 0.9637\n",
            "Epoch 37/45\n",
            "200/200 [==============================] - 15s 76ms/step - loss: 0.0905 - accuracy: 0.9693\n",
            "Epoch 38/45\n",
            "200/200 [==============================] - 15s 76ms/step - loss: 0.0945 - accuracy: 0.9674\n",
            "Epoch 39/45\n",
            "200/200 [==============================] - 15s 76ms/step - loss: 0.0931 - accuracy: 0.9678\n",
            "Epoch 40/45\n",
            "200/200 [==============================] - 15s 77ms/step - loss: 0.0992 - accuracy: 0.9664\n",
            "Epoch 41/45\n",
            "200/200 [==============================] - 15s 77ms/step - loss: 0.0994 - accuracy: 0.9662\n",
            "Epoch 42/45\n",
            "200/200 [==============================] - 15s 76ms/step - loss: 0.1011 - accuracy: 0.9657\n",
            "Epoch 43/45\n",
            "200/200 [==============================] - 15s 76ms/step - loss: 0.0878 - accuracy: 0.9701\n",
            "Epoch 44/45\n",
            "200/200 [==============================] - 15s 76ms/step - loss: 0.0848 - accuracy: 0.9708\n",
            "Epoch 45/45\n",
            "200/200 [==============================] - 15s 76ms/step - loss: 0.0781 - accuracy: 0.9724\n"
          ]
        }
      ]
    },
    {
      "cell_type": "code",
      "metadata": {
        "id": "HlTTRk-awe-2",
        "colab": {
          "base_uri": "https://localhost:8080/"
        },
        "outputId": "07a56127-a32b-45b6-b51a-8125dbe5e41e"
      },
      "source": [
        "mod_class24.evaluate(Xtest24,ytest24)"
      ],
      "execution_count": null,
      "outputs": [
        {
          "output_type": "stream",
          "name": "stdout",
          "text": [
            "113/113 [==============================] - 2s 13ms/step - loss: 0.5824 - accuracy: 0.8344\n"
          ]
        },
        {
          "output_type": "execute_result",
          "data": {
            "text/plain": [
              "[0.5824359655380249, 0.8344444632530212]"
            ]
          },
          "metadata": {},
          "execution_count": 50
        }
      ]
    },
    {
      "cell_type": "code",
      "metadata": {
        "id": "I52af_5xweti",
        "colab": {
          "base_uri": "https://localhost:8080/",
          "height": 282
        },
        "outputId": "df2c6244-74c5-475e-e8d6-ef1c5252c912"
      },
      "source": [
        "plt.plot(history24_1.history[\"loss\"])"
      ],
      "execution_count": null,
      "outputs": [
        {
          "output_type": "execute_result",
          "data": {
            "text/plain": [
              "[<matplotlib.lines.Line2D at 0x7fb2a81d9110>]"
            ]
          },
          "metadata": {},
          "execution_count": 51
        },
        {
          "output_type": "display_data",
          "data": {
            "image/png": "[encoded data removed]",
            "text/plain": [
              "<Figure size 432x288 with 1 Axes>"
            ]
          },
          "metadata": {
            "needs_background": "light"
          }
        }
      ]
    },
    {
      "cell_type": "code",
      "metadata": {
        "colab": {
          "base_uri": "https://localhost:8080/",
          "height": 282
        },
        "id": "SuXLuG8DFlCB",
        "outputId": "071e139c-38fc-488e-c7f8-8300fe7258d6"
      },
      "source": [
        "plt.plot(history24_1.history[\"accuracy\"])"
      ],
      "execution_count": null,
      "outputs": [
        {
          "output_type": "execute_result",
          "data": {
            "text/plain": [
              "[<matplotlib.lines.Line2D at 0x7fb2a81e9890>]"
            ]
          },
          "metadata": {},
          "execution_count": 52
        },
        {
          "output_type": "display_data",
          "data": {
            "image/png": "[encoded data removed]",
            "text/plain": [
              "<Figure size 432x288 with 1 Axes>"
            ]
          },
          "metadata": {
            "needs_background": "light"
          }
        }
      ]
    },
    {
      "cell_type": "code",
      "metadata": {
        "id": "nmLmgQEIFk4v"
      },
      "source": [
        "ypred24_1 = np.argmax(mod_class24.predict(Xtest24), axis = 1)"
      ],
      "execution_count": null,
      "outputs": []
    },
    {
      "cell_type": "code",
      "metadata": {
        "colab": {
          "base_uri": "https://localhost:8080/"
        },
        "id": "-bcNe6wnFkui",
        "outputId": "b112bd2c-3813-4c9a-fd96-6add26aa746a"
      },
      "source": [
        "ypred24_1"
      ],
      "execution_count": null,
      "outputs": [
        {
          "output_type": "execute_result",
          "data": {
            "text/plain": [
              "array([ 8,  8, 22, ..., 23,  1,  4])"
            ]
          },
          "metadata": {},
          "execution_count": 54
        }
      ]
    },
    {
      "cell_type": "code",
      "metadata": {
        "colab": {
          "base_uri": "https://localhost:8080/"
        },
        "id": "bh9SziPJFkfO",
        "outputId": "5c115b65-0c60-4c3f-dc1b-cad0bf0fdbde"
      },
      "source": [
        "ytest24"
      ],
      "execution_count": null,
      "outputs": [
        {
          "output_type": "execute_result",
          "data": {
            "text/plain": [
              "array([ 6,  8, 22, ..., 23,  1,  5])"
            ]
          },
          "metadata": {},
          "execution_count": 55
        }
      ]
    },
    {
      "cell_type": "code",
      "metadata": {
        "colab": {
          "base_uri": "https://localhost:8080/"
        },
        "id": "CGqX5lVOF_Z6",
        "outputId": "89804aeb-cc06-4f39-de6a-63fb5f35467c"
      },
      "source": [
        "labels[ypred24_1*750]"
      ],
      "execution_count": null,
      "outputs": [
        {
          "output_type": "execute_result",
          "data": {
            "text/plain": [
              "array([[ 4,  0],\n",
              "       [ 4,  0],\n",
              "       [11,  0],\n",
              "       ...,\n",
              "       [11, 30],\n",
              "       [ 0, 30],\n",
              "       [ 2,  0]])"
            ]
          },
          "metadata": {},
          "execution_count": 56
        }
      ]
    },
    {
      "cell_type": "code",
      "metadata": {
        "colab": {
          "base_uri": "https://localhost:8080/"
        },
        "id": "1Q-pQz9OF_X3",
        "outputId": "c2531638-122e-4d84-dbe4-1a84c83bcd53"
      },
      "source": [
        "labels[ytest24*750]"
      ],
      "execution_count": null,
      "outputs": [
        {
          "output_type": "execute_result",
          "data": {
            "text/plain": [
              "array([[ 3,  0],\n",
              "       [ 4,  0],\n",
              "       [11,  0],\n",
              "       ...,\n",
              "       [11, 30],\n",
              "       [ 0, 30],\n",
              "       [ 2, 30]])"
            ]
          },
          "metadata": {},
          "execution_count": 57
        }
      ]
    },
    {
      "cell_type": "code",
      "metadata": {
        "id": "wyzWKXKlF_Vp"
      },
      "source": [
        "pred_minute_24_1 = np.where(labels[ypred24_1*750][:,0] == 0, 12, labels[ypred24_1*750][:,0])*60.0 + labels[ypred24_1*750][:,1].astype(\"float32\")"
      ],
      "execution_count": null,
      "outputs": []
    },
    {
      "cell_type": "code",
      "metadata": {
        "colab": {
          "base_uri": "https://localhost:8080/"
        },
        "id": "r1Yz_XvRF_TX",
        "outputId": "1c055a44-a18b-468f-b464-2b32f2ffcfdb"
      },
      "source": [
        "pred_minute_24_1"
      ],
      "execution_count": null,
      "outputs": [
        {
          "output_type": "execute_result",
          "data": {
            "text/plain": [
              "array([240., 240., 660., ..., 690., 750., 120.])"
            ]
          },
          "metadata": {},
          "execution_count": 60
        }
      ]
    },
    {
      "cell_type": "code",
      "metadata": {
        "id": "OBA7P11yF_Q4"
      },
      "source": [
        "true_minute_24_1 = np.where(labels[ytest24*750][:,0] == 0, 12, labels[ytest24*750][:,0])*60.0 + labels[ytest24*750][:,1].astype(\"float32\")"
      ],
      "execution_count": null,
      "outputs": []
    },
    {
      "cell_type": "code",
      "metadata": {
        "colab": {
          "base_uri": "https://localhost:8080/"
        },
        "id": "cJeLeMWLF_OP",
        "outputId": "a64beeb6-f3e1-4075-944c-d88dbf189e6f"
      },
      "source": [
        "true_minute_24_1"
      ],
      "execution_count": null,
      "outputs": [
        {
          "output_type": "execute_result",
          "data": {
            "text/plain": [
              "array([180., 240., 660., ..., 690., 750., 150.])"
            ]
          },
          "metadata": {},
          "execution_count": 62
        }
      ]
    },
    {
      "cell_type": "code",
      "metadata": {
        "colab": {
          "base_uri": "https://localhost:8080/"
        },
        "id": "OGVzn4LmF_La",
        "outputId": "24639b89-d20d-43f0-bc99-55b12bd54cb8"
      },
      "source": [
        "np.mean(abs(true_minute_24_1 - pred_minute_24_1))"
      ],
      "execution_count": null,
      "outputs": [
        {
          "output_type": "execute_result",
          "data": {
            "text/plain": [
              "18.191666666666666"
            ]
          },
          "metadata": {},
          "execution_count": 65
        }
      ]
    },
    {
      "cell_type": "code",
      "metadata": {
        "colab": {
          "base_uri": "https://localhost:8080/",
          "height": 288
        },
        "id": "Am37SSGmF_Gk",
        "outputId": "8d34edba-3147-4b53-d4bd-f9b14d958fd4"
      },
      "source": [
        "sns.heatmap(confusion_matrix(ytest24, ypred24_1), cmap=\"GnBu\")"
      ],
      "execution_count": null,
      "outputs": [
        {
          "output_type": "execute_result",
          "data": {
            "text/plain": [
              "<matplotlib.axes._subplots.AxesSubplot at 0x7fb2a8147f90>"
            ]
          },
          "metadata": {},
          "execution_count": 66
        },
        {
          "output_type": "display_data",
          "data": {
            "image/png": "[encoded data removed]",
            "text/plain": [
              "<Figure size 432x288 with 2 Axes>"
            ]
          },
          "metadata": {
            "needs_background": "light"
          }
        }
      ]
    },
    {
      "cell_type": "code",
      "metadata": {
        "id": "13qcTDnMF-9m"
      },
      "source": [
        ""
      ],
      "execution_count": null,
      "outputs": []
    },
    {
      "cell_type": "code",
      "metadata": {
        "id": "Aa0RoODL4A_v"
      },
      "source": [
        ""
      ],
      "execution_count": null,
      "outputs": []
    },
    {
      "cell_type": "code",
      "metadata": {
        "id": "2E1t8wcU4A93"
      },
      "source": [
        ""
      ],
      "execution_count": null,
      "outputs": []
    },
    {
      "cell_type": "code",
      "metadata": {
        "id": "bMBlDm1P4A5o"
      },
      "source": [
        ""
      ],
      "execution_count": null,
      "outputs": []
    },
    {
      "cell_type": "code",
      "metadata": {
        "id": "kH9zgbgY4Azu"
      },
      "source": [
        ""
      ],
      "execution_count": null,
      "outputs": []
    },
    {
      "cell_type": "markdown",
      "metadata": {
        "id": "cxaF1KM80u0T"
      },
      "source": [
        "#### 180 classes"
      ]
    },
    {
      "cell_type": "code",
      "metadata": {
        "id": "f-mp2P8qJoLH"
      },
      "source": [
        "label180 = np.array([[i]*100 for i in range(180)]).flatten()"
      ],
      "execution_count": 6,
      "outputs": []
    },
    {
      "cell_type": "code",
      "metadata": {
        "colab": {
          "base_uri": "https://localhost:8080/"
        },
        "id": "KtOvYyw1019g",
        "outputId": "98290c91-cf59-4b85-a5a9-6c3edd083037"
      },
      "source": [
        "label180"
      ],
      "execution_count": 7,
      "outputs": [
        {
          "output_type": "execute_result",
          "data": {
            "text/plain": [
              "array([  0,   0,   0, ..., 179, 179, 179])"
            ]
          },
          "metadata": {},
          "execution_count": 7
        }
      ]
    },
    {
      "cell_type": "code",
      "metadata": {
        "id": "AZme_PDOKkWk"
      },
      "source": [
        "Xtrain180, Xtest180, ytrain180, ytest180 = train_test_split(images, label180,\n",
        "                                                       test_size=0.2, shuffle=True,\n",
        "                                                       random_state=5)"
      ],
      "execution_count": 8,
      "outputs": []
    },
    {
      "cell_type": "code",
      "metadata": {
        "id": "xpOSEUt-KqrY",
        "colab": {
          "base_uri": "https://localhost:8080/"
        },
        "outputId": "ae6841c1-a6de-4b40-d201-b4ff12dcbcbc"
      },
      "source": [
        "Xtrain180 = Xtrain180/255\n",
        "Xtest180 = Xtest180/255\n",
        "\n",
        "print(Xtrain180.shape)\n",
        "print(ytrain180.shape)"
      ],
      "execution_count": 9,
      "outputs": [
        {
          "output_type": "stream",
          "name": "stdout",
          "text": [
            "(14400, 150, 150, 1)\n",
            "(14400,)\n"
          ]
        }
      ]
    },
    {
      "cell_type": "code",
      "metadata": {
        "id": "_IkkKg_jK0W_"
      },
      "source": [
        "mod_class180 = n_classify(180)"
      ],
      "execution_count": 10,
      "outputs": []
    },
    {
      "cell_type": "code",
      "metadata": {
        "id": "4-xKneaYK0Ku"
      },
      "source": [
        "mod_class180.compile(loss = \"sparse_categorical_crossentropy\",\n",
        "                  optimizer = tf.keras.optimizers.Adam(0.001),\n",
        "                  metrics = [\"accuracy\"])"
      ],
      "execution_count": 11,
      "outputs": []
    },
    {
      "cell_type": "code",
      "metadata": {
        "id": "LRbKerRCK_ip",
        "colab": {
          "base_uri": "https://localhost:8080/"
        },
        "outputId": "525801c7-7512-44f3-843b-2606643d8ff9"
      },
      "source": [
        "history180 = mod_class180.fit(Xtrain180, ytrain180, batch_size=72, epochs= 35)\n",
        "# epoch 55, accuracy: 0.3225\n",
        "# epoch 25, accuracy: 0.2419"
      ],
      "execution_count": 12,
      "outputs": [
        {
          "output_type": "stream",
          "name": "stdout",
          "text": [
            "Epoch 1/35\n",
            "200/200 [==============================] - 34s 84ms/step - loss: 5.9122 - accuracy: 0.0056\n",
            "Epoch 2/35\n",
            "200/200 [==============================] - 17s 84ms/step - loss: 5.5552 - accuracy: 0.0078\n",
            "Epoch 3/35\n",
            "200/200 [==============================] - 17s 84ms/step - loss: 5.1414 - accuracy: 0.0190\n",
            "Epoch 4/35\n",
            "200/200 [==============================] - 17s 84ms/step - loss: 4.4795 - accuracy: 0.0464\n",
            "Epoch 5/35\n",
            "200/200 [==============================] - 17s 84ms/step - loss: 3.9032 - accuracy: 0.0802\n",
            "Epoch 6/35\n",
            "200/200 [==============================] - 17s 84ms/step - loss: 3.3110 - accuracy: 0.1353\n",
            "Epoch 7/35\n",
            "200/200 [==============================] - 17s 84ms/step - loss: 2.8398 - accuracy: 0.1979\n",
            "Epoch 8/35\n",
            "200/200 [==============================] - 17s 84ms/step - loss: 2.5639 - accuracy: 0.2306\n",
            "Epoch 9/35\n",
            "200/200 [==============================] - 17s 84ms/step - loss: 2.2883 - accuracy: 0.2837\n",
            "Epoch 10/35\n",
            "200/200 [==============================] - 17s 84ms/step - loss: 2.0584 - accuracy: 0.3345\n",
            "Epoch 11/35\n",
            "200/200 [==============================] - 17s 84ms/step - loss: 1.8986 - accuracy: 0.3747\n",
            "Epoch 12/35\n",
            "200/200 [==============================] - 17s 84ms/step - loss: 1.7529 - accuracy: 0.4083\n",
            "Epoch 13/35\n",
            "200/200 [==============================] - 17s 84ms/step - loss: 1.6177 - accuracy: 0.4481\n",
            "Epoch 14/35\n",
            "200/200 [==============================] - 17s 84ms/step - loss: 1.4956 - accuracy: 0.4867\n",
            "Epoch 15/35\n",
            "200/200 [==============================] - 17s 84ms/step - loss: 1.3972 - accuracy: 0.5138\n",
            "Epoch 16/35\n",
            "200/200 [==============================] - 17s 84ms/step - loss: 1.3005 - accuracy: 0.5410\n",
            "Epoch 17/35\n",
            "200/200 [==============================] - 17s 84ms/step - loss: 1.2147 - accuracy: 0.5732\n",
            "Epoch 18/35\n",
            "200/200 [==============================] - 17s 84ms/step - loss: 1.1573 - accuracy: 0.5942\n",
            "Epoch 19/35\n",
            "200/200 [==============================] - 17s 84ms/step - loss: 1.0699 - accuracy: 0.6200\n",
            "Epoch 20/35\n",
            "200/200 [==============================] - 17s 84ms/step - loss: 1.0198 - accuracy: 0.6421\n",
            "Epoch 21/35\n",
            "200/200 [==============================] - 17s 84ms/step - loss: 0.9824 - accuracy: 0.6485\n",
            "Epoch 22/35\n",
            "200/200 [==============================] - 17s 84ms/step - loss: 0.9366 - accuracy: 0.6703\n",
            "Epoch 23/35\n",
            "200/200 [==============================] - 17s 84ms/step - loss: 0.8785 - accuracy: 0.6864\n",
            "Epoch 24/35\n",
            "200/200 [==============================] - 17s 84ms/step - loss: 0.8360 - accuracy: 0.7038\n",
            "Epoch 25/35\n",
            "200/200 [==============================] - 17s 84ms/step - loss: 0.8066 - accuracy: 0.7121\n",
            "Epoch 26/35\n",
            "200/200 [==============================] - 17s 84ms/step - loss: 0.7697 - accuracy: 0.7276\n",
            "Epoch 27/35\n",
            "200/200 [==============================] - 17s 84ms/step - loss: 0.7405 - accuracy: 0.7390\n",
            "Epoch 28/35\n",
            "200/200 [==============================] - 17s 84ms/step - loss: 0.7033 - accuracy: 0.7510\n",
            "Epoch 29/35\n",
            "200/200 [==============================] - 17s 84ms/step - loss: 0.6765 - accuracy: 0.7601\n",
            "Epoch 30/35\n",
            "200/200 [==============================] - 17s 84ms/step - loss: 0.6465 - accuracy: 0.7744\n",
            "Epoch 31/35\n",
            "200/200 [==============================] - 17s 84ms/step - loss: 0.6157 - accuracy: 0.7803\n",
            "Epoch 32/35\n",
            "200/200 [==============================] - 17s 84ms/step - loss: 0.5781 - accuracy: 0.7956\n",
            "Epoch 33/35\n",
            "200/200 [==============================] - 17s 84ms/step - loss: 0.5818 - accuracy: 0.7948\n",
            "Epoch 34/35\n",
            "200/200 [==============================] - 17s 85ms/step - loss: 0.5476 - accuracy: 0.8130\n",
            "Epoch 35/35\n",
            "200/200 [==============================] - 17s 84ms/step - loss: 0.5499 - accuracy: 0.8069\n"
          ]
        }
      ]
    },
    {
      "cell_type": "code",
      "metadata": {
        "colab": {
          "base_uri": "https://localhost:8080/"
        },
        "id": "trOXwv3b9F90",
        "outputId": "6cac20e7-e600-45bb-bdc2-e8d490262ecf"
      },
      "source": [
        "score180 = mod_class180.evaluate(Xtest180,ytest180)"
      ],
      "execution_count": 13,
      "outputs": [
        {
          "output_type": "stream",
          "name": "stdout",
          "text": [
            "113/113 [==============================] - 2s 16ms/step - loss: 1.3828 - accuracy: 0.6006\n"
          ]
        }
      ]
    },
    {
      "cell_type": "code",
      "metadata": {
        "colab": {
          "base_uri": "https://localhost:8080/",
          "height": 282
        },
        "id": "MymUoLVE9GYu",
        "outputId": "e26f65fe-055a-4433-bc8a-0b7d835135c0"
      },
      "source": [
        "plt.plot(history180.history[\"loss\"])"
      ],
      "execution_count": 14,
      "outputs": [
        {
          "output_type": "execute_result",
          "data": {
            "text/plain": [
              "[<matplotlib.lines.Line2D at 0x7fee3d7a98d0>]"
            ]
          },
          "metadata": {},
          "execution_count": 14
        },
        {
          "output_type": "display_data",
          "data": {
            "image/png": "[encoded data removed]",
            "text/plain": [
              "<Figure size 432x288 with 1 Axes>"
            ]
          },
          "metadata": {
            "needs_background": "light"
          }
        }
      ]
    },
    {
      "cell_type": "code",
      "metadata": {
        "colab": {
          "base_uri": "https://localhost:8080/",
          "height": 282
        },
        "id": "GbhA21sj9Gwn",
        "outputId": "5ce14670-3766-4e1b-c69f-ad623f5ff3bc"
      },
      "source": [
        "plt.plot(history180.history[\"accuracy\"])"
      ],
      "execution_count": 15,
      "outputs": [
        {
          "output_type": "execute_result",
          "data": {
            "text/plain": [
              "[<matplotlib.lines.Line2D at 0x7fee3d204710>]"
            ]
          },
          "metadata": {},
          "execution_count": 15
        },
        {
          "output_type": "display_data",
          "data": {
            "image/png": "[encoded data removed]",
            "text/plain": [
              "<Figure size 432x288 with 1 Axes>"
            ]
          },
          "metadata": {
            "needs_background": "light"
          }
        }
      ]
    },
    {
      "cell_type": "code",
      "metadata": {
        "id": "m94bQXlm9HK0"
      },
      "source": [
        "ypred180 = np.argmax(mod_class180.predict(Xtest180), axis = 1)"
      ],
      "execution_count": 16,
      "outputs": []
    },
    {
      "cell_type": "code",
      "metadata": {
        "colab": {
          "base_uri": "https://localhost:8080/"
        },
        "id": "-TA5vhEV9HgB",
        "outputId": "4590d00d-a9fd-4b3d-881e-58352875f64a"
      },
      "source": [
        "ypred180"
      ],
      "execution_count": 17,
      "outputs": [
        {
          "output_type": "execute_result",
          "data": {
            "text/plain": [
              "array([178,  33, 119, ..., 153,  52, 113])"
            ]
          },
          "metadata": {},
          "execution_count": 17
        }
      ]
    },
    {
      "cell_type": "code",
      "metadata": {
        "colab": {
          "base_uri": "https://localhost:8080/"
        },
        "id": "cm7eb7i49Hx2",
        "outputId": "80b5fb2a-93c2-4511-c685-c5c8f95f1186"
      },
      "source": [
        "ytest180"
      ],
      "execution_count": 18,
      "outputs": [
        {
          "output_type": "execute_result",
          "data": {
            "text/plain": [
              "array([162,  33, 119, ..., 153,  52, 113])"
            ]
          },
          "metadata": {},
          "execution_count": 18
        }
      ]
    },
    {
      "cell_type": "code",
      "metadata": {
        "id": "mEIapXOC9IKa"
      },
      "source": [
        "pred180 = labels[ypred180*100]"
      ],
      "execution_count": 21,
      "outputs": []
    },
    {
      "cell_type": "code",
      "metadata": {
        "id": "ccC3WUlT2T94"
      },
      "source": [
        "true180 = labels[ytest180*100]"
      ],
      "execution_count": 22,
      "outputs": []
    },
    {
      "cell_type": "code",
      "metadata": {
        "id": "aMcmfA-RkIT5",
        "colab": {
          "base_uri": "https://localhost:8080/"
        },
        "outputId": "2cebd144-f7a0-497c-c39a-02db16d26b68"
      },
      "source": [
        "time_gap(true180, pred180) #MAE in minutes"
      ],
      "execution_count": 23,
      "outputs": [
        {
          "output_type": "execute_result",
          "data": {
            "text/plain": [
              "44.32666666666667"
            ]
          },
          "metadata": {},
          "execution_count": 23
        }
      ]
    },
    {
      "cell_type": "code",
      "metadata": {
        "colab": {
          "base_uri": "https://localhost:8080/",
          "height": 296
        },
        "id": "oHC2DtRl2b8v",
        "outputId": "7b09d1e3-b218-4a32-c1b5-e106bd697bea"
      },
      "source": [
        "sns.heatmap(confusion_matrix(ytest180, ypred180), cmap=\"PuBu\")"
      ],
      "execution_count": 24,
      "outputs": [
        {
          "output_type": "execute_result",
          "data": {
            "text/plain": [
              "<matplotlib.axes._subplots.AxesSubplot at 0x7fee3d7a6250>"
            ]
          },
          "metadata": {},
          "execution_count": 24
        },
        {
          "output_type": "display_data",
          "data": {
            "image/png": "[encoded data removed]",
            "text/plain": [
              "<Figure size 432x288 with 2 Axes>"
            ]
          },
          "metadata": {
            "needs_background": "light"
          }
        }
      ]
    },
    {
      "cell_type": "code",
      "metadata": {
        "id": "Mfgy1SMI6rl0"
      },
      "source": [
        ""
      ],
      "execution_count": null,
      "outputs": []
    },
    {
      "cell_type": "code",
      "metadata": {
        "id": "i6AzhhDY6r9X"
      },
      "source": [
        ""
      ],
      "execution_count": null,
      "outputs": []
    },
    {
      "cell_type": "code",
      "metadata": {
        "id": "ld2u0xzU6sVW"
      },
      "source": [
        ""
      ],
      "execution_count": null,
      "outputs": []
    },
    {
      "cell_type": "code",
      "metadata": {
        "id": "IRPAA18B6svM"
      },
      "source": [
        ""
      ],
      "execution_count": null,
      "outputs": []
    },
    {
      "cell_type": "markdown",
      "metadata": {
        "id": "yTcqjbYC8vo-"
      },
      "source": [
        "#### 720 classes"
      ]
    },
    {
      "cell_type": "code",
      "metadata": {
        "id": "y7mrl1PV6tGj"
      },
      "source": [
        "label720 = np.array([[i]*25 for i in range(720)]).flatten()"
      ],
      "execution_count": 16,
      "outputs": []
    },
    {
      "cell_type": "code",
      "metadata": {
        "colab": {
          "base_uri": "https://localhost:8080/"
        },
        "id": "CRxXYR0s6tf2",
        "outputId": "ea2a0b34-e1ca-4f52-f827-25eb9170f25a"
      },
      "source": [
        "label720"
      ],
      "execution_count": 17,
      "outputs": [
        {
          "output_type": "execute_result",
          "data": {
            "text/plain": [
              "array([  0,   0,   0, ..., 719, 719, 719])"
            ]
          },
          "metadata": {},
          "execution_count": 17
        }
      ]
    },
    {
      "cell_type": "code",
      "metadata": {
        "id": "qu-iMymY6uAb"
      },
      "source": [
        "Xtrain720, Xtest720, ytrain720, ytest720 = train_test_split(images, label720,\n",
        "                                                       test_size=0.2, shuffle=True,\n",
        "                                                       random_state=1)"
      ],
      "execution_count": 18,
      "outputs": []
    },
    {
      "cell_type": "code",
      "metadata": {
        "colab": {
          "base_uri": "https://localhost:8080/"
        },
        "id": "OBLOsucp6u49",
        "outputId": "315af3d9-f4ec-4508-b698-8ba459252ea8"
      },
      "source": [
        "Xtrain720 = Xtrain720/255\n",
        "Xtest720= Xtest720/255\n",
        "\n",
        "print(Xtrain720.shape)\n",
        "print(ytrain720.shape)"
      ],
      "execution_count": 19,
      "outputs": [
        {
          "output_type": "stream",
          "name": "stdout",
          "text": [
            "(14400, 150, 150, 1)\n",
            "(14400,)\n"
          ]
        }
      ]
    },
    {
      "cell_type": "code",
      "metadata": {
        "id": "pzo7zZhU6vVx"
      },
      "source": [
        "mod_class720 = n_classify(720)"
      ],
      "execution_count": 20,
      "outputs": []
    },
    {
      "cell_type": "code",
      "metadata": {
        "id": "0RC43hjd6wB3"
      },
      "source": [
        "mod_class720.compile(loss = \"sparse_categorical_crossentropy\",\n",
        "                  optimizer = tf.keras.optimizers.Adam(0.001),\n",
        "                  metrics = [\"accuracy\"])"
      ],
      "execution_count": 21,
      "outputs": []
    },
    {
      "cell_type": "code",
      "metadata": {
        "colab": {
          "base_uri": "https://localhost:8080/"
        },
        "id": "AkmsQMA36wya",
        "outputId": "e86b80f6-459c-4628-cea5-f2099b37f9d9"
      },
      "source": [
        "history720 = mod_class720.fit(Xtrain720, ytrain720, batch_size=72, epochs= 40)"
      ],
      "execution_count": 22,
      "outputs": [
        {
          "output_type": "stream",
          "name": "stdout",
          "text": [
            "Epoch 1/40\n",
            "200/200 [==============================] - 18s 85ms/step - loss: 6.9151 - accuracy: 0.0018\n",
            "Epoch 2/40\n",
            "200/200 [==============================] - 17s 84ms/step - loss: 6.8010 - accuracy: 0.0016\n",
            "Epoch 3/40\n",
            "200/200 [==============================] - 17s 84ms/step - loss: 6.5970 - accuracy: 0.0028\n",
            "Epoch 4/40\n",
            "200/200 [==============================] - 17s 84ms/step - loss: 6.2625 - accuracy: 0.0065\n",
            "Epoch 5/40\n",
            "200/200 [==============================] - 17s 84ms/step - loss: 5.7942 - accuracy: 0.0155\n",
            "Epoch 6/40\n",
            "200/200 [==============================] - 17s 84ms/step - loss: 5.3370 - accuracy: 0.0265\n",
            "Epoch 7/40\n",
            "200/200 [==============================] - 17s 85ms/step - loss: 4.8493 - accuracy: 0.0419\n",
            "Epoch 8/40\n",
            "200/200 [==============================] - 17s 84ms/step - loss: 4.4144 - accuracy: 0.0565\n",
            "Epoch 9/40\n",
            "200/200 [==============================] - 17s 84ms/step - loss: 4.1308 - accuracy: 0.0684\n",
            "Epoch 10/40\n",
            "200/200 [==============================] - 17s 84ms/step - loss: 3.8682 - accuracy: 0.0892\n",
            "Epoch 11/40\n",
            "200/200 [==============================] - 17s 84ms/step - loss: 3.6465 - accuracy: 0.1019\n",
            "Epoch 12/40\n",
            "200/200 [==============================] - 17s 84ms/step - loss: 3.4359 - accuracy: 0.1253\n",
            "Epoch 13/40\n",
            "200/200 [==============================] - 17s 84ms/step - loss: 3.2619 - accuracy: 0.1396\n",
            "Epoch 14/40\n",
            "200/200 [==============================] - 17s 84ms/step - loss: 3.1170 - accuracy: 0.1564\n",
            "Epoch 15/40\n",
            "200/200 [==============================] - 17s 84ms/step - loss: 2.9780 - accuracy: 0.1725\n",
            "Epoch 16/40\n",
            "200/200 [==============================] - 17s 84ms/step - loss: 2.8387 - accuracy: 0.1908\n",
            "Epoch 17/40\n",
            "200/200 [==============================] - 17s 84ms/step - loss: 2.7247 - accuracy: 0.2099\n",
            "Epoch 18/40\n",
            "200/200 [==============================] - 17s 84ms/step - loss: 2.6343 - accuracy: 0.2219\n",
            "Epoch 19/40\n",
            "200/200 [==============================] - 17s 84ms/step - loss: 2.5189 - accuracy: 0.2349\n",
            "Epoch 20/40\n",
            "200/200 [==============================] - 17s 84ms/step - loss: 2.4255 - accuracy: 0.2558\n",
            "Epoch 21/40\n",
            "200/200 [==============================] - 17s 84ms/step - loss: 2.3467 - accuracy: 0.2697\n",
            "Epoch 22/40\n",
            "200/200 [==============================] - 17s 84ms/step - loss: 2.2783 - accuracy: 0.2826\n",
            "Epoch 23/40\n",
            "200/200 [==============================] - 17s 84ms/step - loss: 2.1881 - accuracy: 0.3055\n",
            "Epoch 24/40\n",
            "200/200 [==============================] - 17s 84ms/step - loss: 2.1310 - accuracy: 0.3185\n",
            "Epoch 25/40\n",
            "200/200 [==============================] - 17s 84ms/step - loss: 2.0652 - accuracy: 0.3351\n",
            "Epoch 26/40\n",
            "200/200 [==============================] - 17s 84ms/step - loss: 1.9736 - accuracy: 0.3574\n",
            "Epoch 27/40\n",
            "200/200 [==============================] - 17s 84ms/step - loss: 1.9243 - accuracy: 0.3644\n",
            "Epoch 28/40\n",
            "200/200 [==============================] - 17s 84ms/step - loss: 1.8386 - accuracy: 0.3960\n",
            "Epoch 29/40\n",
            "200/200 [==============================] - 17s 84ms/step - loss: 1.8052 - accuracy: 0.4041\n",
            "Epoch 30/40\n",
            "200/200 [==============================] - 17s 84ms/step - loss: 1.7400 - accuracy: 0.4268\n",
            "Epoch 31/40\n",
            "200/200 [==============================] - 17s 84ms/step - loss: 1.6738 - accuracy: 0.4387\n",
            "Epoch 32/40\n",
            "200/200 [==============================] - 17s 84ms/step - loss: 1.6018 - accuracy: 0.4624\n",
            "Epoch 33/40\n",
            "200/200 [==============================] - 17s 84ms/step - loss: 1.5675 - accuracy: 0.4720\n",
            "Epoch 34/40\n",
            "200/200 [==============================] - 17s 84ms/step - loss: 1.4976 - accuracy: 0.4978\n",
            "Epoch 35/40\n",
            "200/200 [==============================] - 17s 84ms/step - loss: 1.4479 - accuracy: 0.5104\n",
            "Epoch 36/40\n",
            "200/200 [==============================] - 17s 84ms/step - loss: 1.4061 - accuracy: 0.5267\n",
            "Epoch 37/40\n",
            "200/200 [==============================] - 17s 84ms/step - loss: 1.3706 - accuracy: 0.5424\n",
            "Epoch 38/40\n",
            "200/200 [==============================] - 17s 84ms/step - loss: 1.3247 - accuracy: 0.5531\n",
            "Epoch 39/40\n",
            "200/200 [==============================] - 17s 84ms/step - loss: 1.2802 - accuracy: 0.5663\n",
            "Epoch 40/40\n",
            "200/200 [==============================] - 17s 84ms/step - loss: 1.2364 - accuracy: 0.5857\n"
          ]
        }
      ]
    },
    {
      "cell_type": "code",
      "metadata": {
        "colab": {
          "base_uri": "https://localhost:8080/"
        },
        "id": "m9guhsm27hAP",
        "outputId": "cc442249-6b82-49f2-ff4d-59d34c75f1ab"
      },
      "source": [
        "score720 = mod_class720.evaluate(Xtest720,ytest720)"
      ],
      "execution_count": 23,
      "outputs": [
        {
          "output_type": "stream",
          "name": "stdout",
          "text": [
            "113/113 [==============================] - 2s 15ms/step - loss: 1.6595 - accuracy: 0.4314\n"
          ]
        }
      ]
    },
    {
      "cell_type": "code",
      "metadata": {
        "colab": {
          "base_uri": "https://localhost:8080/",
          "height": 282
        },
        "id": "r8FnvvSO7g6m",
        "outputId": "dac13946-f016-461c-e9a8-4c48fc94ddee"
      },
      "source": [
        "plt.plot(history720.history[\"loss\"])"
      ],
      "execution_count": 24,
      "outputs": [
        {
          "output_type": "execute_result",
          "data": {
            "text/plain": [
              "[<matplotlib.lines.Line2D at 0x7f810e479e10>]"
            ]
          },
          "metadata": {},
          "execution_count": 24
        },
        {
          "output_type": "display_data",
          "data": {
            "image/png": "[encoded data removed]",
            "text/plain": [
              "<Figure size 432x288 with 1 Axes>"
            ]
          },
          "metadata": {
            "needs_background": "light"
          }
        }
      ]
    },
    {
      "cell_type": "code",
      "metadata": {
        "colab": {
          "base_uri": "https://localhost:8080/",
          "height": 282
        },
        "id": "9tOmayos7g1D",
        "outputId": "154610bf-148c-4ada-e51d-6c64a9c26e8a"
      },
      "source": [
        "plt.plot(history720.history[\"accuracy\"])"
      ],
      "execution_count": 25,
      "outputs": [
        {
          "output_type": "execute_result",
          "data": {
            "text/plain": [
              "[<matplotlib.lines.Line2D at 0x7f810e43a650>]"
            ]
          },
          "metadata": {},
          "execution_count": 25
        },
        {
          "output_type": "display_data",
          "data": {
            "image/png": "[encoded data removed]",
            "text/plain": [
              "<Figure size 432x288 with 1 Axes>"
            ]
          },
          "metadata": {
            "needs_background": "light"
          }
        }
      ]
    },
    {
      "cell_type": "code",
      "metadata": {
        "id": "7lsp1bsj7gv9"
      },
      "source": [
        "ypred720 = np.argmax(mod_class720.predict(Xtest720), axis = 1)"
      ],
      "execution_count": 26,
      "outputs": []
    },
    {
      "cell_type": "code",
      "metadata": {
        "colab": {
          "base_uri": "https://localhost:8080/"
        },
        "id": "OrDu2WAj7goP",
        "outputId": "44176c1b-ec03-485e-e6be-64727a462e09"
      },
      "source": [
        "ypred720"
      ],
      "execution_count": 27,
      "outputs": [
        {
          "output_type": "execute_result",
          "data": {
            "text/plain": [
              "array([ 34, 226, 118, ...,  34, 661, 192])"
            ]
          },
          "metadata": {},
          "execution_count": 27
        }
      ]
    },
    {
      "cell_type": "code",
      "metadata": {
        "colab": {
          "base_uri": "https://localhost:8080/"
        },
        "id": "DK_8wKsa7gdz",
        "outputId": "4141f85a-4614-404c-9e1f-e15b27f4d501"
      },
      "source": [
        "ytest720"
      ],
      "execution_count": 28,
      "outputs": [
        {
          "output_type": "execute_result",
          "data": {
            "text/plain": [
              "array([ 35, 226, 119, ...,  34, 661, 192])"
            ]
          },
          "metadata": {},
          "execution_count": 28
        }
      ]
    },
    {
      "cell_type": "code",
      "metadata": {
        "colab": {
          "base_uri": "https://localhost:8080/"
        },
        "id": "GhXVmetm7gSN",
        "outputId": "76154a22-7f94-402d-a7e0-3aadf9b2c806"
      },
      "source": [
        "labels[ypred720*25]"
      ],
      "execution_count": 29,
      "outputs": [
        {
          "output_type": "execute_result",
          "data": {
            "text/plain": [
              "array([[ 0, 34],\n",
              "       [ 3, 46],\n",
              "       [ 1, 58],\n",
              "       ...,\n",
              "       [ 0, 34],\n",
              "       [11,  1],\n",
              "       [ 3, 12]])"
            ]
          },
          "metadata": {},
          "execution_count": 29
        }
      ]
    },
    {
      "cell_type": "code",
      "metadata": {
        "colab": {
          "base_uri": "https://localhost:8080/"
        },
        "id": "DeIfm-m67gG1",
        "outputId": "32343ef5-e760-4e46-a9c6-133f32dbe254"
      },
      "source": [
        "labels[ytest720*25]"
      ],
      "execution_count": 30,
      "outputs": [
        {
          "output_type": "execute_result",
          "data": {
            "text/plain": [
              "array([[ 0, 35],\n",
              "       [ 3, 46],\n",
              "       [ 1, 59],\n",
              "       ...,\n",
              "       [ 0, 34],\n",
              "       [11,  1],\n",
              "       [ 3, 12]])"
            ]
          },
          "metadata": {},
          "execution_count": 30
        }
      ]
    },
    {
      "cell_type": "code",
      "metadata": {
        "colab": {
          "base_uri": "https://localhost:8080/",
          "height": 296
        },
        "id": "CucnAqJs8Hsy",
        "outputId": "27b13ad0-913d-4975-cba4-2236aff7828a"
      },
      "source": [
        "sns.heatmap(confusion_matrix(ytest720, ypred720), cmap=\"Oranges\")"
      ],
      "execution_count": 31,
      "outputs": [
        {
          "output_type": "execute_result",
          "data": {
            "text/plain": [
              "<matplotlib.axes._subplots.AxesSubplot at 0x7f812410df90>"
            ]
          },
          "metadata": {},
          "execution_count": 31
        },
        {
          "output_type": "display_data",
          "data": {
            "image/png": "[encoded data removed]",
            "text/plain": [
              "<Figure size 432x288 with 2 Axes>"
            ]
          },
          "metadata": {
            "needs_background": "light"
          }
        }
      ]
    },
    {
      "cell_type": "code",
      "metadata": {
        "id": "srv7TK748HhW"
      },
      "source": [
        ""
      ],
      "execution_count": null,
      "outputs": []
    },
    {
      "cell_type": "code",
      "metadata": {
        "id": "YSG8jprr8HWJ"
      },
      "source": [
        ""
      ],
      "execution_count": null,
      "outputs": []
    },
    {
      "cell_type": "code",
      "metadata": {
        "id": "PHdxaZ_nFph5"
      },
      "source": [
        ""
      ],
      "execution_count": null,
      "outputs": []
    },
    {
      "cell_type": "code",
      "metadata": {
        "id": "TpcWhQQ-Fp_5"
      },
      "source": [
        ""
      ],
      "execution_count": null,
      "outputs": []
    },
    {
      "cell_type": "code",
      "metadata": {
        "id": "5uSCA_aRFqaV"
      },
      "source": [
        ""
      ],
      "execution_count": null,
      "outputs": []
    },
    {
      "cell_type": "code",
      "metadata": {
        "id": "B0kB5AlqFq8a"
      },
      "source": [
        ""
      ],
      "execution_count": null,
      "outputs": []
    },
    {
      "cell_type": "markdown",
      "metadata": {
        "id": "cr5EfpfGK7DB"
      },
      "source": [
        "## Multi-output model"
      ]
    },
    {
      "cell_type": "code",
      "metadata": {
        "id": "hmqFKfvAFrfR"
      },
      "source": [
        "def hour_minute(num_hour, num_minute):\n",
        "    all_inputs = keras.Input(shape = (150,150,1), \n",
        "                            name = \"classification_regression\")\n",
        "    \n",
        "    #x = layers.RandomFlip(\"horizontal_and_vertical\")(all_inputs)\n",
        "    #x = layers.RandomRotation(0.2)(x)\n",
        "    \n",
        "    \n",
        "    x = layers.Conv2D(filters= 64, kernel_size=(7,7), kernel_initializer = tf.keras.initializers.HeUniform(),\n",
        "                      padding=\"same\", activation=\"relu\")(all_inputs)\n",
        "    x = layers.MaxPooling2D((2,2))(x)\n",
        "    x = layers.BatchNormalization()(x)\n",
        "    x = layers.Dropout(0.25)(x)\n",
        "    \n",
        "    \n",
        "    x = layers.Conv2D(filters= 128, kernel_size=(3,3), kernel_initializer = tf.keras.initializers.HeUniform(),\n",
        "                      padding=\"same\", activation=\"relu\")(x)\n",
        "    x = layers.MaxPooling2D(pool_size=(2,2))(x)\n",
        "    x = layers.BatchNormalization()(x)\n",
        "    x = layers.Dropout(0.25)(x)\n",
        "    \n",
        "    \n",
        "    \n",
        "    x = layers.Conv2D(filters = 256, kernel_size=(3,3), kernel_initializer = tf.keras.initializers.HeUniform(),\n",
        "                      padding=\"same\", activation=\"relu\")(x)\n",
        "    #x = layers.Conv2D(filters = 256, kernel_size=(3,3), kernel_initializer = tf.keras.initializers.HeUniform(),\n",
        "                      #padding=\"same\", activation=\"relu\")(x)\n",
        "    x = layers.MaxPooling2D(pool_size=(2,2))(x)\n",
        "    x = layers.BatchNormalization()(x)\n",
        "    x = layers.Dropout(0.25)(x)\n",
        "\n",
        "    x = layers.Conv2D(filters = 512, kernel_size=(3,3), kernel_initializer = tf.keras.initializers.HeUniform(),\n",
        "                      padding=\"same\", activation=\"relu\")(x)\n",
        "    x = layers.MaxPooling2D(pool_size=(2,2))(x)\n",
        "    x = layers.BatchNormalization()(x)\n",
        "    x = layers.Dropout(0.25)(x)\n",
        "    \n",
        "    \n",
        "    #dense\n",
        "    #x = layers.Flatten()(x)\n",
        "    #x = layers.Dense(512, activation = \"relu\")(x)\n",
        "    #x = layers.BatchNormalization()(x)\n",
        "    #x = layers.Dropout(0.5)(x)\n",
        "    #x = layers.Dense(256, activation = \"relu\")(x)\n",
        "    #x = layers.BatchNormalization()(x)\n",
        "    #x = layers.Dropout(0.5)(x)\n",
        "    #minute_output = layers.Dense(num_minute, name = \"minute_output\")(x)\n",
        "    \n",
        "    \n",
        "    x = layers.Flatten()(x)\n",
        "    x = layers.Dense(144, activation = \"relu\")(x)\n",
        "    x = layers.BatchNormalization()(x)\n",
        "    x = layers.Dense(144, activation = \"relu\")(x)\n",
        "    x = layers.BatchNormalization()(x)\n",
        "    x = layers.Dropout(0.5)(x)\n",
        "    \n",
        "    hour_output = layers.Dense(num_hour, activation=\"softmax\", name = \"hour_output\")(x)  \n",
        "    \n",
        "    x = layers.Flatten()(x)\n",
        "    x = layers.Dense(200, activation = \"relu\")(x)\n",
        "    x = layers.BatchNormalization()(x)\n",
        "    x = layers.Dropout(0.5)(x)\n",
        "    #x = layers.Dense(100, activation = \"relu\")(x)\n",
        "    #x = layers.BatchNormalization()(x)\n",
        "    #x = layers.Dropout(0.5)(x)\n",
        "    #minute_output = layers.Dense(num_minute, activation = \"softmax\", name = \"minute_output\")(x)\n",
        "    minute_output = layers.Dense(num_minute, name = \"minute_output\")(x)\n",
        "    \n",
        "    model = keras.models.Model(inputs=all_inputs, outputs = [hour_output, minute_output])\n",
        "                               \n",
        "    return model\n",
        "    "
      ],
      "execution_count": null,
      "outputs": []
    },
    {
      "cell_type": "code",
      "metadata": {
        "id": "EQOFg-3jFvx-"
      },
      "source": [
        "mod2 = hour_minute(12,1)   \n"
      ],
      "execution_count": null,
      "outputs": []
    },
    {
      "cell_type": "code",
      "metadata": {
        "id": "bym9b5jKFxJu"
      },
      "source": [
        "mod2.compile(loss = {\"hour_output\":\"categorical_crossentropy\", \"minute_output\":\"mae\"},\n",
        "             loss_weights = {\"hour_output\":0.8, \"minute_output\":0.2},\n",
        "             optimizer = tf.keras.optimizers.Adam(0.001),\n",
        "             metrics = [\"accuracy\"]\n",
        "            )"
      ],
      "execution_count": null,
      "outputs": []
    },
    {
      "cell_type": "code",
      "metadata": {
        "colab": {
          "base_uri": "https://localhost:8080/"
        },
        "id": "gwJT4LKoFw9w",
        "outputId": "34dc7647-7945-4eac-d0af-183f85488b04"
      },
      "source": [
        "hour_1hot = keras.utils.to_categorical(labels[:,0], num_classes=12).astype(\"int\")\n",
        "print(hour_1hot)"
      ],
      "execution_count": null,
      "outputs": [
        {
          "output_type": "stream",
          "name": "stdout",
          "text": [
            "[[1 0 0 ... 0 0 0]\n",
            " [1 0 0 ... 0 0 0]\n",
            " [1 0 0 ... 0 0 0]\n",
            " ...\n",
            " [0 0 0 ... 0 0 1]\n",
            " [0 0 0 ... 0 0 1]\n",
            " [0 0 0 ... 0 0 1]]\n"
          ]
        }
      ]
    },
    {
      "cell_type": "code",
      "metadata": {
        "colab": {
          "base_uri": "https://localhost:8080/"
        },
        "id": "ziWqLvBZxTf3",
        "outputId": "dc90e4aa-73ab-4e13-9a09-0c4108e3bbe7"
      },
      "source": [
        "hour = labels[:,0].astype(\"int\")\n",
        "print(hour)"
      ],
      "execution_count": null,
      "outputs": [
        {
          "output_type": "stream",
          "name": "stdout",
          "text": [
            "[ 0  0  0 ... 11 11 11]\n"
          ]
        }
      ]
    },
    {
      "cell_type": "code",
      "metadata": {
        "colab": {
          "base_uri": "https://localhost:8080/"
        },
        "id": "a5TFKAKYllgH",
        "outputId": "e18377a4-ba4a-4c6f-a34d-006f85862231"
      },
      "source": [
        "minute_1hot = keras.utils.to_categorical(labels[:,1], num_classes = 60).astype(\"int\")\n",
        "print(minute_1hot)"
      ],
      "execution_count": null,
      "outputs": [
        {
          "output_type": "stream",
          "name": "stdout",
          "text": [
            "[[1 0 0 ... 0 0 0]\n",
            " [1 0 0 ... 0 0 0]\n",
            " [1 0 0 ... 0 0 0]\n",
            " ...\n",
            " [0 0 0 ... 0 0 1]\n",
            " [0 0 0 ... 0 0 1]\n",
            " [0 0 0 ... 0 0 1]]\n"
          ]
        }
      ]
    },
    {
      "cell_type": "code",
      "metadata": {
        "colab": {
          "base_uri": "https://localhost:8080/"
        },
        "id": "MaLreY6BFwx9",
        "outputId": "a1e8812d-88f2-4d24-90b0-42b3c9fa8db5"
      },
      "source": [
        "minute = labels[:,1].astype(\"float32\")\n",
        "print(minute)"
      ],
      "execution_count": null,
      "outputs": [
        {
          "output_type": "stream",
          "name": "stdout",
          "text": [
            "[ 0.  0.  0. ... 59. 59. 59.]\n"
          ]
        }
      ]
    },
    {
      "cell_type": "code",
      "metadata": {
        "id": "qG1HX0NLFwda"
      },
      "source": [
        "Xtrain2, Xtest2, ytrainh2, ytesth2, ytrainm2, ytestm2 = train_test_split(images, hour_1hot, minute, \n",
        "                                                                        test_size=0.2, shuffle=True,\n",
        "                                                                        random_state=2)"
      ],
      "execution_count": null,
      "outputs": []
    },
    {
      "cell_type": "code",
      "metadata": {
        "id": "BoyvXdqHF-wU"
      },
      "source": [
        "Xtrain2 = Xtrain2/255\n",
        "Xtest2 = Xtest2/255"
      ],
      "execution_count": null,
      "outputs": []
    },
    {
      "cell_type": "code",
      "metadata": {
        "colab": {
          "base_uri": "https://localhost:8080/"
        },
        "id": "qpJVoGfcF-kA",
        "outputId": "534018f3-7ce5-425e-fbc7-d5287d88c238"
      },
      "source": [
        "print(Xtrain2.shape)\n",
        "print(ytrainh2.shape)\n",
        "print(ytrainm2.shape)"
      ],
      "execution_count": null,
      "outputs": [
        {
          "output_type": "stream",
          "name": "stdout",
          "text": [
            "(14400, 150, 150, 1)\n",
            "(14400, 12)\n",
            "(14400,)\n"
          ]
        }
      ]
    },
    {
      "cell_type": "code",
      "metadata": {
        "colab": {
          "base_uri": "https://localhost:8080/"
        },
        "id": "oiasGSK0F-Zm",
        "outputId": "608f3886-8bb5-4d76-96e9-1248b3166752"
      },
      "source": [
        "history_mod2 = mod2.fit(Xtrain2, {'hour_output': ytrainh2, 'minute_output': ytrainm2}, \n",
        "                        epochs= 80, batch_size = 72)\n",
        "\n",
        "#accuracy : 0.7389  epoch=60, fully layer = 256\n",
        "#accuracy: 0.7175   epoch = 45, fully layer = 512\n",
        "#accuracy: 0.8797 minute:0.0331,  epoch = 60, fully layer = 512,  cnn#3 = 128\n",
        "\n",
        "#64*7*7, 128*3*3, 128*3*3, 256*3*3, fully layer = 256, epoch = 75, accuracy: 0.7633, 0.6761  one_hot\n",
        "#64*7*7, 128*3*3, 128*3*3, 256*3*3, fully layer = 256, epoch = 75, accuracy: 0.7633, 0.6761   digit\n",
        "#64*7*7, 128*3*3, 128*3*3, 256*3*3, fully layer = 144 144, 200, epoch = 60, accuracy: 0.9689, 0.8553   digit"
      ],
      "execution_count": null,
      "outputs": [
        {
          "output_type": "stream",
          "name": "stdout",
          "text": [
            "Epoch 1/80\n",
            "200/200 [==============================] - 18s 85ms/step - loss: 7.6984 - hour_output_loss: 2.9632 - minute_output_loss: 26.6392 - hour_output_accuracy: 0.1168 - minute_output_accuracy: 0.0167\n",
            "Epoch 2/80\n",
            "200/200 [==============================] - 17s 85ms/step - loss: 4.9906 - hour_output_loss: 2.3435 - minute_output_loss: 15.5793 - hour_output_accuracy: 0.1808 - minute_output_accuracy: 0.0163\n",
            "Epoch 3/80\n",
            "200/200 [==============================] - 17s 85ms/step - loss: 4.0539 - hour_output_loss: 2.0960 - minute_output_loss: 11.8857 - hour_output_accuracy: 0.2200 - minute_output_accuracy: 0.0162\n",
            "Epoch 4/80\n",
            "200/200 [==============================] - 17s 85ms/step - loss: 3.6766 - hour_output_loss: 1.9219 - minute_output_loss: 10.6954 - hour_output_accuracy: 0.2589 - minute_output_accuracy: 0.0160\n",
            "Epoch 5/80\n",
            "200/200 [==============================] - 17s 85ms/step - loss: 3.2936 - hour_output_loss: 1.7146 - minute_output_loss: 9.6096 - hour_output_accuracy: 0.3303 - minute_output_accuracy: 0.0160\n",
            "Epoch 6/80\n",
            "200/200 [==============================] - 17s 85ms/step - loss: 3.0142 - hour_output_loss: 1.5514 - minute_output_loss: 8.8654 - hour_output_accuracy: 0.3860 - minute_output_accuracy: 0.0156\n",
            "Epoch 7/80\n",
            "200/200 [==============================] - 17s 85ms/step - loss: 2.7422 - hour_output_loss: 1.3914 - minute_output_loss: 8.1456 - hour_output_accuracy: 0.4448 - minute_output_accuracy: 0.0157\n",
            "Epoch 8/80\n",
            "200/200 [==============================] - 17s 85ms/step - loss: 2.4657 - hour_output_loss: 1.2288 - minute_output_loss: 7.4130 - hour_output_accuracy: 0.5095 - minute_output_accuracy: 0.0158\n",
            "Epoch 9/80\n",
            "200/200 [==============================] - 17s 85ms/step - loss: 2.2353 - hour_output_loss: 1.0999 - minute_output_loss: 6.7767 - hour_output_accuracy: 0.5695 - minute_output_accuracy: 0.0156\n",
            "Epoch 10/80\n",
            "200/200 [==============================] - 17s 85ms/step - loss: 2.0551 - hour_output_loss: 0.9875 - minute_output_loss: 6.3256 - hour_output_accuracy: 0.6065 - minute_output_accuracy: 0.0153\n",
            "Epoch 11/80\n",
            "200/200 [==============================] - 17s 85ms/step - loss: 1.8740 - hour_output_loss: 0.8796 - minute_output_loss: 5.8517 - hour_output_accuracy: 0.6563 - minute_output_accuracy: 0.0152\n",
            "Epoch 12/80\n",
            "200/200 [==============================] - 17s 85ms/step - loss: 1.7567 - hour_output_loss: 0.7947 - minute_output_loss: 5.6046 - hour_output_accuracy: 0.6854 - minute_output_accuracy: 0.0154\n",
            "Epoch 13/80\n",
            "200/200 [==============================] - 17s 85ms/step - loss: 1.6156 - hour_output_loss: 0.7176 - minute_output_loss: 5.2076 - hour_output_accuracy: 0.7202 - minute_output_accuracy: 0.0142\n",
            "Epoch 14/80\n",
            "200/200 [==============================] - 17s 85ms/step - loss: 1.5376 - hour_output_loss: 0.6374 - minute_output_loss: 5.1383 - hour_output_accuracy: 0.7595 - minute_output_accuracy: 0.0148\n",
            "Epoch 15/80\n",
            "200/200 [==============================] - 17s 86ms/step - loss: 1.4331 - hour_output_loss: 0.5730 - minute_output_loss: 4.8735 - hour_output_accuracy: 0.7812 - minute_output_accuracy: 0.0162\n",
            "Epoch 16/80\n",
            "200/200 [==============================] - 17s 85ms/step - loss: 1.3444 - hour_output_loss: 0.5211 - minute_output_loss: 4.6375 - hour_output_accuracy: 0.8014 - minute_output_accuracy: 0.0144\n",
            "Epoch 17/80\n",
            "200/200 [==============================] - 17s 85ms/step - loss: 1.2994 - hour_output_loss: 0.4735 - minute_output_loss: 4.6031 - hour_output_accuracy: 0.8167 - minute_output_accuracy: 0.0151\n",
            "Epoch 18/80\n",
            "200/200 [==============================] - 17s 85ms/step - loss: 1.2321 - hour_output_loss: 0.4314 - minute_output_loss: 4.4352 - hour_output_accuracy: 0.8378 - minute_output_accuracy: 0.0149\n",
            "Epoch 19/80\n",
            "200/200 [==============================] - 17s 85ms/step - loss: 1.1836 - hour_output_loss: 0.3958 - minute_output_loss: 4.3347 - hour_output_accuracy: 0.8548 - minute_output_accuracy: 0.0142\n",
            "Epoch 20/80\n",
            "200/200 [==============================] - 17s 85ms/step - loss: 1.1551 - hour_output_loss: 0.3728 - minute_output_loss: 4.2842 - hour_output_accuracy: 0.8628 - minute_output_accuracy: 0.0158\n",
            "Epoch 21/80\n",
            "200/200 [==============================] - 17s 85ms/step - loss: 1.1253 - hour_output_loss: 0.3458 - minute_output_loss: 4.2433 - hour_output_accuracy: 0.8727 - minute_output_accuracy: 0.0144\n",
            "Epoch 22/80\n",
            "200/200 [==============================] - 17s 85ms/step - loss: 1.0863 - hour_output_loss: 0.3208 - minute_output_loss: 4.1486 - hour_output_accuracy: 0.8830 - minute_output_accuracy: 0.0160\n",
            "Epoch 23/80\n",
            "200/200 [==============================] - 17s 85ms/step - loss: 1.0419 - hour_output_loss: 0.3047 - minute_output_loss: 3.9908 - hour_output_accuracy: 0.8874 - minute_output_accuracy: 0.0154\n",
            "Epoch 24/80\n",
            "200/200 [==============================] - 17s 85ms/step - loss: 0.9994 - hour_output_loss: 0.2777 - minute_output_loss: 3.8861 - hour_output_accuracy: 0.8995 - minute_output_accuracy: 0.0149\n",
            "Epoch 25/80\n",
            "200/200 [==============================] - 17s 86ms/step - loss: 0.9862 - hour_output_loss: 0.2614 - minute_output_loss: 3.8854 - hour_output_accuracy: 0.9074 - minute_output_accuracy: 0.0152\n",
            "Epoch 26/80\n",
            "200/200 [==============================] - 17s 85ms/step - loss: 0.9618 - hour_output_loss: 0.2381 - minute_output_loss: 3.8564 - hour_output_accuracy: 0.9134 - minute_output_accuracy: 0.0157\n",
            "Epoch 27/80\n",
            "200/200 [==============================] - 17s 85ms/step - loss: 0.9442 - hour_output_loss: 0.2213 - minute_output_loss: 3.8355 - hour_output_accuracy: 0.9216 - minute_output_accuracy: 0.0167\n",
            "Epoch 28/80\n",
            "200/200 [==============================] - 17s 85ms/step - loss: 0.9224 - hour_output_loss: 0.2152 - minute_output_loss: 3.7510 - hour_output_accuracy: 0.9216 - minute_output_accuracy: 0.0158\n",
            "Epoch 29/80\n",
            "200/200 [==============================] - 17s 85ms/step - loss: 0.9113 - hour_output_loss: 0.2051 - minute_output_loss: 3.7360 - hour_output_accuracy: 0.9260 - minute_output_accuracy: 0.0154\n",
            "Epoch 30/80\n",
            "200/200 [==============================] - 17s 85ms/step - loss: 0.8857 - hour_output_loss: 0.1988 - minute_output_loss: 3.6331 - hour_output_accuracy: 0.9287 - minute_output_accuracy: 0.0163\n",
            "Epoch 31/80\n",
            "200/200 [==============================] - 17s 85ms/step - loss: 0.8962 - hour_output_loss: 0.1857 - minute_output_loss: 3.7381 - hour_output_accuracy: 0.9359 - minute_output_accuracy: 0.0160\n",
            "Epoch 32/80\n",
            "200/200 [==============================] - 17s 85ms/step - loss: 0.8581 - hour_output_loss: 0.1710 - minute_output_loss: 3.6063 - hour_output_accuracy: 0.9397 - minute_output_accuracy: 0.0152\n",
            "Epoch 33/80\n",
            "200/200 [==============================] - 17s 85ms/step - loss: 0.8548 - hour_output_loss: 0.1628 - minute_output_loss: 3.6231 - hour_output_accuracy: 0.9438 - minute_output_accuracy: 0.0168\n",
            "Epoch 34/80\n",
            "200/200 [==============================] - 17s 85ms/step - loss: 0.8518 - hour_output_loss: 0.1568 - minute_output_loss: 3.6316 - hour_output_accuracy: 0.9428 - minute_output_accuracy: 0.0160\n",
            "Epoch 35/80\n",
            "200/200 [==============================] - 17s 85ms/step - loss: 0.8449 - hour_output_loss: 0.1558 - minute_output_loss: 3.6014 - hour_output_accuracy: 0.9418 - minute_output_accuracy: 0.0172\n",
            "Epoch 36/80\n",
            "200/200 [==============================] - 17s 85ms/step - loss: 0.8362 - hour_output_loss: 0.1502 - minute_output_loss: 3.5802 - hour_output_accuracy: 0.9456 - minute_output_accuracy: 0.0165\n",
            "Epoch 37/80\n",
            "200/200 [==============================] - 17s 85ms/step - loss: 0.8321 - hour_output_loss: 0.1501 - minute_output_loss: 3.5599 - hour_output_accuracy: 0.9462 - minute_output_accuracy: 0.0170\n",
            "Epoch 38/80\n",
            "200/200 [==============================] - 17s 85ms/step - loss: 0.8422 - hour_output_loss: 0.1519 - minute_output_loss: 3.6037 - hour_output_accuracy: 0.9476 - minute_output_accuracy: 0.0163\n",
            "Epoch 39/80\n",
            "200/200 [==============================] - 17s 86ms/step - loss: 0.7923 - hour_output_loss: 0.1327 - minute_output_loss: 3.4306 - hour_output_accuracy: 0.9516 - minute_output_accuracy: 0.0160\n",
            "Epoch 40/80\n",
            "200/200 [==============================] - 17s 85ms/step - loss: 0.7899 - hour_output_loss: 0.1267 - minute_output_loss: 3.4430 - hour_output_accuracy: 0.9545 - minute_output_accuracy: 0.0164\n",
            "Epoch 41/80\n",
            "200/200 [==============================] - 17s 85ms/step - loss: 0.7940 - hour_output_loss: 0.1181 - minute_output_loss: 3.4976 - hour_output_accuracy: 0.9586 - minute_output_accuracy: 0.0165\n",
            "Epoch 42/80\n",
            "200/200 [==============================] - 17s 85ms/step - loss: 0.7943 - hour_output_loss: 0.1224 - minute_output_loss: 3.4821 - hour_output_accuracy: 0.9578 - minute_output_accuracy: 0.0158\n",
            "Epoch 43/80\n",
            "200/200 [==============================] - 17s 85ms/step - loss: 0.7770 - hour_output_loss: 0.1076 - minute_output_loss: 3.4546 - hour_output_accuracy: 0.9617 - minute_output_accuracy: 0.0160\n",
            "Epoch 44/80\n",
            "200/200 [==============================] - 17s 85ms/step - loss: 0.7625 - hour_output_loss: 0.1097 - minute_output_loss: 3.3734 - hour_output_accuracy: 0.9622 - minute_output_accuracy: 0.0172\n",
            "Epoch 45/80\n",
            "200/200 [==============================] - 17s 85ms/step - loss: 0.7632 - hour_output_loss: 0.1035 - minute_output_loss: 3.4021 - hour_output_accuracy: 0.9647 - minute_output_accuracy: 0.0168\n",
            "Epoch 46/80\n",
            "200/200 [==============================] - 17s 85ms/step - loss: 0.7532 - hour_output_loss: 0.0992 - minute_output_loss: 3.3689 - hour_output_accuracy: 0.9644 - minute_output_accuracy: 0.0176\n",
            "Epoch 47/80\n",
            "200/200 [==============================] - 17s 85ms/step - loss: 0.7574 - hour_output_loss: 0.0975 - minute_output_loss: 3.3968 - hour_output_accuracy: 0.9671 - minute_output_accuracy: 0.0160\n",
            "Epoch 48/80\n",
            "200/200 [==============================] - 17s 85ms/step - loss: 0.7680 - hour_output_loss: 0.1067 - minute_output_loss: 3.4132 - hour_output_accuracy: 0.9628 - minute_output_accuracy: 0.0163\n",
            "Epoch 49/80\n",
            "200/200 [==============================] - 17s 85ms/step - loss: 0.7306 - hour_output_loss: 0.0938 - minute_output_loss: 3.2777 - hour_output_accuracy: 0.9691 - minute_output_accuracy: 0.0165\n",
            "Epoch 50/80\n",
            "200/200 [==============================] - 17s 85ms/step - loss: 0.7494 - hour_output_loss: 0.0982 - minute_output_loss: 3.3542 - hour_output_accuracy: 0.9675 - minute_output_accuracy: 0.0174\n",
            "Epoch 51/80\n",
            "200/200 [==============================] - 17s 85ms/step - loss: 0.7400 - hour_output_loss: 0.0967 - minute_output_loss: 3.3131 - hour_output_accuracy: 0.9653 - minute_output_accuracy: 0.0165\n",
            "Epoch 52/80\n",
            "200/200 [==============================] - 17s 85ms/step - loss: 0.7480 - hour_output_loss: 0.0964 - minute_output_loss: 3.3545 - hour_output_accuracy: 0.9666 - minute_output_accuracy: 0.0174\n",
            "Epoch 53/80\n",
            "200/200 [==============================] - 17s 85ms/step - loss: 0.7324 - hour_output_loss: 0.0987 - minute_output_loss: 3.2674 - hour_output_accuracy: 0.9651 - minute_output_accuracy: 0.0172\n",
            "Epoch 54/80\n",
            "200/200 [==============================] - 17s 85ms/step - loss: 0.7178 - hour_output_loss: 0.0864 - minute_output_loss: 3.2434 - hour_output_accuracy: 0.9708 - minute_output_accuracy: 0.0164\n",
            "Epoch 55/80\n",
            "200/200 [==============================] - 17s 85ms/step - loss: 0.7239 - hour_output_loss: 0.0905 - minute_output_loss: 3.2574 - hour_output_accuracy: 0.9688 - minute_output_accuracy: 0.0167\n",
            "Epoch 56/80\n",
            "200/200 [==============================] - 17s 85ms/step - loss: 0.7231 - hour_output_loss: 0.0874 - minute_output_loss: 3.2658 - hour_output_accuracy: 0.9704 - minute_output_accuracy: 0.0165\n",
            "Epoch 57/80\n",
            "200/200 [==============================] - 17s 85ms/step - loss: 0.7392 - hour_output_loss: 0.0901 - minute_output_loss: 3.3355 - hour_output_accuracy: 0.9700 - minute_output_accuracy: 0.0176\n",
            "Epoch 58/80\n",
            "200/200 [==============================] - 17s 85ms/step - loss: 0.7241 - hour_output_loss: 0.0767 - minute_output_loss: 3.3141 - hour_output_accuracy: 0.9740 - minute_output_accuracy: 0.0174\n",
            "Epoch 59/80\n",
            "200/200 [==============================] - 17s 85ms/step - loss: 0.7130 - hour_output_loss: 0.0779 - minute_output_loss: 3.2536 - hour_output_accuracy: 0.9735 - minute_output_accuracy: 0.0160\n",
            "Epoch 60/80\n",
            "200/200 [==============================] - 17s 85ms/step - loss: 0.7069 - hour_output_loss: 0.0832 - minute_output_loss: 3.2015 - hour_output_accuracy: 0.9708 - minute_output_accuracy: 0.0169\n",
            "Epoch 61/80\n",
            "200/200 [==============================] - 17s 85ms/step - loss: 0.7172 - hour_output_loss: 0.0729 - minute_output_loss: 3.2947 - hour_output_accuracy: 0.9751 - minute_output_accuracy: 0.0156\n",
            "Epoch 62/80\n",
            "200/200 [==============================] - 17s 85ms/step - loss: 0.6940 - hour_output_loss: 0.0693 - minute_output_loss: 3.1929 - hour_output_accuracy: 0.9771 - minute_output_accuracy: 0.0154\n",
            "Epoch 63/80\n",
            "200/200 [==============================] - 17s 84ms/step - loss: 0.6930 - hour_output_loss: 0.0672 - minute_output_loss: 3.1964 - hour_output_accuracy: 0.9776 - minute_output_accuracy: 0.0167\n",
            "Epoch 64/80\n",
            "200/200 [==============================] - 17s 84ms/step - loss: 0.7213 - hour_output_loss: 0.0739 - minute_output_loss: 3.3107 - hour_output_accuracy: 0.9747 - minute_output_accuracy: 0.0158\n",
            "Epoch 65/80\n",
            "200/200 [==============================] - 17s 84ms/step - loss: 0.7044 - hour_output_loss: 0.0722 - minute_output_loss: 3.2330 - hour_output_accuracy: 0.9760 - minute_output_accuracy: 0.0151\n",
            "Epoch 66/80\n",
            "200/200 [==============================] - 17s 84ms/step - loss: 0.6832 - hour_output_loss: 0.0601 - minute_output_loss: 3.1756 - hour_output_accuracy: 0.9799 - minute_output_accuracy: 0.0167\n",
            "Epoch 67/80\n",
            "200/200 [==============================] - 17s 84ms/step - loss: 0.6847 - hour_output_loss: 0.0656 - minute_output_loss: 3.1612 - hour_output_accuracy: 0.9776 - minute_output_accuracy: 0.0164\n",
            "Epoch 68/80\n",
            "200/200 [==============================] - 17s 84ms/step - loss: 0.6768 - hour_output_loss: 0.0608 - minute_output_loss: 3.1406 - hour_output_accuracy: 0.9802 - minute_output_accuracy: 0.0153\n",
            "Epoch 69/80\n",
            "200/200 [==============================] - 17s 84ms/step - loss: 0.6807 - hour_output_loss: 0.0637 - minute_output_loss: 3.1487 - hour_output_accuracy: 0.9783 - minute_output_accuracy: 0.0167\n",
            "Epoch 70/80\n",
            "200/200 [==============================] - 17s 84ms/step - loss: 0.6801 - hour_output_loss: 0.0645 - minute_output_loss: 3.1425 - hour_output_accuracy: 0.9776 - minute_output_accuracy: 0.0170\n",
            "Epoch 71/80\n",
            "200/200 [==============================] - 17s 84ms/step - loss: 0.6730 - hour_output_loss: 0.0630 - minute_output_loss: 3.1131 - hour_output_accuracy: 0.9789 - minute_output_accuracy: 0.0173\n",
            "Epoch 72/80\n",
            "200/200 [==============================] - 17s 85ms/step - loss: 0.6586 - hour_output_loss: 0.0535 - minute_output_loss: 3.0792 - hour_output_accuracy: 0.9819 - minute_output_accuracy: 0.0167\n",
            "Epoch 73/80\n",
            "200/200 [==============================] - 17s 85ms/step - loss: 0.6982 - hour_output_loss: 0.0551 - minute_output_loss: 3.2705 - hour_output_accuracy: 0.9815 - minute_output_accuracy: 0.0171\n",
            "Epoch 74/80\n",
            "200/200 [==============================] - 17s 85ms/step - loss: 0.6753 - hour_output_loss: 0.0578 - minute_output_loss: 3.1456 - hour_output_accuracy: 0.9811 - minute_output_accuracy: 0.0167\n",
            "Epoch 75/80\n",
            "200/200 [==============================] - 17s 85ms/step - loss: 0.6645 - hour_output_loss: 0.0576 - minute_output_loss: 3.0917 - hour_output_accuracy: 0.9807 - minute_output_accuracy: 0.0170\n",
            "Epoch 76/80\n",
            "200/200 [==============================] - 17s 85ms/step - loss: 0.6803 - hour_output_loss: 0.0520 - minute_output_loss: 3.1933 - hour_output_accuracy: 0.9837 - minute_output_accuracy: 0.0169\n",
            "Epoch 77/80\n",
            "200/200 [==============================] - 17s 86ms/step - loss: 0.6688 - hour_output_loss: 0.0590 - minute_output_loss: 3.1080 - hour_output_accuracy: 0.9801 - minute_output_accuracy: 0.0171\n",
            "Epoch 78/80\n",
            "200/200 [==============================] - 17s 85ms/step - loss: 0.6751 - hour_output_loss: 0.0550 - minute_output_loss: 3.1556 - hour_output_accuracy: 0.9815 - minute_output_accuracy: 0.0150\n",
            "Epoch 79/80\n",
            "200/200 [==============================] - 17s 85ms/step - loss: 0.6873 - hour_output_loss: 0.0581 - minute_output_loss: 3.2040 - hour_output_accuracy: 0.9810 - minute_output_accuracy: 0.0168\n",
            "Epoch 80/80\n",
            "200/200 [==============================] - 17s 85ms/step - loss: 0.6658 - hour_output_loss: 0.0534 - minute_output_loss: 3.1156 - hour_output_accuracy: 0.9832 - minute_output_accuracy: 0.0165\n"
          ]
        }
      ]
    },
    {
      "cell_type": "code",
      "metadata": {
        "id": "HD96SeLlGGeF",
        "colab": {
          "base_uri": "https://localhost:8080/"
        },
        "outputId": "1660292d-eedc-42f3-ab62-b31aa9df916d"
      },
      "source": [
        "score_mod2 = mod2.evaluate(Xtest2, [ytesth2, ytestm2])"
      ],
      "execution_count": null,
      "outputs": [
        {
          "output_type": "stream",
          "name": "stdout",
          "text": [
            "113/113 [==============================] - 2s 16ms/step - loss: 0.4258 - hour_output_loss: 0.0917 - minute_output_loss: 1.7620 - hour_output_accuracy: 0.9706 - minute_output_accuracy: 0.0192\n"
          ]
        }
      ]
    },
    {
      "cell_type": "code",
      "metadata": {
        "id": "wTh11gVIGGP_",
        "colab": {
          "base_uri": "https://localhost:8080/",
          "height": 282
        },
        "outputId": "40f0d57f-c258-4923-ce1b-a69da904812d"
      },
      "source": [
        "plt.plot(history_mod2.history[\"hour_output_loss\"])"
      ],
      "execution_count": null,
      "outputs": [
        {
          "output_type": "execute_result",
          "data": {
            "text/plain": [
              "[<matplotlib.lines.Line2D at 0x7f78600e6dd0>]"
            ]
          },
          "metadata": {},
          "execution_count": 39
        },
        {
          "output_type": "display_data",
          "data": {
            "image/png": "[encoded data removed]",
            "text/plain": [
              "<Figure size 432x288 with 1 Axes>"
            ]
          },
          "metadata": {
            "needs_background": "light"
          }
        }
      ]
    },
    {
      "cell_type": "code",
      "metadata": {
        "colab": {
          "base_uri": "https://localhost:8080/",
          "height": 282
        },
        "id": "mBpXViN0CXU_",
        "outputId": "d3cb1e2a-aa66-4212-cb5e-9c93916a1357"
      },
      "source": [
        "plt.plot(history_mod2.history[\"minute_output_loss\"])"
      ],
      "execution_count": null,
      "outputs": [
        {
          "output_type": "execute_result",
          "data": {
            "text/plain": [
              "[<matplotlib.lines.Line2D at 0x7f78600b7590>]"
            ]
          },
          "metadata": {},
          "execution_count": 40
        },
        {
          "output_type": "display_data",
          "data": {
            "image/png": "[encoded data removed]",
            "text/plain": [
              "<Figure size 432x288 with 1 Axes>"
            ]
          },
          "metadata": {
            "needs_background": "light"
          }
        }
      ]
    },
    {
      "cell_type": "code",
      "metadata": {
        "id": "McrWhb0XGF-m",
        "colab": {
          "base_uri": "https://localhost:8080/",
          "height": 282
        },
        "outputId": "54787003-8718-41f7-9186-cb0b0f994f86"
      },
      "source": [
        "plt.plot(history_mod2.history[\"hour_output_accuracy\"])"
      ],
      "execution_count": null,
      "outputs": [
        {
          "output_type": "execute_result",
          "data": {
            "text/plain": [
              "[<matplotlib.lines.Line2D at 0x7f77d67daf90>]"
            ]
          },
          "metadata": {},
          "execution_count": 41
        },
        {
          "output_type": "display_data",
          "data": {
            "image/png": "[encoded data removed]",
            "text/plain": [
              "<Figure size 432x288 with 1 Axes>"
            ]
          },
          "metadata": {
            "needs_background": "light"
          }
        }
      ]
    },
    {
      "cell_type": "code",
      "metadata": {
        "id": "kJdZnq3sG0zY",
        "colab": {
          "base_uri": "https://localhost:8080/",
          "height": 282
        },
        "outputId": "8246ea55-dfb4-4dc5-fa28-5389f6817d70"
      },
      "source": [
        "plt.plot(history_mod2.history[\"minute_output_accuracy\"])"
      ],
      "execution_count": null,
      "outputs": [
        {
          "output_type": "execute_result",
          "data": {
            "text/plain": [
              "[<matplotlib.lines.Line2D at 0x7f77d674b950>]"
            ]
          },
          "metadata": {},
          "execution_count": 42
        },
        {
          "output_type": "display_data",
          "data": {
            "image/png": "[encoded data removed]",
            "text/plain": [
              "<Figure size 432x288 with 1 Axes>"
            ]
          },
          "metadata": {
            "needs_background": "light"
          }
        }
      ]
    },
    {
      "cell_type": "code",
      "metadata": {
        "id": "tjIDVAxKG0lI"
      },
      "source": [
        "ypred_hour_values, ypred_minute_values = mod2.predict(Xtest2)"
      ],
      "execution_count": null,
      "outputs": []
    },
    {
      "cell_type": "code",
      "metadata": {
        "id": "ji6uroHyG0Xq"
      },
      "source": [
        "ypred_hour = np.argmax(ypred_hour_values, axis = 1).astype(\"int\")"
      ],
      "execution_count": null,
      "outputs": []
    },
    {
      "cell_type": "code",
      "metadata": {
        "colab": {
          "base_uri": "https://localhost:8080/"
        },
        "id": "rh_iQBV0-8oj",
        "outputId": "5c4d505e-449b-44a0-9a4f-afcce121a689"
      },
      "source": [
        "ypred_hour"
      ],
      "execution_count": null,
      "outputs": [
        {
          "output_type": "execute_result",
          "data": {
            "text/plain": [
              "array([ 4,  0, 11, ...,  5,  0,  0])"
            ]
          },
          "metadata": {},
          "execution_count": 45
        }
      ]
    },
    {
      "cell_type": "code",
      "metadata": {
        "id": "HOsoQICqDO5e"
      },
      "source": [
        "ytrue_hour = np.argmax(ytesth2, axis = 1).astype(\"int\")"
      ],
      "execution_count": null,
      "outputs": []
    },
    {
      "cell_type": "code",
      "metadata": {
        "colab": {
          "base_uri": "https://localhost:8080/"
        },
        "id": "tQ81_HfM---c",
        "outputId": "0a87e46a-1ef0-4bc3-d734-63f7ffb59cc8"
      },
      "source": [
        "ytrue_hour"
      ],
      "execution_count": null,
      "outputs": [
        {
          "output_type": "execute_result",
          "data": {
            "text/plain": [
              "array([ 4,  0, 11, ...,  5,  0,  0])"
            ]
          },
          "metadata": {},
          "execution_count": 47
        }
      ]
    },
    {
      "cell_type": "code",
      "metadata": {
        "id": "uds8XDJPuxte"
      },
      "source": [
        "hour_diff = []\n",
        "for h1,h2 in zip(ytrue_hour, ypred_hour):\n",
        "  if h1 > h2 and h2 == 0:\n",
        "    hour_diff.append(abs(h1*60.0 - (h2 + 12)*60.0))\n",
        "  else:\n",
        "    hour_diff.append(abs(h1*60.0 - h2*60.0))"
      ],
      "execution_count": null,
      "outputs": []
    },
    {
      "cell_type": "code",
      "metadata": {
        "colab": {
          "base_uri": "https://localhost:8080/"
        },
        "id": "PLLTa7fmuxeF",
        "outputId": "ef4f7103-0b61-4e7d-b270-6bf819b536e6"
      },
      "source": [
        "np.mean(hour_diff) # difference in minutes of from hour output"
      ],
      "execution_count": null,
      "outputs": [
        {
          "output_type": "execute_result",
          "data": {
            "text/plain": [
              "3.3"
            ]
          },
          "metadata": {},
          "execution_count": 60
        }
      ]
    },
    {
      "cell_type": "code",
      "metadata": {
        "colab": {
          "base_uri": "https://localhost:8080/",
          "height": 282
        },
        "id": "yA0ek22QEEwB",
        "outputId": "5d3a0dd7-e1a9-45f7-a8eb-6034bdf54c98"
      },
      "source": [
        "sns.heatmap(confusion_matrix(ytrue_hour, ypred_hour), annot = True, cmap=\"Blues\")"
      ],
      "execution_count": null,
      "outputs": [
        {
          "output_type": "execute_result",
          "data": {
            "text/plain": [
              "<matplotlib.axes._subplots.AxesSubplot at 0x7f77d64d4050>"
            ]
          },
          "metadata": {},
          "execution_count": 49
        },
        {
          "output_type": "display_data",
          "data": {
            "image/png": "[encoded data removed]",
            "text/plain": [
              "<Figure size 432x288 with 2 Axes>"
            ]
          },
          "metadata": {
            "needs_background": "light"
          }
        }
      ]
    },
    {
      "cell_type": "code",
      "metadata": {
        "id": "XW5uJLo5G0Ax",
        "colab": {
          "base_uri": "https://localhost:8080/"
        },
        "outputId": "7f8e8b06-0b09-4045-8668-a0253b555509"
      },
      "source": [
        "ypred_minute_values.flatten()"
      ],
      "execution_count": null,
      "outputs": [
        {
          "output_type": "execute_result",
          "data": {
            "text/plain": [
              "array([50.26993  , 53.16147  , 22.781166 , ..., 29.738705 , 28.366724 ,\n",
              "        2.7528582], dtype=float32)"
            ]
          },
          "metadata": {},
          "execution_count": 50
        }
      ]
    },
    {
      "cell_type": "code",
      "metadata": {
        "id": "jzTcmAcaDhBB",
        "colab": {
          "base_uri": "https://localhost:8080/"
        },
        "outputId": "801edb1e-5ef3-4e33-b8d4-aab0dadca378"
      },
      "source": [
        "ytestm2"
      ],
      "execution_count": null,
      "outputs": [
        {
          "output_type": "execute_result",
          "data": {
            "text/plain": [
              "array([50., 50., 20., ..., 29., 29.,  5.], dtype=float32)"
            ]
          },
          "metadata": {},
          "execution_count": 51
        }
      ]
    },
    {
      "cell_type": "code",
      "metadata": {
        "colab": {
          "base_uri": "https://localhost:8080/"
        },
        "id": "H_Qvh701s_1R",
        "outputId": "19b4e1d0-ed9c-4213-a75d-072ef3301871"
      },
      "source": [
        "np.mean(abs(ytestm2 - ypred_minute_values.flatten()))"
      ],
      "execution_count": null,
      "outputs": [
        {
          "output_type": "execute_result",
          "data": {
            "text/plain": [
              "1.7620379"
            ]
          },
          "metadata": {},
          "execution_count": 63
        }
      ]
    },
    {
      "cell_type": "code",
      "metadata": {
        "colab": {
          "base_uri": "https://localhost:8080/"
        },
        "id": "yKdsWtEQs_xk",
        "outputId": "1449e06e-3791-4a54-cec6-362950e91011"
      },
      "source": [
        "3.3 + 1.7620379  #total time errors in minutes from multi-output model"
      ],
      "execution_count": null,
      "outputs": [
        {
          "output_type": "execute_result",
          "data": {
            "text/plain": [
              "5.0620379"
            ]
          },
          "metadata": {},
          "execution_count": 64
        }
      ]
    },
    {
      "cell_type": "code",
      "metadata": {
        "id": "_wgRUJH8GeoS",
        "colab": {
          "base_uri": "https://localhost:8080/",
          "height": 286
        },
        "outputId": "ad6f0de9-157d-4a18-f111-2837a67c5298"
      },
      "source": [
        "sns.heatmap(confusion_matrix(ytestm2, ypred_minute), cmap=\"Blues\") #when treat minutes as classes"
      ],
      "execution_count": null,
      "outputs": [
        {
          "output_type": "execute_result",
          "data": {
            "text/plain": [
              "<matplotlib.axes._subplots.AxesSubplot at 0x7fda291336d0>"
            ]
          },
          "metadata": {},
          "execution_count": 102
        },
        {
          "output_type": "display_data",
          "data": {
            "image/png": "[encoded data removed]",
            "text/plain": [
              "<Figure size 432x288 with 2 Axes>"
            ]
          },
          "metadata": {
            "needs_background": "light"
          }
        }
      ]
    },
    {
      "cell_type": "code",
      "metadata": {
        "id": "zIza07LlIwhO"
      },
      "source": [
        ""
      ],
      "execution_count": null,
      "outputs": []
    },
    {
      "cell_type": "code",
      "metadata": {
        "id": "IlGIU_5DKLkW"
      },
      "source": [
        ""
      ],
      "execution_count": null,
      "outputs": []
    },
    {
      "cell_type": "code",
      "metadata": {
        "id": "wudo1gWNKLhf"
      },
      "source": [
        ""
      ],
      "execution_count": null,
      "outputs": []
    },
    {
      "cell_type": "code",
      "metadata": {
        "id": "h8HPIBzWKLe-"
      },
      "source": [
        ""
      ],
      "execution_count": null,
      "outputs": []
    },
    {
      "cell_type": "code",
      "metadata": {
        "id": "cHCxAiSZKLcr"
      },
      "source": [
        ""
      ],
      "execution_count": null,
      "outputs": []
    },
    {
      "cell_type": "code",
      "metadata": {
        "id": "ehpfbzHnKLZn"
      },
      "source": [
        ""
      ],
      "execution_count": null,
      "outputs": []
    },
    {
      "cell_type": "code",
      "metadata": {
        "id": "LLwfVe0yIwOk"
      },
      "source": [
        "mod2.compile(loss = {\"hour_output\":\"categorical_crossentropy\", \"minute_output\":\"sparse_categorical_crossentropy\"},\n",
        "             loss_weights = {\"hour_output\":1.0, \"minute_output\":1.0},\n",
        "             optimizer = tf.keras.optimizers.Adam(0.001),\n",
        "             metrics = [\"accuracy\"]\n",
        "            )"
      ],
      "execution_count": null,
      "outputs": []
    },
    {
      "cell_type": "code",
      "metadata": {
        "id": "Jwih8TleGefu",
        "colab": {
          "base_uri": "https://localhost:8080/"
        },
        "outputId": "2dd2b241-e548-4981-ccfc-839e8b9fb6ab"
      },
      "source": [
        "\n",
        "history_mod2_1 = mod2.fit(Xtrain2, {'hour_output': ytrainh2, 'minute_output': ytrainm2}, \n",
        "                        epochs= 75, batch_size = 72)\n",
        "\n",
        "#64*7*7, 128*3*3, 128*3*3, 256*3*3,  fully connected layer = 512, epoch=70, accuracy: 0.913888871, 0.727500021 \n"
      ],
      "execution_count": null,
      "outputs": [
        {
          "output_type": "stream",
          "name": "stdout",
          "text": [
            "Epoch 1/70\n",
            "200/200 [==============================] - 15s 71ms/step - loss: 7.7881 - hour_output_loss: 3.0188 - minute_output_loss: 4.7693 - hour_output_accuracy: 0.1012 - minute_output_accuracy: 0.0210\n",
            "Epoch 2/70\n",
            "200/200 [==============================] - 14s 71ms/step - loss: 6.8054 - hour_output_loss: 2.5236 - minute_output_loss: 4.2818 - hour_output_accuracy: 0.1476 - minute_output_accuracy: 0.0301\n",
            "Epoch 3/70\n",
            "200/200 [==============================] - 14s 70ms/step - loss: 6.2470 - hour_output_loss: 2.2506 - minute_output_loss: 3.9965 - hour_output_accuracy: 0.1853 - minute_output_accuracy: 0.0449\n",
            "Epoch 4/70\n",
            "200/200 [==============================] - 14s 70ms/step - loss: 5.8256 - hour_output_loss: 2.0502 - minute_output_loss: 3.7753 - hour_output_accuracy: 0.2324 - minute_output_accuracy: 0.0528\n",
            "Epoch 5/70\n",
            "200/200 [==============================] - 14s 71ms/step - loss: 5.3918 - hour_output_loss: 1.8306 - minute_output_loss: 3.5612 - hour_output_accuracy: 0.2981 - minute_output_accuracy: 0.0706\n",
            "Epoch 6/70\n",
            "200/200 [==============================] - 14s 70ms/step - loss: 5.0152 - hour_output_loss: 1.6535 - minute_output_loss: 3.3617 - hour_output_accuracy: 0.3584 - minute_output_accuracy: 0.0892\n",
            "Epoch 7/70\n",
            "200/200 [==============================] - 14s 71ms/step - loss: 4.5675 - hour_output_loss: 1.4520 - minute_output_loss: 3.1155 - hour_output_accuracy: 0.4306 - minute_output_accuracy: 0.1102\n",
            "Epoch 8/70\n",
            "200/200 [==============================] - 14s 71ms/step - loss: 4.1595 - hour_output_loss: 1.2706 - minute_output_loss: 2.8888 - hour_output_accuracy: 0.5000 - minute_output_accuracy: 0.1460\n",
            "Epoch 9/70\n",
            "200/200 [==============================] - 14s 70ms/step - loss: 3.8877 - hour_output_loss: 1.1506 - minute_output_loss: 2.7372 - hour_output_accuracy: 0.5482 - minute_output_accuracy: 0.1701\n",
            "Epoch 10/70\n",
            "200/200 [==============================] - 14s 70ms/step - loss: 3.5294 - hour_output_loss: 1.0056 - minute_output_loss: 2.5238 - hour_output_accuracy: 0.6103 - minute_output_accuracy: 0.2006\n",
            "Epoch 11/70\n",
            "200/200 [==============================] - 14s 71ms/step - loss: 3.2061 - hour_output_loss: 0.8850 - minute_output_loss: 2.3211 - hour_output_accuracy: 0.6564 - minute_output_accuracy: 0.2553\n",
            "Epoch 12/70\n",
            "200/200 [==============================] - 14s 70ms/step - loss: 2.9330 - hour_output_loss: 0.7990 - minute_output_loss: 2.1340 - hour_output_accuracy: 0.6938 - minute_output_accuracy: 0.2992\n",
            "Epoch 13/70\n",
            "200/200 [==============================] - 14s 71ms/step - loss: 2.6252 - hour_output_loss: 0.7048 - minute_output_loss: 1.9204 - hour_output_accuracy: 0.7333 - minute_output_accuracy: 0.3620\n",
            "Epoch 14/70\n",
            "200/200 [==============================] - 14s 71ms/step - loss: 2.3400 - hour_output_loss: 0.6456 - minute_output_loss: 1.6944 - hour_output_accuracy: 0.7532 - minute_output_accuracy: 0.4367\n",
            "Epoch 15/70\n",
            "200/200 [==============================] - 14s 70ms/step - loss: 2.0850 - hour_output_loss: 0.5797 - minute_output_loss: 1.5053 - hour_output_accuracy: 0.7800 - minute_output_accuracy: 0.4992\n",
            "Epoch 16/70\n",
            "200/200 [==============================] - 14s 70ms/step - loss: 1.8571 - hour_output_loss: 0.5289 - minute_output_loss: 1.3283 - hour_output_accuracy: 0.8005 - minute_output_accuracy: 0.5521\n",
            "Epoch 17/70\n",
            "200/200 [==============================] - 14s 70ms/step - loss: 1.6861 - hour_output_loss: 0.4960 - minute_output_loss: 1.1901 - hour_output_accuracy: 0.8141 - minute_output_accuracy: 0.6042\n",
            "Epoch 18/70\n",
            "200/200 [==============================] - 14s 71ms/step - loss: 1.4887 - hour_output_loss: 0.4521 - minute_output_loss: 1.0366 - hour_output_accuracy: 0.8303 - minute_output_accuracy: 0.6492\n",
            "Epoch 19/70\n",
            "200/200 [==============================] - 14s 71ms/step - loss: 1.3727 - hour_output_loss: 0.4217 - minute_output_loss: 0.9510 - hour_output_accuracy: 0.8426 - minute_output_accuracy: 0.6802\n",
            "Epoch 20/70\n",
            "200/200 [==============================] - 14s 71ms/step - loss: 1.2401 - hour_output_loss: 0.3824 - minute_output_loss: 0.8577 - hour_output_accuracy: 0.8582 - minute_output_accuracy: 0.7119\n",
            "Epoch 21/70\n",
            "200/200 [==============================] - 14s 71ms/step - loss: 1.1511 - hour_output_loss: 0.3580 - minute_output_loss: 0.7931 - hour_output_accuracy: 0.8706 - minute_output_accuracy: 0.7317\n",
            "Epoch 22/70\n",
            "200/200 [==============================] - 14s 71ms/step - loss: 1.0729 - hour_output_loss: 0.3368 - minute_output_loss: 0.7361 - hour_output_accuracy: 0.8741 - minute_output_accuracy: 0.7499\n",
            "Epoch 23/70\n",
            "200/200 [==============================] - 14s 71ms/step - loss: 0.9411 - hour_output_loss: 0.2914 - minute_output_loss: 0.6497 - hour_output_accuracy: 0.8909 - minute_output_accuracy: 0.7835\n",
            "Epoch 24/70\n",
            "200/200 [==============================] - 14s 70ms/step - loss: 0.8935 - hour_output_loss: 0.2834 - minute_output_loss: 0.6101 - hour_output_accuracy: 0.8948 - minute_output_accuracy: 0.7915\n",
            "Epoch 25/70\n",
            "200/200 [==============================] - 14s 71ms/step - loss: 0.9098 - hour_output_loss: 0.3028 - minute_output_loss: 0.6071 - hour_output_accuracy: 0.8900 - minute_output_accuracy: 0.7929\n",
            "Epoch 26/70\n",
            "200/200 [==============================] - 14s 71ms/step - loss: 0.8437 - hour_output_loss: 0.2744 - minute_output_loss: 0.5693 - hour_output_accuracy: 0.9005 - minute_output_accuracy: 0.8076\n",
            "Epoch 27/70\n",
            "200/200 [==============================] - 14s 70ms/step - loss: 0.7674 - hour_output_loss: 0.2497 - minute_output_loss: 0.5177 - hour_output_accuracy: 0.9114 - minute_output_accuracy: 0.8252\n",
            "Epoch 28/70\n",
            "200/200 [==============================] - 14s 71ms/step - loss: 0.7306 - hour_output_loss: 0.2429 - minute_output_loss: 0.4877 - hour_output_accuracy: 0.9099 - minute_output_accuracy: 0.8342\n",
            "Epoch 29/70\n",
            "200/200 [==============================] - 14s 70ms/step - loss: 0.6710 - hour_output_loss: 0.2174 - minute_output_loss: 0.4536 - hour_output_accuracy: 0.9217 - minute_output_accuracy: 0.8454\n",
            "Epoch 30/70\n",
            "200/200 [==============================] - 14s 70ms/step - loss: 0.6504 - hour_output_loss: 0.2146 - minute_output_loss: 0.4358 - hour_output_accuracy: 0.9205 - minute_output_accuracy: 0.8503\n",
            "Epoch 31/70\n",
            "200/200 [==============================] - 14s 70ms/step - loss: 0.5942 - hour_output_loss: 0.1933 - minute_output_loss: 0.4009 - hour_output_accuracy: 0.9299 - minute_output_accuracy: 0.8609\n",
            "Epoch 32/70\n",
            "200/200 [==============================] - 14s 70ms/step - loss: 0.5847 - hour_output_loss: 0.1977 - minute_output_loss: 0.3871 - hour_output_accuracy: 0.9275 - minute_output_accuracy: 0.8672\n",
            "Epoch 33/70\n",
            "200/200 [==============================] - 14s 70ms/step - loss: 0.5629 - hour_output_loss: 0.1909 - minute_output_loss: 0.3720 - hour_output_accuracy: 0.9312 - minute_output_accuracy: 0.8726\n",
            "Epoch 34/70\n",
            "200/200 [==============================] - 14s 71ms/step - loss: 0.5389 - hour_output_loss: 0.1873 - minute_output_loss: 0.3517 - hour_output_accuracy: 0.9314 - minute_output_accuracy: 0.8774\n",
            "Epoch 35/70\n",
            "200/200 [==============================] - 14s 71ms/step - loss: 0.5255 - hour_output_loss: 0.1836 - minute_output_loss: 0.3419 - hour_output_accuracy: 0.9335 - minute_output_accuracy: 0.8829\n",
            "Epoch 36/70\n",
            "200/200 [==============================] - 14s 71ms/step - loss: 0.5183 - hour_output_loss: 0.1831 - minute_output_loss: 0.3352 - hour_output_accuracy: 0.9352 - minute_output_accuracy: 0.8816\n",
            "Epoch 37/70\n",
            "200/200 [==============================] - 14s 71ms/step - loss: 0.5141 - hour_output_loss: 0.1730 - minute_output_loss: 0.3411 - hour_output_accuracy: 0.9388 - minute_output_accuracy: 0.8834\n",
            "Epoch 38/70\n",
            "200/200 [==============================] - 14s 71ms/step - loss: 0.4397 - hour_output_loss: 0.1526 - minute_output_loss: 0.2871 - hour_output_accuracy: 0.9441 - minute_output_accuracy: 0.8994\n",
            "Epoch 39/70\n",
            "200/200 [==============================] - 14s 70ms/step - loss: 0.4525 - hour_output_loss: 0.1548 - minute_output_loss: 0.2977 - hour_output_accuracy: 0.9440 - minute_output_accuracy: 0.8983\n",
            "Epoch 40/70\n",
            "200/200 [==============================] - 14s 70ms/step - loss: 0.4236 - hour_output_loss: 0.1488 - minute_output_loss: 0.2748 - hour_output_accuracy: 0.9452 - minute_output_accuracy: 0.9048\n",
            "Epoch 41/70\n",
            "200/200 [==============================] - 14s 71ms/step - loss: 0.4492 - hour_output_loss: 0.1564 - minute_output_loss: 0.2928 - hour_output_accuracy: 0.9425 - minute_output_accuracy: 0.9005\n",
            "Epoch 42/70\n",
            "200/200 [==============================] - 14s 71ms/step - loss: 0.4146 - hour_output_loss: 0.1451 - minute_output_loss: 0.2695 - hour_output_accuracy: 0.9467 - minute_output_accuracy: 0.9065\n",
            "Epoch 43/70\n",
            "200/200 [==============================] - 14s 71ms/step - loss: 0.3919 - hour_output_loss: 0.1365 - minute_output_loss: 0.2554 - hour_output_accuracy: 0.9510 - minute_output_accuracy: 0.9101\n",
            "Epoch 44/70\n",
            "200/200 [==============================] - 14s 71ms/step - loss: 0.4011 - hour_output_loss: 0.1328 - minute_output_loss: 0.2682 - hour_output_accuracy: 0.9507 - minute_output_accuracy: 0.9087\n",
            "Epoch 45/70\n",
            "200/200 [==============================] - 14s 71ms/step - loss: 0.3835 - hour_output_loss: 0.1405 - minute_output_loss: 0.2429 - hour_output_accuracy: 0.9493 - minute_output_accuracy: 0.9167\n",
            "Epoch 46/70\n",
            "200/200 [==============================] - 14s 71ms/step - loss: 0.3718 - hour_output_loss: 0.1294 - minute_output_loss: 0.2424 - hour_output_accuracy: 0.9544 - minute_output_accuracy: 0.9189\n",
            "Epoch 47/70\n",
            "200/200 [==============================] - 14s 71ms/step - loss: 0.3719 - hour_output_loss: 0.1274 - minute_output_loss: 0.2445 - hour_output_accuracy: 0.9540 - minute_output_accuracy: 0.9172\n",
            "Epoch 48/70\n",
            "200/200 [==============================] - 14s 71ms/step - loss: 0.3599 - hour_output_loss: 0.1290 - minute_output_loss: 0.2309 - hour_output_accuracy: 0.9541 - minute_output_accuracy: 0.9201\n",
            "Epoch 49/70\n",
            "200/200 [==============================] - 14s 71ms/step - loss: 0.3391 - hour_output_loss: 0.1207 - minute_output_loss: 0.2184 - hour_output_accuracy: 0.9566 - minute_output_accuracy: 0.9241\n",
            "Epoch 50/70\n",
            "200/200 [==============================] - 14s 71ms/step - loss: 0.3189 - hour_output_loss: 0.1132 - minute_output_loss: 0.2057 - hour_output_accuracy: 0.9585 - minute_output_accuracy: 0.9294\n",
            "Epoch 51/70\n",
            "200/200 [==============================] - 14s 71ms/step - loss: 0.3053 - hour_output_loss: 0.1131 - minute_output_loss: 0.1922 - hour_output_accuracy: 0.9598 - minute_output_accuracy: 0.9338\n",
            "Epoch 52/70\n",
            "200/200 [==============================] - 14s 71ms/step - loss: 0.3200 - hour_output_loss: 0.1185 - minute_output_loss: 0.2015 - hour_output_accuracy: 0.9582 - minute_output_accuracy: 0.9297\n",
            "Epoch 53/70\n",
            "200/200 [==============================] - 14s 71ms/step - loss: 0.3144 - hour_output_loss: 0.1141 - minute_output_loss: 0.2004 - hour_output_accuracy: 0.9609 - minute_output_accuracy: 0.9303\n",
            "Epoch 54/70\n",
            "200/200 [==============================] - 14s 71ms/step - loss: 0.3090 - hour_output_loss: 0.1040 - minute_output_loss: 0.2050 - hour_output_accuracy: 0.9625 - minute_output_accuracy: 0.9290\n",
            "Epoch 55/70\n",
            "200/200 [==============================] - 14s 71ms/step - loss: 0.2890 - hour_output_loss: 0.1049 - minute_output_loss: 0.1841 - hour_output_accuracy: 0.9622 - minute_output_accuracy: 0.9376\n",
            "Epoch 56/70\n",
            "200/200 [==============================] - 14s 71ms/step - loss: 0.2811 - hour_output_loss: 0.0971 - minute_output_loss: 0.1840 - hour_output_accuracy: 0.9658 - minute_output_accuracy: 0.9368\n",
            "Epoch 57/70\n",
            "200/200 [==============================] - 14s 71ms/step - loss: 0.2847 - hour_output_loss: 0.1044 - minute_output_loss: 0.1803 - hour_output_accuracy: 0.9604 - minute_output_accuracy: 0.9394\n",
            "Epoch 58/70\n",
            "200/200 [==============================] - 14s 71ms/step - loss: 0.2949 - hour_output_loss: 0.1050 - minute_output_loss: 0.1899 - hour_output_accuracy: 0.9633 - minute_output_accuracy: 0.9330\n",
            "Epoch 59/70\n",
            "200/200 [==============================] - 14s 71ms/step - loss: 0.2703 - hour_output_loss: 0.0962 - minute_output_loss: 0.1742 - hour_output_accuracy: 0.9649 - minute_output_accuracy: 0.9419\n",
            "Epoch 60/70\n",
            "200/200 [==============================] - 14s 71ms/step - loss: 0.2820 - hour_output_loss: 0.1024 - minute_output_loss: 0.1796 - hour_output_accuracy: 0.9634 - minute_output_accuracy: 0.9379\n",
            "Epoch 61/70\n",
            "200/200 [==============================] - 14s 71ms/step - loss: 0.2673 - hour_output_loss: 0.0987 - minute_output_loss: 0.1685 - hour_output_accuracy: 0.9649 - minute_output_accuracy: 0.9419\n",
            "Epoch 62/70\n",
            "200/200 [==============================] - 14s 71ms/step - loss: 0.2690 - hour_output_loss: 0.0940 - minute_output_loss: 0.1750 - hour_output_accuracy: 0.9681 - minute_output_accuracy: 0.9411\n",
            "Epoch 63/70\n",
            "200/200 [==============================] - 14s 71ms/step - loss: 0.2792 - hour_output_loss: 0.1024 - minute_output_loss: 0.1768 - hour_output_accuracy: 0.9644 - minute_output_accuracy: 0.9378\n",
            "Epoch 64/70\n",
            "200/200 [==============================] - 14s 71ms/step - loss: 0.2625 - hour_output_loss: 0.0958 - minute_output_loss: 0.1667 - hour_output_accuracy: 0.9663 - minute_output_accuracy: 0.9431\n",
            "Epoch 65/70\n",
            "200/200 [==============================] - 14s 71ms/step - loss: 0.2585 - hour_output_loss: 0.0978 - minute_output_loss: 0.1606 - hour_output_accuracy: 0.9655 - minute_output_accuracy: 0.9451\n",
            "Epoch 66/70\n",
            "200/200 [==============================] - 14s 71ms/step - loss: 0.2524 - hour_output_loss: 0.0912 - minute_output_loss: 0.1612 - hour_output_accuracy: 0.9663 - minute_output_accuracy: 0.9433\n",
            "Epoch 67/70\n",
            "200/200 [==============================] - 14s 71ms/step - loss: 0.2395 - hour_output_loss: 0.0855 - minute_output_loss: 0.1540 - hour_output_accuracy: 0.9707 - minute_output_accuracy: 0.9472\n",
            "Epoch 68/70\n",
            "200/200 [==============================] - 14s 71ms/step - loss: 0.2430 - hour_output_loss: 0.0835 - minute_output_loss: 0.1595 - hour_output_accuracy: 0.9711 - minute_output_accuracy: 0.9451\n",
            "Epoch 69/70\n",
            "200/200 [==============================] - 14s 71ms/step - loss: 0.2390 - hour_output_loss: 0.0825 - minute_output_loss: 0.1565 - hour_output_accuracy: 0.9715 - minute_output_accuracy: 0.9456\n",
            "Epoch 70/70\n",
            "200/200 [==============================] - 14s 71ms/step - loss: 0.2357 - hour_output_loss: 0.0827 - minute_output_loss: 0.1530 - hour_output_accuracy: 0.9713 - minute_output_accuracy: 0.9483\n"
          ]
        }
      ]
    },
    {
      "cell_type": "code",
      "metadata": {
        "colab": {
          "base_uri": "https://localhost:8080/"
        },
        "id": "-kCqtz-XM5pO",
        "outputId": "09d332ee-029f-4f2f-b325-a142b5a636a0"
      },
      "source": [
        "mod2.evaluate(Xtest2, [ytesth2, ytestm2])"
      ],
      "execution_count": null,
      "outputs": [
        {
          "output_type": "stream",
          "name": "stdout",
          "text": [
            "113/113 [==============================] - 2s 14ms/step - loss: 1.3831 - hour_output_loss: 0.2695 - minute_output_loss: 1.1135 - hour_output_accuracy: 0.9139 - minute_output_accuracy: 0.7275\n"
          ]
        },
        {
          "output_type": "execute_result",
          "data": {
            "text/plain": [
              "[1.3830833435058594,\n",
              " 0.269546240568161,\n",
              " 1.1135375499725342,\n",
              " 0.9138888716697693,\n",
              " 0.7275000214576721]"
            ]
          },
          "metadata": {},
          "execution_count": 25
        }
      ]
    },
    {
      "cell_type": "code",
      "metadata": {
        "id": "0UAeZq3yM5mW"
      },
      "source": [
        "ypred_h, ypred_m = mod2.predict(Xtest2)"
      ],
      "execution_count": null,
      "outputs": []
    },
    {
      "cell_type": "code",
      "metadata": {
        "id": "YTyLzZjyM5jz"
      },
      "source": [
        "pred_hour_1 = np.argmax(ypred_h, axis = 1)"
      ],
      "execution_count": null,
      "outputs": []
    },
    {
      "cell_type": "code",
      "metadata": {
        "id": "iq5gJZApM5g-"
      },
      "source": [
        "true_hour_1 = np.argmax(ytesth2, axis=1)"
      ],
      "execution_count": null,
      "outputs": []
    },
    {
      "cell_type": "code",
      "metadata": {
        "id": "6SX5I3E2M5bo"
      },
      "source": [
        "pred_minute_1 = np.argmax(ypred_m, axis=1)"
      ],
      "execution_count": null,
      "outputs": []
    },
    {
      "cell_type": "code",
      "metadata": {
        "id": "kRV2U5ndM5RJ",
        "colab": {
          "base_uri": "https://localhost:8080/"
        },
        "outputId": "7f2d64d2-55e9-4001-85f2-f8db0f4eebb1"
      },
      "source": [
        "ytestm2"
      ],
      "execution_count": null,
      "outputs": [
        {
          "output_type": "execute_result",
          "data": {
            "text/plain": [
              "array([50, 50, 20, ..., 29, 29,  5])"
            ]
          },
          "metadata": {},
          "execution_count": 30
        }
      ]
    },
    {
      "cell_type": "code",
      "metadata": {
        "colab": {
          "base_uri": "https://localhost:8080/"
        },
        "id": "gTTsGjUFpLQb",
        "outputId": "6f16f8b9-a59e-47f3-fd2e-5856710ba827"
      },
      "source": [
        "print(pred_minute_1)\n",
        "print(ytestm2)"
      ],
      "execution_count": null,
      "outputs": [
        {
          "output_type": "stream",
          "name": "stdout",
          "text": [
            "[49 51 20 ... 29 29  5]\n",
            "[50 50 20 ... 29 29  5]\n"
          ]
        }
      ]
    },
    {
      "cell_type": "code",
      "metadata": {
        "colab": {
          "base_uri": "https://localhost:8080/"
        },
        "id": "UB5rBU6GpSMQ",
        "outputId": "e0a6c1ac-696d-4b5b-8b06-0166ab720027"
      },
      "source": [
        "np.mean(abs(ytestm2 - pred_minute_1))"
      ],
      "execution_count": null,
      "outputs": [
        {
          "output_type": "execute_result",
          "data": {
            "text/plain": [
              "1.3194444444444444"
            ]
          },
          "metadata": {},
          "execution_count": 39
        }
      ]
    },
    {
      "cell_type": "code",
      "metadata": {
        "colab": {
          "base_uri": "https://localhost:8080/"
        },
        "id": "1we6EX7BORA5",
        "outputId": "c8a129ad-10c2-4d18-92eb-df0daca00a25"
      },
      "source": [
        "print(pred_hour_1)\n",
        "print(true_hour_1)"
      ],
      "execution_count": null,
      "outputs": [
        {
          "output_type": "stream",
          "name": "stdout",
          "text": [
            "[ 4  0 11 ...  5  0  2]\n",
            "[ 4  0 11 ...  5  0  0]\n"
          ]
        }
      ]
    },
    {
      "cell_type": "code",
      "metadata": {
        "id": "VpJia0IfOQ6L"
      },
      "source": [
        "hour_diff = []\n",
        "for h1,h2 in zip(true_hour_1, pred_hour_1):\n",
        "  if h1 > h2 and h2 == 0:\n",
        "    hour_diff.append(abs(h1*60.0 - (h2 + 12)*60.0))\n",
        "  else:\n",
        "    hour_diff.append(abs(h1*60.0 - h2*60.0))\n",
        "    "
      ],
      "execution_count": null,
      "outputs": []
    },
    {
      "cell_type": "code",
      "metadata": {
        "colab": {
          "base_uri": "https://localhost:8080/"
        },
        "id": "PEcZUSoeOQzQ",
        "outputId": "cb4c1eb2-75b7-4f76-86f3-fb253bfb8880"
      },
      "source": [
        "np.mean(hour_diff)"
      ],
      "execution_count": null,
      "outputs": [
        {
          "output_type": "execute_result",
          "data": {
            "text/plain": [
              "10.0"
            ]
          },
          "metadata": {},
          "execution_count": 34
        }
      ]
    },
    {
      "cell_type": "code",
      "metadata": {
        "colab": {
          "base_uri": "https://localhost:8080/"
        },
        "id": "K8pkS89BpuEs",
        "outputId": "5e5d84fe-c332-4001-8718-a8c97f31836b"
      },
      "source": [
        "minutes_diff = np.mean(abs(ytestm2 - pred_minute_1)) + np.mean(hour_diff)\n",
        "\n",
        "print(minutes_diff)"
      ],
      "execution_count": null,
      "outputs": [
        {
          "output_type": "stream",
          "name": "stdout",
          "text": [
            "11.319444444444445\n"
          ]
        }
      ]
    },
    {
      "cell_type": "code",
      "metadata": {
        "colab": {
          "base_uri": "https://localhost:8080/",
          "height": 282
        },
        "id": "wf45Lm9ROQql",
        "outputId": "3dbecae1-d679-4522-fd30-2e3d7a112637"
      },
      "source": [
        "sns.heatmap(confusion_matrix(true_hour_1, pred_hour_1), cmap=\"PuBu\")"
      ],
      "execution_count": null,
      "outputs": [
        {
          "output_type": "execute_result",
          "data": {
            "text/plain": [
              "<matplotlib.axes._subplots.AxesSubplot at 0x7f5e7cc86e50>"
            ]
          },
          "metadata": {},
          "execution_count": 42
        },
        {
          "output_type": "display_data",
          "data": {
            "image/png": "[encoded data removed]",
            "text/plain": [
              "<Figure size 432x288 with 2 Axes>"
            ]
          },
          "metadata": {
            "needs_background": "light"
          }
        }
      ]
    },
    {
      "cell_type": "code",
      "metadata": {
        "colab": {
          "base_uri": "https://localhost:8080/",
          "height": 286
        },
        "id": "mJSZnRF6ZU1s",
        "outputId": "972c6367-3c8d-44b5-e894-4cd3b8cdc16a"
      },
      "source": [
        "sns.heatmap(confusion_matrix(ytestm2, pred_minute_1), cmap=\"PuRd\")"
      ],
      "execution_count": null,
      "outputs": [
        {
          "output_type": "execute_result",
          "data": {
            "text/plain": [
              "<matplotlib.axes._subplots.AxesSubplot at 0x7f5ce89b2650>"
            ]
          },
          "metadata": {},
          "execution_count": 55
        },
        {
          "output_type": "display_data",
          "data": {
            "image/png": "[encoded data removed]",
            "text/plain": [
              "<Figure size 432x288 with 2 Axes>"
            ]
          },
          "metadata": {
            "needs_background": "light"
          }
        }
      ]
    },
    {
      "cell_type": "code",
      "metadata": {
        "id": "V98AMnvqZUu1"
      },
      "source": [
        ""
      ],
      "execution_count": null,
      "outputs": []
    },
    {
      "cell_type": "code",
      "metadata": {
        "id": "S6S7pxqZZUnx"
      },
      "source": [
        ""
      ],
      "execution_count": null,
      "outputs": []
    },
    {
      "cell_type": "code",
      "metadata": {
        "id": "1F1c57GaZUfv"
      },
      "source": [
        ""
      ],
      "execution_count": null,
      "outputs": []
    },
    {
      "cell_type": "code",
      "metadata": {
        "id": "D51b2ohMZUUL"
      },
      "source": [
        ""
      ],
      "execution_count": null,
      "outputs": []
    },
    {
      "cell_type": "markdown",
      "metadata": {
        "id": "k1KuwmmKH7cY"
      },
      "source": [
        "### Label reform"
      ]
    },
    {
      "cell_type": "code",
      "metadata": {
        "id": "lOUx2vhiIEcq",
        "colab": {
          "base_uri": "https://localhost:8080/"
        },
        "outputId": "1e3f7bef-e743-4386-fdb6-549a289c105e"
      },
      "source": [
        "timefloat = labels[:,0]*60.0 + labels[:,1].astype(\"float32\")\n",
        "print(timefloat)"
      ],
      "execution_count": 92,
      "outputs": [
        {
          "output_type": "stream",
          "name": "stdout",
          "text": [
            "[  0.   0.   0. ... 719. 719. 719.]\n"
          ]
        }
      ]
    },
    {
      "cell_type": "code",
      "metadata": {
        "id": "UwbWGg-7IDsN"
      },
      "source": [
        ""
      ],
      "execution_count": null,
      "outputs": []
    },
    {
      "cell_type": "code",
      "metadata": {
        "id": "wh3q7tY5IDkT"
      },
      "source": [
        ""
      ],
      "execution_count": null,
      "outputs": []
    },
    {
      "cell_type": "code",
      "metadata": {
        "id": "f7yUYvFzIDXI"
      },
      "source": [
        "def hour_minute_reform():\n",
        "    all_inputs = keras.Input(shape = (150,150,1), \n",
        "                            name = \"transformed_labels\")\n",
        "    \n",
        "    #x = layers.RandomFlip(\"horizontal_and_vertical\")(all_inputs)\n",
        "    #x = layers.RandomRotation(0.2)(x)\n",
        "    \n",
        "    \n",
        "    x = layers.Conv2D(filters= 64, kernel_size=(7,7), kernel_initializer = tf.keras.initializers.HeUniform(),\n",
        "                      padding=\"same\", activation=\"relu\")(all_inputs)\n",
        "    x = layers.MaxPooling2D((2,2))(x)\n",
        "    x = layers.BatchNormalization()(x)\n",
        "    x = layers.Dropout(0.25)(x)\n",
        "    \n",
        "    \n",
        "    x = layers.Conv2D(filters= 128, kernel_size=(3,3), kernel_initializer = tf.keras.initializers.HeUniform(),\n",
        "                      padding=\"same\", activation=\"relu\")(x)\n",
        "    x = layers.MaxPooling2D(pool_size=(2,2))(x)\n",
        "    x = layers.BatchNormalization()(x)\n",
        "    x = layers.Dropout(0.25)(x)\n",
        "\n",
        "    x = layers.Conv2D(filters= 256, kernel_size=(3,3), kernel_initializer = tf.keras.initializers.HeUniform(),\n",
        "                      padding=\"same\", activation=\"relu\")(x)\n",
        "    x = layers.MaxPooling2D(pool_size=(2,2))(x)\n",
        "    x = layers.BatchNormalization()(x)\n",
        "    x = layers.Dropout(0.25)(x)\n",
        "    \n",
        "    \n",
        "    x = layers.Conv2D(filters = 512, kernel_size=(3,3), kernel_initializer = tf.keras.initializers.HeUniform(),\n",
        "                      padding=\"same\", activation=\"relu\")(x) \n",
        "    x = layers.BatchNormalization()(x)\n",
        "    x = layers.Dropout(0.5)(x)\n",
        "    \n",
        "    \n",
        "    #dense hours\n",
        "    #x = layers.Flatten()(x)\n",
        "    \n",
        "    #x = layers.Dense(144, activation = \"relu\")(x)\n",
        "    #x = layers.BatchNormalization()(x)\n",
        "    #x = layers.Dropout(0.5)(x)\n",
        "    #x = layers.Dense(144, activation = \"relu\")(x)\n",
        "    #x = layers.BatchNormalization()(x)\n",
        "    #x = layers.Dropout(0.5)(x)\n",
        "    \n",
        "    \n",
        "    \n",
        "    #hour_sin = layers.Dense(1, name = \"hour_sin\")(x)\n",
        "    #hour_cos = layers.Dense(1, name = \"hour_cos\")(x)\n",
        "\n",
        "    #dense minutes\n",
        "    x = layers.Flatten()(x)\n",
        "    \n",
        "    x = layers.Dense(200, activation = \"relu\")(x)\n",
        "    x = layers.BatchNormalization()(x)\n",
        "    x = layers.Dropout(0.5)(x)\n",
        "    x = layers.Dense(100, activation = \"relu\")(x)\n",
        "    x = layers.BatchNormalization()(x)\n",
        "    x = layers.Dropout(0.5)(x)\n",
        "    #minute_sin = layers.Dense(1, name = \"minute_sin\")(x)\n",
        "    #minute_cos = layers.Dense(1, name = \"minute_cos\")(x)\n",
        "\n",
        "    sin = layers.Dense(1, name = \"sine\")(x) #sine output\n",
        "    cos = layers.Dense(1, name = \"cos\")(x)  #cosine output\n",
        "    \n",
        "    model = keras.models.Model(inputs=all_inputs, outputs = [sin, cos])\n",
        "    #model = keras.models.Model(inputs=all_inputs, outputs = [hour_sin, hour_cos, minute_sin, minute_cos])\n",
        "                               \n",
        "                               \n",
        "    return model\n",
        "    "
      ],
      "execution_count": 146,
      "outputs": []
    },
    {
      "cell_type": "code",
      "metadata": {
        "id": "vowDZawIUk4b"
      },
      "source": [
        "xlabel = np.cos(2.*np.pi*timefloat/720.0)"
      ],
      "execution_count": 120,
      "outputs": []
    },
    {
      "cell_type": "code",
      "metadata": {
        "id": "ENzH5J9oUk1P"
      },
      "source": [
        "ylabel = np.sin(2.*np.pi*timefloat/720.0)"
      ],
      "execution_count": 121,
      "outputs": []
    },
    {
      "cell_type": "code",
      "metadata": {
        "id": "ezBkGY37UkzF",
        "colab": {
          "base_uri": "https://localhost:8080/",
          "height": 265
        },
        "outputId": "f315ed22-4598-4767-c23e-d62db074e729"
      },
      "source": [
        "plt.plot(xlabel,ylabel)\n",
        "plt.show()"
      ],
      "execution_count": 122,
      "outputs": [
        {
          "output_type": "display_data",
          "data": {
            "image/png": "[encoded data removed]",
            "text/plain": [
              "<Figure size 432x288 with 1 Axes>"
            ]
          },
          "metadata": {
            "needs_background": "light"
          }
        }
      ]
    },
    {
      "cell_type": "code",
      "metadata": {
        "id": "EUzogA2UWMOS"
      },
      "source": [
        ""
      ],
      "execution_count": null,
      "outputs": []
    },
    {
      "cell_type": "code",
      "metadata": {
        "id": "xSOBF5oUUkwv"
      },
      "source": [
        "mod_transform = hour_minute_reform()"
      ],
      "execution_count": 147,
      "outputs": []
    },
    {
      "cell_type": "code",
      "metadata": {
        "id": "Qf_SW-9zUkuM"
      },
      "source": [
        "Xtrain_reform, Xtest_reform, ytrain_sin, ytest_sin, ytrain_cos, ytest_cos = train_test_split(images,ylabel,xlabel,\n",
        "                                                                            test_size = 0.2, shuffle = True,\n",
        "                                                                            random_state = 6)"
      ],
      "execution_count": 148,
      "outputs": []
    },
    {
      "cell_type": "code",
      "metadata": {
        "id": "NBQKb0SxUkrV"
      },
      "source": [
        "Xtrain_reform = Xtrain_reform.astype(\"float32\")/255\n",
        "Xtest_reform = Xtest_reform.astype(\"float32\")/255"
      ],
      "execution_count": 149,
      "outputs": []
    },
    {
      "cell_type": "code",
      "metadata": {
        "id": "QPlVqFLvUkoX",
        "colab": {
          "base_uri": "https://localhost:8080/"
        },
        "outputId": "c7fd09e4-8500-4ae1-d6cd-44dd28a2d26e"
      },
      "source": [
        "print(Xtrain_reform.shape)\n",
        "print(ytrain_sin.shape)\n",
        "print(ytrain_cos.shape)\n",
        "\n"
      ],
      "execution_count": 150,
      "outputs": [
        {
          "output_type": "stream",
          "name": "stdout",
          "text": [
            "(14400, 150, 150, 1)\n",
            "(14400,)\n",
            "(14400,)\n"
          ]
        }
      ]
    },
    {
      "cell_type": "code",
      "metadata": {
        "id": "hBl5jHFZUkjm"
      },
      "source": [
        "mod_transform.compile(loss = [\"mse\", \"mse\"],\n",
        "                      loss_weights = [1.0,1.0],\n",
        "            optimizer = tf.keras.optimizers.Adam(0.001),\n",
        "             metrics = [\"mae\"])"
      ],
      "execution_count": 151,
      "outputs": []
    },
    {
      "cell_type": "code",
      "metadata": {
        "id": "x6_R8eBHUkaz",
        "colab": {
          "base_uri": "https://localhost:8080/"
        },
        "outputId": "1526391c-9c00-494b-e60e-6ffab39a2549"
      },
      "source": [
        "reform_history = mod_transform.fit(Xtrain_reform, [ytrain_sin, ytrain_cos],\n",
        "                                   batch_size = 72, epochs= 55)"
      ],
      "execution_count": 152,
      "outputs": [
        {
          "output_type": "stream",
          "name": "stdout",
          "text": [
            "Epoch 1/55\n",
            "200/200 [==============================] - 20s 93ms/step - loss: 3.7141 - sine_loss: 1.8855 - cos_loss: 1.8286 - sine_mae: 1.0600 - cos_mae: 1.0418\n",
            "Epoch 2/55\n",
            "200/200 [==============================] - 19s 93ms/step - loss: 1.5391 - sine_loss: 0.7727 - cos_loss: 0.7664 - sine_mae: 0.7246 - cos_mae: 0.7253\n",
            "Epoch 3/55\n",
            "200/200 [==============================] - 19s 93ms/step - loss: 1.0214 - sine_loss: 0.5072 - cos_loss: 0.5142 - sine_mae: 0.6104 - cos_mae: 0.6171\n",
            "Epoch 4/55\n",
            "200/200 [==============================] - 19s 93ms/step - loss: 0.8518 - sine_loss: 0.4207 - cos_loss: 0.4311 - sine_mae: 0.5574 - cos_mae: 0.5683\n",
            "Epoch 5/55\n",
            "200/200 [==============================] - 19s 93ms/step - loss: 0.7262 - sine_loss: 0.3577 - cos_loss: 0.3685 - sine_mae: 0.5067 - cos_mae: 0.5166\n",
            "Epoch 6/55\n",
            "200/200 [==============================] - 19s 93ms/step - loss: 0.6303 - sine_loss: 0.3145 - cos_loss: 0.3158 - sine_mae: 0.4709 - cos_mae: 0.4705\n",
            "Epoch 7/55\n",
            "200/200 [==============================] - 19s 93ms/step - loss: 0.5863 - sine_loss: 0.2933 - cos_loss: 0.2929 - sine_mae: 0.4514 - cos_mae: 0.4499\n",
            "Epoch 8/55\n",
            "200/200 [==============================] - 19s 93ms/step - loss: 0.5305 - sine_loss: 0.2633 - cos_loss: 0.2672 - sine_mae: 0.4233 - cos_mae: 0.4266\n",
            "Epoch 9/55\n",
            "200/200 [==============================] - 19s 93ms/step - loss: 0.5408 - sine_loss: 0.2688 - cos_loss: 0.2720 - sine_mae: 0.4277 - cos_mae: 0.4304\n",
            "Epoch 10/55\n",
            "200/200 [==============================] - 18s 92ms/step - loss: 0.4621 - sine_loss: 0.2328 - cos_loss: 0.2293 - sine_mae: 0.3962 - cos_mae: 0.3904\n",
            "Epoch 11/55\n",
            "200/200 [==============================] - 18s 92ms/step - loss: 0.4128 - sine_loss: 0.2071 - cos_loss: 0.2057 - sine_mae: 0.3698 - cos_mae: 0.3681\n",
            "Epoch 12/55\n",
            "200/200 [==============================] - 19s 93ms/step - loss: 0.3919 - sine_loss: 0.1968 - cos_loss: 0.1951 - sine_mae: 0.3583 - cos_mae: 0.3558\n",
            "Epoch 13/55\n",
            "200/200 [==============================] - 19s 93ms/step - loss: 0.3539 - sine_loss: 0.1782 - cos_loss: 0.1757 - sine_mae: 0.3412 - cos_mae: 0.3371\n",
            "Epoch 14/55\n",
            "200/200 [==============================] - 19s 93ms/step - loss: 0.3247 - sine_loss: 0.1639 - cos_loss: 0.1608 - sine_mae: 0.3257 - cos_mae: 0.3206\n",
            "Epoch 15/55\n",
            "200/200 [==============================] - 19s 93ms/step - loss: 0.2886 - sine_loss: 0.1451 - cos_loss: 0.1435 - sine_mae: 0.3044 - cos_mae: 0.3018\n",
            "Epoch 16/55\n",
            "200/200 [==============================] - 19s 93ms/step - loss: 0.2653 - sine_loss: 0.1315 - cos_loss: 0.1338 - sine_mae: 0.2900 - cos_mae: 0.2914\n",
            "Epoch 17/55\n",
            "200/200 [==============================] - 19s 93ms/step - loss: 0.2330 - sine_loss: 0.1177 - cos_loss: 0.1153 - sine_mae: 0.2725 - cos_mae: 0.2702\n",
            "Epoch 18/55\n",
            "200/200 [==============================] - 19s 93ms/step - loss: 0.2233 - sine_loss: 0.1112 - cos_loss: 0.1121 - sine_mae: 0.2660 - cos_mae: 0.2671\n",
            "Epoch 19/55\n",
            "200/200 [==============================] - 19s 93ms/step - loss: 0.1967 - sine_loss: 0.0986 - cos_loss: 0.0982 - sine_mae: 0.2501 - cos_mae: 0.2489\n",
            "Epoch 20/55\n",
            "200/200 [==============================] - 19s 93ms/step - loss: 0.1953 - sine_loss: 0.1001 - cos_loss: 0.0953 - sine_mae: 0.2509 - cos_mae: 0.2452\n",
            "Epoch 21/55\n",
            "200/200 [==============================] - 19s 93ms/step - loss: 0.1851 - sine_loss: 0.0912 - cos_loss: 0.0940 - sine_mae: 0.2403 - cos_mae: 0.2450\n",
            "Epoch 22/55\n",
            "200/200 [==============================] - 19s 93ms/step - loss: 0.1681 - sine_loss: 0.0851 - cos_loss: 0.0830 - sine_mae: 0.2323 - cos_mae: 0.2300\n",
            "Epoch 23/55\n",
            "200/200 [==============================] - 19s 93ms/step - loss: 0.1553 - sine_loss: 0.0782 - cos_loss: 0.0771 - sine_mae: 0.2223 - cos_mae: 0.2209\n",
            "Epoch 24/55\n",
            "200/200 [==============================] - 19s 94ms/step - loss: 0.1455 - sine_loss: 0.0729 - cos_loss: 0.0727 - sine_mae: 0.2153 - cos_mae: 0.2148\n",
            "Epoch 25/55\n",
            "200/200 [==============================] - 19s 93ms/step - loss: 0.1373 - sine_loss: 0.0682 - cos_loss: 0.0692 - sine_mae: 0.2074 - cos_mae: 0.2084\n",
            "Epoch 26/55\n",
            "200/200 [==============================] - 19s 93ms/step - loss: 0.1332 - sine_loss: 0.0653 - cos_loss: 0.0680 - sine_mae: 0.2032 - cos_mae: 0.2075\n",
            "Epoch 27/55\n",
            "200/200 [==============================] - 19s 93ms/step - loss: 0.1288 - sine_loss: 0.0646 - cos_loss: 0.0642 - sine_mae: 0.2017 - cos_mae: 0.2002\n",
            "Epoch 28/55\n",
            "200/200 [==============================] - 19s 94ms/step - loss: 0.1234 - sine_loss: 0.0615 - cos_loss: 0.0619 - sine_mae: 0.1970 - cos_mae: 0.1992\n",
            "Epoch 29/55\n",
            "200/200 [==============================] - 19s 93ms/step - loss: 0.1193 - sine_loss: 0.0599 - cos_loss: 0.0594 - sine_mae: 0.1945 - cos_mae: 0.1941\n",
            "Epoch 30/55\n",
            "200/200 [==============================] - 19s 93ms/step - loss: 0.1153 - sine_loss: 0.0573 - cos_loss: 0.0580 - sine_mae: 0.1904 - cos_mae: 0.1920\n",
            "Epoch 31/55\n",
            "200/200 [==============================] - 19s 93ms/step - loss: 0.1149 - sine_loss: 0.0564 - cos_loss: 0.0585 - sine_mae: 0.1894 - cos_mae: 0.1928\n",
            "Epoch 32/55\n",
            "200/200 [==============================] - 19s 93ms/step - loss: 0.1113 - sine_loss: 0.0556 - cos_loss: 0.0557 - sine_mae: 0.1882 - cos_mae: 0.1892\n",
            "Epoch 33/55\n",
            "200/200 [==============================] - 18s 92ms/step - loss: 0.1052 - sine_loss: 0.0531 - cos_loss: 0.0521 - sine_mae: 0.1843 - cos_mae: 0.1814\n",
            "Epoch 34/55\n",
            "200/200 [==============================] - 19s 93ms/step - loss: 0.1007 - sine_loss: 0.0507 - cos_loss: 0.0500 - sine_mae: 0.1795 - cos_mae: 0.1790\n",
            "Epoch 35/55\n",
            "200/200 [==============================] - 18s 92ms/step - loss: 0.1001 - sine_loss: 0.0494 - cos_loss: 0.0508 - sine_mae: 0.1769 - cos_mae: 0.1791\n",
            "Epoch 36/55\n",
            "200/200 [==============================] - 18s 92ms/step - loss: 0.0997 - sine_loss: 0.0492 - cos_loss: 0.0505 - sine_mae: 0.1766 - cos_mae: 0.1787\n",
            "Epoch 37/55\n",
            "200/200 [==============================] - 18s 92ms/step - loss: 0.0958 - sine_loss: 0.0476 - cos_loss: 0.0482 - sine_mae: 0.1739 - cos_mae: 0.1753\n",
            "Epoch 38/55\n",
            "200/200 [==============================] - 18s 92ms/step - loss: 0.0948 - sine_loss: 0.0467 - cos_loss: 0.0480 - sine_mae: 0.1722 - cos_mae: 0.1747\n",
            "Epoch 39/55\n",
            "200/200 [==============================] - 19s 93ms/step - loss: 0.0920 - sine_loss: 0.0458 - cos_loss: 0.0463 - sine_mae: 0.1710 - cos_mae: 0.1713\n",
            "Epoch 40/55\n",
            "200/200 [==============================] - 19s 93ms/step - loss: 0.0896 - sine_loss: 0.0446 - cos_loss: 0.0450 - sine_mae: 0.1683 - cos_mae: 0.1690\n",
            "Epoch 41/55\n",
            "200/200 [==============================] - 18s 92ms/step - loss: 0.0897 - sine_loss: 0.0443 - cos_loss: 0.0454 - sine_mae: 0.1663 - cos_mae: 0.1692\n",
            "Epoch 42/55\n",
            "200/200 [==============================] - 18s 92ms/step - loss: 0.0881 - sine_loss: 0.0428 - cos_loss: 0.0453 - sine_mae: 0.1649 - cos_mae: 0.1696\n",
            "Epoch 43/55\n",
            "200/200 [==============================] - 19s 93ms/step - loss: 0.0880 - sine_loss: 0.0446 - cos_loss: 0.0435 - sine_mae: 0.1685 - cos_mae: 0.1659\n",
            "Epoch 44/55\n",
            "200/200 [==============================] - 18s 92ms/step - loss: 0.0842 - sine_loss: 0.0412 - cos_loss: 0.0430 - sine_mae: 0.1618 - cos_mae: 0.1650\n",
            "Epoch 45/55\n",
            "200/200 [==============================] - 19s 93ms/step - loss: 0.0805 - sine_loss: 0.0394 - cos_loss: 0.0411 - sine_mae: 0.1584 - cos_mae: 0.1603\n",
            "Epoch 46/55\n",
            "200/200 [==============================] - 18s 92ms/step - loss: 0.0792 - sine_loss: 0.0396 - cos_loss: 0.0396 - sine_mae: 0.1582 - cos_mae: 0.1584\n",
            "Epoch 47/55\n",
            "200/200 [==============================] - 19s 93ms/step - loss: 0.0792 - sine_loss: 0.0401 - cos_loss: 0.0390 - sine_mae: 0.1593 - cos_mae: 0.1574\n",
            "Epoch 48/55\n",
            "200/200 [==============================] - 19s 93ms/step - loss: 0.0837 - sine_loss: 0.0427 - cos_loss: 0.0411 - sine_mae: 0.1638 - cos_mae: 0.1607\n",
            "Epoch 49/55\n",
            "200/200 [==============================] - 18s 92ms/step - loss: 0.0749 - sine_loss: 0.0364 - cos_loss: 0.0386 - sine_mae: 0.1514 - cos_mae: 0.1563\n",
            "Epoch 50/55\n",
            "200/200 [==============================] - 18s 92ms/step - loss: 0.0759 - sine_loss: 0.0383 - cos_loss: 0.0376 - sine_mae: 0.1559 - cos_mae: 0.1540\n",
            "Epoch 51/55\n",
            "200/200 [==============================] - 18s 92ms/step - loss: 0.0761 - sine_loss: 0.0389 - cos_loss: 0.0371 - sine_mae: 0.1566 - cos_mae: 0.1530\n",
            "Epoch 52/55\n",
            "200/200 [==============================] - 18s 92ms/step - loss: 0.0758 - sine_loss: 0.0386 - cos_loss: 0.0372 - sine_mae: 0.1566 - cos_mae: 0.1537\n",
            "Epoch 53/55\n",
            "200/200 [==============================] - 19s 93ms/step - loss: 0.0733 - sine_loss: 0.0380 - cos_loss: 0.0353 - sine_mae: 0.1556 - cos_mae: 0.1493\n",
            "Epoch 54/55\n",
            "200/200 [==============================] - 18s 92ms/step - loss: 0.0734 - sine_loss: 0.0358 - cos_loss: 0.0376 - sine_mae: 0.1505 - cos_mae: 0.1541\n",
            "Epoch 55/55\n",
            "200/200 [==============================] - 18s 92ms/step - loss: 0.0711 - sine_loss: 0.0359 - cos_loss: 0.0352 - sine_mae: 0.1508 - cos_mae: 0.1491\n"
          ]
        }
      ]
    },
    {
      "cell_type": "code",
      "metadata": {
        "id": "hmiOl6ItUkNE",
        "colab": {
          "base_uri": "https://localhost:8080/",
          "height": 282
        },
        "outputId": "2eabdf88-0885-4448-ea0d-8fa8d95c2985"
      },
      "source": [
        "plt.plot(reform_history.history[\"sine_loss\"])"
      ],
      "execution_count": 153,
      "outputs": [
        {
          "output_type": "execute_result",
          "data": {
            "text/plain": [
              "[<matplotlib.lines.Line2D at 0x7f7f8e715d10>]"
            ]
          },
          "metadata": {},
          "execution_count": 153
        },
        {
          "output_type": "display_data",
          "data": {
            "image/png": "[encoded data removed]",
            "text/plain": [
              "<Figure size 432x288 with 1 Axes>"
            ]
          },
          "metadata": {
            "needs_background": "light"
          }
        }
      ]
    },
    {
      "cell_type": "code",
      "metadata": {
        "colab": {
          "base_uri": "https://localhost:8080/",
          "height": 282
        },
        "id": "gkLTWDLkT02i",
        "outputId": "3b2731b7-7c43-4017-d3cd-bf9e0827d102"
      },
      "source": [
        "plt.plot(reform_history.history[\"sine_mae\"])"
      ],
      "execution_count": 154,
      "outputs": [
        {
          "output_type": "execute_result",
          "data": {
            "text/plain": [
              "[<matplotlib.lines.Line2D at 0x7f7f8f37cf90>]"
            ]
          },
          "metadata": {},
          "execution_count": 154
        },
        {
          "output_type": "display_data",
          "data": {
            "image/png": "[encoded data removed]",
            "text/plain": [
              "<Figure size 432x288 with 1 Axes>"
            ]
          },
          "metadata": {
            "needs_background": "light"
          }
        }
      ]
    },
    {
      "cell_type": "code",
      "metadata": {
        "colab": {
          "base_uri": "https://localhost:8080/",
          "height": 282
        },
        "id": "W9K28bmsmGzV",
        "outputId": "d56143f4-3d54-4d64-ffb4-e3a022816138"
      },
      "source": [
        "plt.plot(reform_history.history[\"cos_loss\"])"
      ],
      "execution_count": 155,
      "outputs": [
        {
          "output_type": "execute_result",
          "data": {
            "text/plain": [
              "[<matplotlib.lines.Line2D at 0x7f810e780610>]"
            ]
          },
          "metadata": {},
          "execution_count": 155
        },
        {
          "output_type": "display_data",
          "data": {
            "image/png": "[encoded data removed]",
            "text/plain": [
              "<Figure size 432x288 with 1 Axes>"
            ]
          },
          "metadata": {
            "needs_background": "light"
          }
        }
      ]
    },
    {
      "cell_type": "code",
      "metadata": {
        "colab": {
          "base_uri": "https://localhost:8080/",
          "height": 282
        },
        "id": "UZNRGewLmGra",
        "outputId": "8722ba72-306b-4b12-a47b-915af54e75c7"
      },
      "source": [
        "plt.plot(reform_history.history[\"cos_mae\"])"
      ],
      "execution_count": 156,
      "outputs": [
        {
          "output_type": "execute_result",
          "data": {
            "text/plain": [
              "[<matplotlib.lines.Line2D at 0x7f7f8e70fb50>]"
            ]
          },
          "metadata": {},
          "execution_count": 156
        },
        {
          "output_type": "display_data",
          "data": {
            "image/png": "[encoded data removed]",
            "text/plain": [
              "<Figure size 432x288 with 1 Axes>"
            ]
          },
          "metadata": {
            "needs_background": "light"
          }
        }
      ]
    },
    {
      "cell_type": "code",
      "metadata": {
        "id": "nF94AMPET0uU"
      },
      "source": [
        "pred_sin, pred_cos = mod_transform.predict(Xtest_reform)"
      ],
      "execution_count": 157,
      "outputs": []
    },
    {
      "cell_type": "code",
      "metadata": {
        "colab": {
          "base_uri": "https://localhost:8080/"
        },
        "id": "QesOUg1RMJz5",
        "outputId": "ee85215d-0b91-48de-ff47-1b57ce886355"
      },
      "source": [
        "pred_sin"
      ],
      "execution_count": 158,
      "outputs": [
        {
          "output_type": "execute_result",
          "data": {
            "text/plain": [
              "array([[ 0.9383917 ],\n",
              "       [-1.0120251 ],\n",
              "       [-0.05247426],\n",
              "       ...,\n",
              "       [-0.77889603],\n",
              "       [-1.014518  ],\n",
              "       [ 0.33114564]], dtype=float32)"
            ]
          },
          "metadata": {},
          "execution_count": 158
        }
      ]
    },
    {
      "cell_type": "code",
      "metadata": {
        "colab": {
          "base_uri": "https://localhost:8080/"
        },
        "id": "DS-d544ZT0l1",
        "outputId": "8431f9a0-b115-42d7-efff-74b65f8ba33f"
      },
      "source": [
        "print(ytest_sin)"
      ],
      "execution_count": 159,
      "outputs": [
        {
          "output_type": "stream",
          "name": "stdout",
          "text": [
            "[ 0.9612617  -0.96592583  0.08715574 ... -0.8571673  -1.\n",
            "  0.10452846]\n"
          ]
        }
      ]
    },
    {
      "cell_type": "code",
      "metadata": {
        "colab": {
          "base_uri": "https://localhost:8080/"
        },
        "id": "0oktQ2YNTt1J",
        "outputId": "ec7939af-10aa-43ae-a0db-27f48abffbe7"
      },
      "source": [
        "np.mean(abs(ytest_sin - pred_sin.flatten()))"
      ],
      "execution_count": 160,
      "outputs": [
        {
          "output_type": "execute_result",
          "data": {
            "text/plain": [
              "0.07051971405617859"
            ]
          },
          "metadata": {},
          "execution_count": 160
        }
      ]
    },
    {
      "cell_type": "code",
      "metadata": {
        "id": "wmVVWo-vT6Ra"
      },
      "source": [
        ""
      ],
      "execution_count": null,
      "outputs": []
    },
    {
      "cell_type": "code",
      "metadata": {
        "colab": {
          "base_uri": "https://localhost:8080/"
        },
        "id": "shCFyNJITYR1",
        "outputId": "b0932b21-b44c-4d0d-da69-a52ef5478c4d"
      },
      "source": [
        "pred_cos"
      ],
      "execution_count": 161,
      "outputs": [
        {
          "output_type": "execute_result",
          "data": {
            "text/plain": [
              "array([[-0.22278862],\n",
              "       [ 0.1974726 ],\n",
              "       [-0.95449287],\n",
              "       ...,\n",
              "       [-0.5720619 ],\n",
              "       [-0.01424259],\n",
              "       [-0.8849062 ]], dtype=float32)"
            ]
          },
          "metadata": {},
          "execution_count": 161
        }
      ]
    },
    {
      "cell_type": "code",
      "metadata": {
        "colab": {
          "base_uri": "https://localhost:8080/"
        },
        "id": "4rLBLBPLMN9m",
        "outputId": "5e42b972-7f80-4028-893c-cf5446425467"
      },
      "source": [
        "np.mean(abs(pred_cos - ytest_cos.reshape(-1,1)))"
      ],
      "execution_count": 162,
      "outputs": [
        {
          "output_type": "execute_result",
          "data": {
            "text/plain": [
              "0.07069676345192179"
            ]
          },
          "metadata": {},
          "execution_count": 162
        }
      ]
    },
    {
      "cell_type": "code",
      "metadata": {
        "colab": {
          "base_uri": "https://localhost:8080/"
        },
        "id": "Ivy0SjObT0cF",
        "outputId": "8397a286-0f24-46e5-ad0e-f8658de48f93"
      },
      "source": [
        "print(ytest_cos)"
      ],
      "execution_count": 163,
      "outputs": [
        {
          "output_type": "stream",
          "name": "stdout",
          "text": [
            "[-2.75637356e-01  2.58819045e-01 -9.96194698e-01 ... -5.15038075e-01\n",
            " -1.83697020e-16 -9.94521895e-01]\n"
          ]
        }
      ]
    },
    {
      "cell_type": "code",
      "metadata": {
        "id": "axXBNwt0otCq"
      },
      "source": [
        ""
      ],
      "execution_count": null,
      "outputs": []
    },
    {
      "cell_type": "code",
      "metadata": {
        "colab": {
          "base_uri": "https://localhost:8080/",
          "height": 265
        },
        "id": "6j5idmdGos9s",
        "outputId": "954593ed-811d-45d2-d1e2-7b5cea9cfc90"
      },
      "source": [
        "plt.plot(pred_cos, pred_sin, \"y.\")\n",
        "for i in range(6):\n",
        "  plt.plot(pred_cos[i], pred_sin[i], \"b*\", markersize=10)"
      ],
      "execution_count": 164,
      "outputs": [
        {
          "output_type": "display_data",
          "data": {
            "image/png": "[encoded data removed]",
            "text/plain": [
              "<Figure size 432x288 with 1 Axes>"
            ]
          },
          "metadata": {
            "needs_background": "light"
          }
        }
      ]
    },
    {
      "cell_type": "code",
      "metadata": {
        "colab": {
          "base_uri": "https://localhost:8080/",
          "height": 265
        },
        "id": "-snacOPQos66",
        "outputId": "4aa1d29b-89ad-4fa1-b744-a59b26093f6a"
      },
      "source": [
        "plt.plot(ytest_cos, ytest_sin, \"y.\")\n",
        "for j in range(6):\n",
        "  plt.plot(ytest_cos[j], ytest_sin[j], \"b*\", markersize=10)"
      ],
      "execution_count": 165,
      "outputs": [
        {
          "output_type": "display_data",
          "data": {
            "image/png": "[encoded data removed]",
            "text/plain": [
              "<Figure size 432x288 with 1 Axes>"
            ]
          },
          "metadata": {
            "needs_background": "light"
          }
        }
      ]
    },
    {
      "cell_type": "code",
      "metadata": {
        "id": "dZ46u-iZos4J",
        "colab": {
          "base_uri": "https://localhost:8080/"
        },
        "outputId": "f6ec037b-bcd3-4335-a23f-9243de0470b4"
      },
      "source": [
        "np.arctan2(pred_sin, pred_cos) * 180/np.pi"
      ],
      "execution_count": 166,
      "outputs": [
        {
          "output_type": "execute_result",
          "data": {
            "text/plain": [
              "array([[ 103.35562 ],\n",
              "       [ -78.958824],\n",
              "       [-176.85327 ],\n",
              "       ...,\n",
              "       [-126.295494],\n",
              "       [ -90.804306],\n",
              "       [ 159.48337 ]], dtype=float32)"
            ]
          },
          "metadata": {},
          "execution_count": 166
        }
      ]
    },
    {
      "cell_type": "code",
      "metadata": {
        "id": "ps3BM3ASos1U",
        "colab": {
          "base_uri": "https://localhost:8080/"
        },
        "outputId": "02d2dbcc-6489-4d64-f5fa-9026ef03ee72"
      },
      "source": [
        "np.arctan2(ytest_sin, ytest_cos) * 180/np.pi"
      ],
      "execution_count": 167,
      "outputs": [
        {
          "output_type": "execute_result",
          "data": {
            "text/plain": [
              "array([ 106.,  -75.,  175., ..., -121.,  -90.,  174.])"
            ]
          },
          "metadata": {},
          "execution_count": 167
        }
      ]
    },
    {
      "cell_type": "code",
      "metadata": {
        "id": "KC-8YUipiKqR",
        "colab": {
          "base_uri": "https://localhost:8080/"
        },
        "outputId": "da68ad96-206b-468e-e943-cbb68d3d0ec9"
      },
      "source": [
        "np.mean(abs(np.arctan2(ytest_sin, ytest_cos) * 180/np.pi - (np.arctan2(pred_sin, pred_cos) * 180/np.pi).flatten()))"
      ],
      "execution_count": 168,
      "outputs": [
        {
          "output_type": "execute_result",
          "data": {
            "text/plain": [
              "10.363544631204569"
            ]
          },
          "metadata": {},
          "execution_count": 168
        }
      ]
    },
    {
      "cell_type": "code",
      "metadata": {
        "colab": {
          "base_uri": "https://localhost:8080/"
        },
        "id": "C0gX9PWe6b7c",
        "outputId": "6c51e4e9-8e5a-4e1b-b14c-68df46400dfb"
      },
      "source": [
        "60/360 * 10.363544631204569  #error in minutes between true and predicted time"
      ],
      "execution_count": 169,
      "outputs": [
        {
          "output_type": "execute_result",
          "data": {
            "text/plain": [
              "1.7272574385340946"
            ]
          },
          "metadata": {},
          "execution_count": 169
        }
      ]
    },
    {
      "cell_type": "code",
      "metadata": {
        "id": "bhAWlToV6b4p"
      },
      "source": [
        ""
      ],
      "execution_count": null,
      "outputs": []
    },
    {
      "cell_type": "code",
      "metadata": {
        "id": "tSq7wbYy6b2m"
      },
      "source": [
        ""
      ],
      "execution_count": null,
      "outputs": []
    },
    {
      "cell_type": "code",
      "metadata": {
        "id": "OEAM-N0M6b0V"
      },
      "source": [
        ""
      ],
      "execution_count": null,
      "outputs": []
    },
    {
      "cell_type": "code",
      "metadata": {
        "id": "IcIVMhOW6byN"
      },
      "source": [
        ""
      ],
      "execution_count": null,
      "outputs": []
    },
    {
      "cell_type": "code",
      "metadata": {
        "id": "UJ3y59306bwb"
      },
      "source": [
        ""
      ],
      "execution_count": null,
      "outputs": []
    },
    {
      "cell_type": "code",
      "metadata": {
        "id": "trjOs7Zf6buB"
      },
      "source": [
        ""
      ],
      "execution_count": null,
      "outputs": []
    },
    {
      "cell_type": "code",
      "metadata": {
        "id": "kyIZgIuTiKmA"
      },
      "source": [
        ""
      ],
      "execution_count": null,
      "outputs": []
    },
    {
      "cell_type": "code",
      "metadata": {
        "id": "Y-8CCixEosqF",
        "colab": {
          "base_uri": "https://localhost:8080/"
        },
        "outputId": "82c7a231-df33-4a02-d5e6-d42c436ef956"
      },
      "source": [
        "hour_x = np.cos(2*np.pi*labels[:,0]/12.0)\n",
        "hour_y = np.sin(2*np.pi*labels[:,0]/12.0)\n",
        "\n",
        "print(hour_x)\n",
        "print(hour_y)"
      ],
      "execution_count": null,
      "outputs": [
        {
          "output_type": "stream",
          "name": "stdout",
          "text": [
            "[1.        1.        1.        ... 0.8660254 0.8660254 0.8660254]\n",
            "[ 0.   0.   0.  ... -0.5 -0.5 -0.5]\n"
          ]
        }
      ]
    },
    {
      "cell_type": "code",
      "metadata": {
        "colab": {
          "base_uri": "https://localhost:8080/",
          "height": 282
        },
        "id": "xysLli13zqBQ",
        "outputId": "436a38f6-1440-45a7-ba51-fde54e891a13"
      },
      "source": [
        "plt.plot(hour_x, hour_y)"
      ],
      "execution_count": null,
      "outputs": [
        {
          "output_type": "execute_result",
          "data": {
            "text/plain": [
              "[<matplotlib.lines.Line2D at 0x7fdb1437fdd0>]"
            ]
          },
          "metadata": {},
          "execution_count": 61
        },
        {
          "output_type": "display_data",
          "data": {
            "image/png": "[encoded data removed]",
            "text/plain": [
              "<Figure size 432x288 with 1 Axes>"
            ]
          },
          "metadata": {
            "needs_background": "light"
          }
        }
      ]
    },
    {
      "cell_type": "code",
      "metadata": {
        "id": "QYSBoWZZfFi9"
      },
      "source": [
        "minute_x = np.cos(2*np.pi*labels[:,1]/60.0)\n",
        "minute_y = np.sin(2*np.pi*labels[:,1]/60.0)"
      ],
      "execution_count": null,
      "outputs": []
    },
    {
      "cell_type": "code",
      "metadata": {
        "colab": {
          "base_uri": "https://localhost:8080/",
          "height": 282
        },
        "id": "gxR5pS3ywk92",
        "outputId": "ecdc7fe0-4dc4-4880-82fe-c835d8854b01"
      },
      "source": [
        "plt.plot(minute_x, minute_y)"
      ],
      "execution_count": null,
      "outputs": [
        {
          "output_type": "execute_result",
          "data": {
            "text/plain": [
              "[<matplotlib.lines.Line2D at 0x7fdb14378e50>]"
            ]
          },
          "metadata": {},
          "execution_count": 63
        },
        {
          "output_type": "display_data",
          "data": {
            "image/png": "[encoded data removed]",
            "text/plain": [
              "<Figure size 432x288 with 1 Axes>"
            ]
          },
          "metadata": {
            "needs_background": "light"
          }
        }
      ]
    },
    {
      "cell_type": "code",
      "metadata": {
        "id": "1xlOpIea_kxd"
      },
      "source": [
        ""
      ],
      "execution_count": null,
      "outputs": []
    },
    {
      "cell_type": "code",
      "metadata": {
        "id": "rQcJnCmF_kuJ"
      },
      "source": [
        ""
      ],
      "execution_count": null,
      "outputs": []
    },
    {
      "cell_type": "code",
      "metadata": {
        "id": "zVrN_VSpyHKy"
      },
      "source": [
        ""
      ],
      "execution_count": null,
      "outputs": []
    },
    {
      "cell_type": "code",
      "metadata": {
        "id": "WRzNQNI20rPi"
      },
      "source": [
        ""
      ],
      "execution_count": null,
      "outputs": []
    },
    {
      "cell_type": "code",
      "metadata": {
        "id": "iRpYRZyq0rMd"
      },
      "source": [
        ""
      ],
      "execution_count": null,
      "outputs": []
    },
    {
      "cell_type": "code",
      "metadata": {
        "id": "mn1LYwP-yHC5"
      },
      "source": [
        "model_relabel_1 = hour_minute_reform()"
      ],
      "execution_count": null,
      "outputs": []
    },
    {
      "cell_type": "code",
      "metadata": {
        "id": "wCn7w1lRyG7P"
      },
      "source": [
        "split_1 = train_test_split(images, hour_y, hour_x, minute_y, minute_x, \n",
        "                         shuffle=True, test_size=0.2, random_state = 2)"
      ],
      "execution_count": null,
      "outputs": []
    },
    {
      "cell_type": "code",
      "metadata": {
        "id": "iCv07KLA0Eic"
      },
      "source": [
        "Xtrain_re_1, Xtest_re_1, ytrain_h_y, ytest_h_y, ytrain_h_x, ytest_h_x, ytrain_m_y, ytest_m_y, ytrain_m_x, ytest_m_x = split_1"
      ],
      "execution_count": null,
      "outputs": []
    },
    {
      "cell_type": "code",
      "metadata": {
        "id": "GtVOjYYuj-QG"
      },
      "source": [
        "Xtrain_re_1 = Xtrain_re_1/255\n",
        "Xtest_re_1 = Xtest_re_1/255"
      ],
      "execution_count": null,
      "outputs": []
    },
    {
      "cell_type": "code",
      "metadata": {
        "id": "eF6uUU_Y0EPl"
      },
      "source": [
        "model_relabel_1.compile(loss = [\"mse\",\"mse\",\"mse\",\"mse\"],\n",
        "                      loss_weights = [1.0,1.0,1.0,1.0],\n",
        "                      optimizer = tf.keras.optimizers.Adam(0.001),\n",
        "                      metrics = ['mae'])"
      ],
      "execution_count": null,
      "outputs": []
    },
    {
      "cell_type": "code",
      "metadata": {
        "id": "ZItDZV5X_kpk",
        "colab": {
          "base_uri": "https://localhost:8080/"
        },
        "outputId": "5eea0067-05b8-49d1-db3e-3005028a9195"
      },
      "source": [
        "history_relabel_1 = model_relabel_1.fit(Xtrain_re_1, [ytrain_h_y, ytrain_h_x, ytrain_m_y, ytrain_m_x],\n",
        "                  batch_size = 72, epochs = 55)"
      ],
      "execution_count": null,
      "outputs": [
        {
          "output_type": "stream",
          "name": "stdout",
          "text": [
            "Epoch 1/55\n",
            "200/200 [==============================] - 20s 91ms/step - loss: 7.6254 - hour_sin_loss: 1.8682 - hour_cos_loss: 2.0319 - minute_sin_loss: 1.8399 - minute_cos_loss: 1.8854 - hour_sin_mae: 1.0584 - hour_cos_mae: 1.1032 - minute_sin_mae: 1.0529 - minute_cos_mae: 1.0679\n",
            "Epoch 2/55\n",
            "200/200 [==============================] - 18s 91ms/step - loss: 2.8842 - hour_sin_loss: 0.7102 - hour_cos_loss: 0.7493 - minute_sin_loss: 0.7065 - minute_cos_loss: 0.7182 - hour_sin_mae: 0.6979 - hour_cos_mae: 0.7103 - minute_sin_mae: 0.7024 - minute_cos_mae: 0.7085\n",
            "Epoch 3/55\n",
            "200/200 [==============================] - 18s 90ms/step - loss: 1.9239 - hour_sin_loss: 0.4694 - hour_cos_loss: 0.4743 - minute_sin_loss: 0.4839 - minute_cos_loss: 0.4962 - hour_sin_mae: 0.5877 - hour_cos_mae: 0.5880 - minute_sin_mae: 0.6033 - minute_cos_mae: 0.6130\n",
            "Epoch 4/55\n",
            "200/200 [==============================] - 18s 90ms/step - loss: 1.5733 - hour_sin_loss: 0.3796 - hour_cos_loss: 0.3811 - minute_sin_loss: 0.4034 - minute_cos_loss: 0.4091 - hour_sin_mae: 0.5270 - hour_cos_mae: 0.5256 - minute_sin_mae: 0.5456 - minute_cos_mae: 0.5505\n",
            "Epoch 5/55\n",
            "200/200 [==============================] - 18s 91ms/step - loss: 1.4391 - hour_sin_loss: 0.3501 - hour_cos_loss: 0.3490 - minute_sin_loss: 0.3666 - minute_cos_loss: 0.3734 - hour_sin_mae: 0.5034 - hour_cos_mae: 0.5000 - minute_sin_mae: 0.5150 - minute_cos_mae: 0.5208\n",
            "Epoch 6/55\n",
            "200/200 [==============================] - 18s 91ms/step - loss: 1.3641 - hour_sin_loss: 0.3303 - hour_cos_loss: 0.3321 - minute_sin_loss: 0.3465 - minute_cos_loss: 0.3552 - hour_sin_mae: 0.4863 - hour_cos_mae: 0.4851 - minute_sin_mae: 0.4994 - minute_cos_mae: 0.5053\n",
            "Epoch 7/55\n",
            "200/200 [==============================] - 18s 91ms/step - loss: 1.3239 - hour_sin_loss: 0.3236 - hour_cos_loss: 0.3195 - minute_sin_loss: 0.3344 - minute_cos_loss: 0.3463 - hour_sin_mae: 0.4805 - hour_cos_mae: 0.4738 - minute_sin_mae: 0.4878 - minute_cos_mae: 0.4994\n",
            "Epoch 8/55\n",
            "200/200 [==============================] - 18s 91ms/step - loss: 1.2955 - hour_sin_loss: 0.3210 - hour_cos_loss: 0.3153 - minute_sin_loss: 0.3197 - minute_cos_loss: 0.3395 - hour_sin_mae: 0.4810 - hour_cos_mae: 0.4713 - minute_sin_mae: 0.4756 - minute_cos_mae: 0.4928\n",
            "Epoch 9/55\n",
            "200/200 [==============================] - 18s 91ms/step - loss: 1.2671 - hour_sin_loss: 0.3125 - hour_cos_loss: 0.3046 - minute_sin_loss: 0.3162 - minute_cos_loss: 0.3339 - hour_sin_mae: 0.4718 - hour_cos_mae: 0.4617 - minute_sin_mae: 0.4724 - minute_cos_mae: 0.4890\n",
            "Epoch 10/55\n",
            "200/200 [==============================] - 18s 91ms/step - loss: 1.2341 - hour_sin_loss: 0.3041 - hour_cos_loss: 0.3034 - minute_sin_loss: 0.2990 - minute_cos_loss: 0.3275 - hour_sin_mae: 0.4639 - hour_cos_mae: 0.4610 - minute_sin_mae: 0.4573 - minute_cos_mae: 0.4839\n",
            "Epoch 11/55\n",
            "200/200 [==============================] - 18s 90ms/step - loss: 1.2122 - hour_sin_loss: 0.2996 - hour_cos_loss: 0.3038 - minute_sin_loss: 0.2894 - minute_cos_loss: 0.3194 - hour_sin_mae: 0.4604 - hour_cos_mae: 0.4620 - minute_sin_mae: 0.4473 - minute_cos_mae: 0.4749\n",
            "Epoch 12/55\n",
            "200/200 [==============================] - 18s 91ms/step - loss: 1.1642 - hour_sin_loss: 0.2886 - hour_cos_loss: 0.2931 - minute_sin_loss: 0.2729 - minute_cos_loss: 0.3096 - hour_sin_mae: 0.4493 - hour_cos_mae: 0.4513 - minute_sin_mae: 0.4320 - minute_cos_mae: 0.4651\n",
            "Epoch 13/55\n",
            "200/200 [==============================] - 18s 90ms/step - loss: 1.0947 - hour_sin_loss: 0.2789 - hour_cos_loss: 0.2803 - minute_sin_loss: 0.2470 - minute_cos_loss: 0.2885 - hour_sin_mae: 0.4409 - hour_cos_mae: 0.4405 - minute_sin_mae: 0.4064 - minute_cos_mae: 0.4450\n",
            "Epoch 14/55\n",
            "200/200 [==============================] - 18s 90ms/step - loss: 1.0271 - hour_sin_loss: 0.2585 - hour_cos_loss: 0.2641 - minute_sin_loss: 0.2318 - minute_cos_loss: 0.2726 - hour_sin_mae: 0.4203 - hour_cos_mae: 0.4249 - minute_sin_mae: 0.3914 - minute_cos_mae: 0.4296\n",
            "Epoch 15/55\n",
            "200/200 [==============================] - 18s 91ms/step - loss: 0.9613 - hour_sin_loss: 0.2477 - hour_cos_loss: 0.2484 - minute_sin_loss: 0.2159 - minute_cos_loss: 0.2492 - hour_sin_mae: 0.4094 - hour_cos_mae: 0.4105 - minute_sin_mae: 0.3754 - minute_cos_mae: 0.4081\n",
            "Epoch 16/55\n",
            "200/200 [==============================] - 18s 91ms/step - loss: 0.8899 - hour_sin_loss: 0.2297 - hour_cos_loss: 0.2320 - minute_sin_loss: 0.2011 - minute_cos_loss: 0.2271 - hour_sin_mae: 0.3923 - hour_cos_mae: 0.3972 - minute_sin_mae: 0.3606 - minute_cos_mae: 0.3856\n",
            "Epoch 17/55\n",
            "200/200 [==============================] - 18s 91ms/step - loss: 0.8308 - hour_sin_loss: 0.2145 - hour_cos_loss: 0.2201 - minute_sin_loss: 0.1857 - minute_cos_loss: 0.2105 - hour_sin_mae: 0.3781 - hour_cos_mae: 0.3819 - minute_sin_mae: 0.3461 - minute_cos_mae: 0.3688\n",
            "Epoch 18/55\n",
            "200/200 [==============================] - 18s 91ms/step - loss: 0.7678 - hour_sin_loss: 0.2035 - hour_cos_loss: 0.2015 - minute_sin_loss: 0.1709 - minute_cos_loss: 0.1919 - hour_sin_mae: 0.3676 - hour_cos_mae: 0.3646 - minute_sin_mae: 0.3286 - minute_cos_mae: 0.3503\n",
            "Epoch 19/55\n",
            "200/200 [==============================] - 18s 91ms/step - loss: 0.7125 - hour_sin_loss: 0.1875 - hour_cos_loss: 0.1910 - minute_sin_loss: 0.1587 - minute_cos_loss: 0.1754 - hour_sin_mae: 0.3524 - hour_cos_mae: 0.3542 - minute_sin_mae: 0.3148 - minute_cos_mae: 0.3344\n",
            "Epoch 20/55\n",
            "200/200 [==============================] - 18s 91ms/step - loss: 0.6482 - hour_sin_loss: 0.1714 - hour_cos_loss: 0.1731 - minute_sin_loss: 0.1435 - minute_cos_loss: 0.1602 - hour_sin_mae: 0.3344 - hour_cos_mae: 0.3362 - minute_sin_mae: 0.2997 - minute_cos_mae: 0.3176\n",
            "Epoch 21/55\n",
            "200/200 [==============================] - 18s 91ms/step - loss: 0.5747 - hour_sin_loss: 0.1543 - hour_cos_loss: 0.1543 - minute_sin_loss: 0.1288 - minute_cos_loss: 0.1372 - hour_sin_mae: 0.3170 - hour_cos_mae: 0.3163 - minute_sin_mae: 0.2846 - minute_cos_mae: 0.2928\n",
            "Epoch 22/55\n",
            "200/200 [==============================] - 18s 91ms/step - loss: 0.5190 - hour_sin_loss: 0.1399 - hour_cos_loss: 0.1408 - minute_sin_loss: 0.1160 - minute_cos_loss: 0.1222 - hour_sin_mae: 0.3016 - hour_cos_mae: 0.3024 - minute_sin_mae: 0.2689 - minute_cos_mae: 0.2761\n",
            "Epoch 23/55\n",
            "200/200 [==============================] - 18s 91ms/step - loss: 0.4772 - hour_sin_loss: 0.1274 - hour_cos_loss: 0.1310 - minute_sin_loss: 0.1028 - minute_cos_loss: 0.1160 - hour_sin_mae: 0.2864 - hour_cos_mae: 0.2913 - minute_sin_mae: 0.2537 - minute_cos_mae: 0.2688\n",
            "Epoch 24/55\n",
            "200/200 [==============================] - 18s 91ms/step - loss: 0.4481 - hour_sin_loss: 0.1194 - hour_cos_loss: 0.1226 - minute_sin_loss: 0.0974 - minute_cos_loss: 0.1087 - hour_sin_mae: 0.2782 - hour_cos_mae: 0.2812 - minute_sin_mae: 0.2469 - minute_cos_mae: 0.2607\n",
            "Epoch 25/55\n",
            "200/200 [==============================] - 18s 91ms/step - loss: 0.4202 - hour_sin_loss: 0.1124 - hour_cos_loss: 0.1145 - minute_sin_loss: 0.0928 - minute_cos_loss: 0.1004 - hour_sin_mae: 0.2694 - hour_cos_mae: 0.2722 - minute_sin_mae: 0.2408 - minute_cos_mae: 0.2504\n",
            "Epoch 26/55\n",
            "200/200 [==============================] - 18s 91ms/step - loss: 0.4045 - hour_sin_loss: 0.1092 - hour_cos_loss: 0.1128 - minute_sin_loss: 0.0877 - minute_cos_loss: 0.0948 - hour_sin_mae: 0.2644 - hour_cos_mae: 0.2698 - minute_sin_mae: 0.2348 - minute_cos_mae: 0.2429\n",
            "Epoch 27/55\n",
            "200/200 [==============================] - 18s 90ms/step - loss: 0.3823 - hour_sin_loss: 0.1037 - hour_cos_loss: 0.1020 - minute_sin_loss: 0.0854 - minute_cos_loss: 0.0912 - hour_sin_mae: 0.2595 - hour_cos_mae: 0.2554 - minute_sin_mae: 0.2309 - minute_cos_mae: 0.2388\n",
            "Epoch 28/55\n",
            "200/200 [==============================] - 18s 91ms/step - loss: 0.3624 - hour_sin_loss: 0.0962 - hour_cos_loss: 0.0984 - minute_sin_loss: 0.0806 - minute_cos_loss: 0.0872 - hour_sin_mae: 0.2478 - hour_cos_mae: 0.2512 - minute_sin_mae: 0.2239 - minute_cos_mae: 0.2326\n",
            "Epoch 29/55\n",
            "200/200 [==============================] - 18s 91ms/step - loss: 0.3503 - hour_sin_loss: 0.0927 - hour_cos_loss: 0.0970 - minute_sin_loss: 0.0770 - minute_cos_loss: 0.0835 - hour_sin_mae: 0.2440 - hour_cos_mae: 0.2498 - minute_sin_mae: 0.2202 - minute_cos_mae: 0.2274\n",
            "Epoch 30/55\n",
            "200/200 [==============================] - 18s 91ms/step - loss: 0.3351 - hour_sin_loss: 0.0913 - hour_cos_loss: 0.0914 - minute_sin_loss: 0.0738 - minute_cos_loss: 0.0787 - hour_sin_mae: 0.2418 - hour_cos_mae: 0.2415 - minute_sin_mae: 0.2144 - minute_cos_mae: 0.2200\n",
            "Epoch 31/55\n",
            "200/200 [==============================] - 18s 91ms/step - loss: 0.3252 - hour_sin_loss: 0.0869 - hour_cos_loss: 0.0885 - minute_sin_loss: 0.0716 - minute_cos_loss: 0.0782 - hour_sin_mae: 0.2361 - hour_cos_mae: 0.2381 - minute_sin_mae: 0.2118 - minute_cos_mae: 0.2205\n",
            "Epoch 32/55\n",
            "200/200 [==============================] - 18s 91ms/step - loss: 0.3165 - hour_sin_loss: 0.0847 - hour_cos_loss: 0.0859 - minute_sin_loss: 0.0704 - minute_cos_loss: 0.0755 - hour_sin_mae: 0.2327 - hour_cos_mae: 0.2353 - minute_sin_mae: 0.2095 - minute_cos_mae: 0.2161\n",
            "Epoch 33/55\n",
            "200/200 [==============================] - 18s 91ms/step - loss: 0.3110 - hour_sin_loss: 0.0824 - hour_cos_loss: 0.0855 - minute_sin_loss: 0.0673 - minute_cos_loss: 0.0758 - hour_sin_mae: 0.2287 - hour_cos_mae: 0.2330 - minute_sin_mae: 0.2046 - minute_cos_mae: 0.2163\n",
            "Epoch 34/55\n",
            "200/200 [==============================] - 18s 91ms/step - loss: 0.2965 - hour_sin_loss: 0.0782 - hour_cos_loss: 0.0809 - minute_sin_loss: 0.0681 - minute_cos_loss: 0.0693 - hour_sin_mae: 0.2234 - hour_cos_mae: 0.2279 - minute_sin_mae: 0.2055 - minute_cos_mae: 0.2081\n",
            "Epoch 35/55\n",
            "200/200 [==============================] - 18s 91ms/step - loss: 0.2881 - hour_sin_loss: 0.0765 - hour_cos_loss: 0.0772 - minute_sin_loss: 0.0646 - minute_cos_loss: 0.0698 - hour_sin_mae: 0.2220 - hour_cos_mae: 0.2216 - minute_sin_mae: 0.2000 - minute_cos_mae: 0.2078\n",
            "Epoch 36/55\n",
            "200/200 [==============================] - 18s 91ms/step - loss: 0.2860 - hour_sin_loss: 0.0753 - hour_cos_loss: 0.0764 - minute_sin_loss: 0.0647 - minute_cos_loss: 0.0696 - hour_sin_mae: 0.2199 - hour_cos_mae: 0.2197 - minute_sin_mae: 0.1997 - minute_cos_mae: 0.2078\n",
            "Epoch 37/55\n",
            "200/200 [==============================] - 18s 91ms/step - loss: 0.2738 - hour_sin_loss: 0.0735 - hour_cos_loss: 0.0736 - minute_sin_loss: 0.0605 - minute_cos_loss: 0.0662 - hour_sin_mae: 0.2167 - hour_cos_mae: 0.2176 - minute_sin_mae: 0.1937 - minute_cos_mae: 0.2034\n",
            "Epoch 38/55\n",
            "200/200 [==============================] - 18s 91ms/step - loss: 0.2694 - hour_sin_loss: 0.0735 - hour_cos_loss: 0.0724 - minute_sin_loss: 0.0612 - minute_cos_loss: 0.0623 - hour_sin_mae: 0.2159 - hour_cos_mae: 0.2161 - minute_sin_mae: 0.1940 - minute_cos_mae: 0.1967\n",
            "Epoch 39/55\n",
            "200/200 [==============================] - 18s 91ms/step - loss: 0.2592 - hour_sin_loss: 0.0693 - hour_cos_loss: 0.0690 - minute_sin_loss: 0.0582 - minute_cos_loss: 0.0628 - hour_sin_mae: 0.2102 - hour_cos_mae: 0.2099 - minute_sin_mae: 0.1903 - minute_cos_mae: 0.1974\n",
            "Epoch 40/55\n",
            "200/200 [==============================] - 18s 91ms/step - loss: 0.2597 - hour_sin_loss: 0.0684 - hour_cos_loss: 0.0701 - minute_sin_loss: 0.0581 - minute_cos_loss: 0.0631 - hour_sin_mae: 0.2091 - hour_cos_mae: 0.2108 - minute_sin_mae: 0.1906 - minute_cos_mae: 0.1969\n",
            "Epoch 41/55\n",
            "200/200 [==============================] - 18s 91ms/step - loss: 0.2573 - hour_sin_loss: 0.0688 - hour_cos_loss: 0.0689 - minute_sin_loss: 0.0582 - minute_cos_loss: 0.0614 - hour_sin_mae: 0.2096 - hour_cos_mae: 0.2093 - minute_sin_mae: 0.1906 - minute_cos_mae: 0.1949\n",
            "Epoch 42/55\n",
            "200/200 [==============================] - 18s 91ms/step - loss: 0.2478 - hour_sin_loss: 0.0672 - hour_cos_loss: 0.0664 - minute_sin_loss: 0.0541 - minute_cos_loss: 0.0601 - hour_sin_mae: 0.2063 - hour_cos_mae: 0.2058 - minute_sin_mae: 0.1829 - minute_cos_mae: 0.1927\n",
            "Epoch 43/55\n",
            "200/200 [==============================] - 18s 91ms/step - loss: 0.2398 - hour_sin_loss: 0.0644 - hour_cos_loss: 0.0627 - minute_sin_loss: 0.0550 - minute_cos_loss: 0.0578 - hour_sin_mae: 0.2034 - hour_cos_mae: 0.2007 - minute_sin_mae: 0.1855 - minute_cos_mae: 0.1889\n",
            "Epoch 44/55\n",
            "200/200 [==============================] - 18s 91ms/step - loss: 0.2360 - hour_sin_loss: 0.0632 - hour_cos_loss: 0.0637 - minute_sin_loss: 0.0537 - minute_cos_loss: 0.0554 - hour_sin_mae: 0.2005 - hour_cos_mae: 0.2011 - minute_sin_mae: 0.1825 - minute_cos_mae: 0.1851\n",
            "Epoch 45/55\n",
            "200/200 [==============================] - 18s 91ms/step - loss: 0.2325 - hour_sin_loss: 0.0613 - hour_cos_loss: 0.0623 - minute_sin_loss: 0.0544 - minute_cos_loss: 0.0545 - hour_sin_mae: 0.1975 - hour_cos_mae: 0.2000 - minute_sin_mae: 0.1835 - minute_cos_mae: 0.1839\n",
            "Epoch 46/55\n",
            "200/200 [==============================] - 18s 91ms/step - loss: 0.2230 - hour_sin_loss: 0.0606 - hour_cos_loss: 0.0600 - minute_sin_loss: 0.0483 - minute_cos_loss: 0.0542 - hour_sin_mae: 0.1962 - hour_cos_mae: 0.1956 - minute_sin_mae: 0.1739 - minute_cos_mae: 0.1831\n",
            "Epoch 47/55\n",
            "200/200 [==============================] - 18s 91ms/step - loss: 0.2253 - hour_sin_loss: 0.0589 - hour_cos_loss: 0.0612 - minute_sin_loss: 0.0516 - minute_cos_loss: 0.0536 - hour_sin_mae: 0.1944 - hour_cos_mae: 0.1973 - minute_sin_mae: 0.1786 - minute_cos_mae: 0.1813\n",
            "Epoch 48/55\n",
            "200/200 [==============================] - 18s 91ms/step - loss: 0.2221 - hour_sin_loss: 0.0593 - hour_cos_loss: 0.0605 - minute_sin_loss: 0.0492 - minute_cos_loss: 0.0531 - hour_sin_mae: 0.1944 - hour_cos_mae: 0.1955 - minute_sin_mae: 0.1751 - minute_cos_mae: 0.1799\n",
            "Epoch 49/55\n",
            "200/200 [==============================] - 18s 91ms/step - loss: 0.2155 - hour_sin_loss: 0.0568 - hour_cos_loss: 0.0583 - minute_sin_loss: 0.0485 - minute_cos_loss: 0.0518 - hour_sin_mae: 0.1894 - hour_cos_mae: 0.1926 - minute_sin_mae: 0.1731 - minute_cos_mae: 0.1778\n",
            "Epoch 50/55\n",
            "200/200 [==============================] - 18s 91ms/step - loss: 0.2137 - hour_sin_loss: 0.0573 - hour_cos_loss: 0.0567 - minute_sin_loss: 0.0487 - minute_cos_loss: 0.0511 - hour_sin_mae: 0.1909 - hour_cos_mae: 0.1898 - minute_sin_mae: 0.1723 - minute_cos_mae: 0.1762\n",
            "Epoch 51/55\n",
            "200/200 [==============================] - 18s 91ms/step - loss: 0.2128 - hour_sin_loss: 0.0550 - hour_cos_loss: 0.0568 - minute_sin_loss: 0.0507 - minute_cos_loss: 0.0502 - hour_sin_mae: 0.1874 - hour_cos_mae: 0.1892 - minute_sin_mae: 0.1771 - minute_cos_mae: 0.1753\n",
            "Epoch 52/55\n",
            "200/200 [==============================] - 18s 91ms/step - loss: 0.2052 - hour_sin_loss: 0.0551 - hour_cos_loss: 0.0543 - minute_sin_loss: 0.0475 - minute_cos_loss: 0.0483 - hour_sin_mae: 0.1870 - hour_cos_mae: 0.1853 - minute_sin_mae: 0.1712 - minute_cos_mae: 0.1723\n",
            "Epoch 53/55\n",
            "200/200 [==============================] - 18s 91ms/step - loss: 0.2009 - hour_sin_loss: 0.0549 - hour_cos_loss: 0.0534 - minute_sin_loss: 0.0450 - minute_cos_loss: 0.0476 - hour_sin_mae: 0.1867 - hour_cos_mae: 0.1849 - minute_sin_mae: 0.1665 - minute_cos_mae: 0.1701\n",
            "Epoch 54/55\n",
            "200/200 [==============================] - 18s 91ms/step - loss: 0.1980 - hour_sin_loss: 0.0526 - hour_cos_loss: 0.0527 - minute_sin_loss: 0.0456 - minute_cos_loss: 0.0471 - hour_sin_mae: 0.1837 - hour_cos_mae: 0.1826 - minute_sin_mae: 0.1676 - minute_cos_mae: 0.1685\n",
            "Epoch 55/55\n",
            "200/200 [==============================] - 18s 91ms/step - loss: 0.1944 - hour_sin_loss: 0.0527 - hour_cos_loss: 0.0517 - minute_sin_loss: 0.0437 - minute_cos_loss: 0.0464 - hour_sin_mae: 0.1834 - hour_cos_mae: 0.1808 - minute_sin_mae: 0.1644 - minute_cos_mae: 0.1689\n"
          ]
        }
      ]
    },
    {
      "cell_type": "code",
      "metadata": {
        "id": "nPGJ25k3_knY",
        "colab": {
          "base_uri": "https://localhost:8080/",
          "height": 282
        },
        "outputId": "08a8c828-7103-4fd6-efe6-741edce11c1a"
      },
      "source": [
        "plt.plot(history_relabel_1.history[\"loss\"])"
      ],
      "execution_count": null,
      "outputs": [
        {
          "output_type": "execute_result",
          "data": {
            "text/plain": [
              "[<matplotlib.lines.Line2D at 0x7fbd04386cd0>]"
            ]
          },
          "metadata": {},
          "execution_count": 50
        },
        {
          "output_type": "display_data",
          "data": {
            "image/png": "[encoded data removed]",
            "text/plain": [
              "<Figure size 432x288 with 1 Axes>"
            ]
          },
          "metadata": {
            "needs_background": "light"
          }
        }
      ]
    },
    {
      "cell_type": "code",
      "metadata": {
        "id": "QqG9lQDW_klY"
      },
      "source": [
        "pred_h_y, pred_h_x, pred_m_y, pred_m_x = model_relabel_1.predict(Xtest_re_1)"
      ],
      "execution_count": null,
      "outputs": []
    },
    {
      "cell_type": "code",
      "metadata": {
        "id": "M5mtcsuq_kjx",
        "colab": {
          "base_uri": "https://localhost:8080/",
          "height": 265
        },
        "outputId": "7b3ff47f-c73d-485f-d46f-3da5e1e0607e"
      },
      "source": [
        "plt.plot(np.around(pred_h_x,2), np.around(pred_h_y,2), \"g.\")\n",
        "for hii in range(20,25,1):\n",
        "  plt.plot(np.around(pred_h_x,2)[hii], np.around(pred_h_y,2)[hii], \"rX\", markersize = 15)"
      ],
      "execution_count": null,
      "outputs": [
        {
          "output_type": "display_data",
          "data": {
            "image/png": "[encoded data removed]",
            "text/plain": [
              "<Figure size 432x288 with 1 Axes>"
            ]
          },
          "metadata": {
            "needs_background": "light"
          }
        }
      ]
    },
    {
      "cell_type": "code",
      "metadata": {
        "id": "a_HycfXy_kiI",
        "colab": {
          "base_uri": "https://localhost:8080/",
          "height": 265
        },
        "outputId": "489cbb36-2fee-4e5b-e6e1-5dad77abadbd"
      },
      "source": [
        "plt.plot(ytest_h_x, ytest_h_y, \"go\")\n",
        "for j in range(20,25,1):\n",
        "  plt.plot(ytest_h_x[j], ytest_h_y[j], \"rX\", markersize = 15)"
      ],
      "execution_count": null,
      "outputs": [
        {
          "output_type": "display_data",
          "data": {
            "image/png": "[encoded data removed]",
            "text/plain": [
              "<Figure size 432x288 with 1 Axes>"
            ]
          },
          "metadata": {
            "needs_background": "light"
          }
        }
      ]
    },
    {
      "cell_type": "code",
      "metadata": {
        "id": "tlaHqnyj_kgK",
        "colab": {
          "base_uri": "https://localhost:8080/",
          "height": 265
        },
        "outputId": "47cc9b75-41a8-4752-88f3-4f1b369229bc"
      },
      "source": [
        "plt.plot(np.around(pred_m_x,2), np.around(pred_m_y,2), \"c.\")\n",
        "for m in range(10,16,1):\n",
        "  plt.plot(np.around(pred_m_x,2)[m], np.around(pred_m_y,2)[m], \"m*\", markersize = 15)"
      ],
      "execution_count": null,
      "outputs": [
        {
          "output_type": "display_data",
          "data": {
            "image/png": "[encoded data removed]",
            "text/plain": [
              "<Figure size 432x288 with 1 Axes>"
            ]
          },
          "metadata": {
            "needs_background": "light"
          }
        }
      ]
    },
    {
      "cell_type": "code",
      "metadata": {
        "id": "anWa4Qho_kb3",
        "colab": {
          "base_uri": "https://localhost:8080/",
          "height": 265
        },
        "outputId": "b0ad7d24-2173-4ba4-89a4-db5145a61992"
      },
      "source": [
        "plt.plot(ytest_m_x, ytest_m_y, \"co\")\n",
        "for t in range(10,16,1):\n",
        "  plt.plot(ytest_m_x[t], ytest_m_y[t], \"m*\", markersize = 15)"
      ],
      "execution_count": null,
      "outputs": [
        {
          "output_type": "display_data",
          "data": {
            "image/png": "[encoded data removed]",
            "text/plain": [
              "<Figure size 432x288 with 1 Axes>"
            ]
          },
          "metadata": {
            "needs_background": "light"
          }
        }
      ]
    },
    {
      "cell_type": "code",
      "metadata": {
        "colab": {
          "base_uri": "https://localhost:8080/"
        },
        "id": "PY1grdJZ7HKG",
        "outputId": "8d2cd147-bfa3-43b6-8d29-ac8d214fc53e"
      },
      "source": [
        "pred_hour_angle_1 = np.around(np.arctan2(pred_h_y, pred_h_x) * 180 / np.pi,1)\n",
        "print(pred_hour_angle_1)"
      ],
      "execution_count": null,
      "outputs": [
        {
          "output_type": "stream",
          "name": "stdout",
          "text": [
            "[[121.3]\n",
            " [ -2.4]\n",
            " [-30.9]\n",
            " ...\n",
            " [154.7]\n",
            " [ -9.1]\n",
            " [  8.8]]\n"
          ]
        }
      ]
    },
    {
      "cell_type": "code",
      "metadata": {
        "colab": {
          "base_uri": "https://localhost:8080/"
        },
        "id": "bAbz8uFo7HGN",
        "outputId": "e417c389-355f-4ba6-ff87-3f309cd836f6"
      },
      "source": [
        "true_hour_angle_1 = np.arctan2(ytest_h_y, ytest_h_x) * 180 / np.pi\n",
        "print(true_hour_angle_1)"
      ],
      "execution_count": null,
      "outputs": [
        {
          "output_type": "stream",
          "name": "stdout",
          "text": [
            "[120.   0. -30. ... 150.   0.   0.]\n"
          ]
        }
      ]
    },
    {
      "cell_type": "code",
      "metadata": {
        "colab": {
          "base_uri": "https://localhost:8080/"
        },
        "id": "Bqe4GFII7HEC",
        "outputId": "1d9ac349-bd42-4641-ac86-cd18f1e469e0"
      },
      "source": [
        "hour_angle_gap = np.mean(abs(true_hour_angle_1 - pred_hour_angle_1.flatten()))\n",
        "print(hour_angle_gap) #this gap is due to there lack one hour because we only have 0 to 11 hours in the dataset"
      ],
      "execution_count": null,
      "outputs": [
        {
          "output_type": "stream",
          "name": "stdout",
          "text": [
            "21.51224996915708\n"
          ]
        }
      ]
    },
    {
      "cell_type": "code",
      "metadata": {
        "colab": {
          "base_uri": "https://localhost:8080/"
        },
        "id": "X40FTRfujfm2",
        "outputId": "71baff35-1e45-4bac-cfdc-29311b7de9d6"
      },
      "source": [
        "(12/360) * 21.580908922367573"
      ],
      "execution_count": null,
      "outputs": [
        {
          "output_type": "execute_result",
          "data": {
            "text/plain": [
              "0.7193636307455857"
            ]
          },
          "metadata": {},
          "execution_count": 59
        }
      ]
    },
    {
      "cell_type": "code",
      "metadata": {
        "id": "I_8TcChUkLHJ"
      },
      "source": [
        ""
      ],
      "execution_count": null,
      "outputs": []
    },
    {
      "cell_type": "code",
      "metadata": {
        "colab": {
          "base_uri": "https://localhost:8080/"
        },
        "id": "5CQOyT-M7HCA",
        "outputId": "125e4cea-2cdb-444e-dd5f-c2952db8f9f7"
      },
      "source": [
        "pred_minute_angle_1 = np.arctan2(pred_m_y, pred_m_x) * 180 / np.pi \n",
        "print(pred_minute_angle_1)"
      ],
      "execution_count": null,
      "outputs": [
        {
          "output_type": "stream",
          "name": "stdout",
          "text": [
            "[[-70.55585 ]\n",
            " [-61.019222]\n",
            " [111.86611 ]\n",
            " ...\n",
            " [166.47542 ]\n",
            " [177.98466 ]\n",
            " [ 15.886035]]\n"
          ]
        }
      ]
    },
    {
      "cell_type": "code",
      "metadata": {
        "colab": {
          "base_uri": "https://localhost:8080/"
        },
        "id": "t-BF_iRf7G_P",
        "outputId": "dee33fea-5d6b-4b8a-bd18-f5bdab43e243"
      },
      "source": [
        "true_minute_angle_1 = np.arctan2(ytest_m_y, ytest_m_x) * 180 / np.pi \n",
        "print(true_minute_angle_1)"
      ],
      "execution_count": null,
      "outputs": [
        {
          "output_type": "stream",
          "name": "stdout",
          "text": [
            "[-60. -60. 120. ... 174. 174.  30.]\n"
          ]
        }
      ]
    },
    {
      "cell_type": "code",
      "metadata": {
        "colab": {
          "base_uri": "https://localhost:8080/"
        },
        "id": "2eoCpShYjg6v",
        "outputId": "a6aedfca-414c-4acd-b129-b072e3b489da"
      },
      "source": [
        "np.mean(abs(true_minute_angle_1 - pred_minute_angle_1.flatten()))"
      ],
      "execution_count": null,
      "outputs": [
        {
          "output_type": "execute_result",
          "data": {
            "text/plain": [
              "9.264385684343676"
            ]
          },
          "metadata": {},
          "execution_count": 62
        }
      ]
    },
    {
      "cell_type": "code",
      "metadata": {
        "colab": {
          "base_uri": "https://localhost:8080/"
        },
        "id": "mnQlr6VakAg1",
        "outputId": "16b96ce7-d2fd-40ef-fc4c-793aef44b7f8"
      },
      "source": [
        "(60/360) *  9.264385684343676  #this is the MAE of the model, errors between true time and predicted time"
      ],
      "execution_count": 170,
      "outputs": [
        {
          "output_type": "execute_result",
          "data": {
            "text/plain": [
              "1.544064280723946"
            ]
          },
          "metadata": {},
          "execution_count": 170
        }
      ]
    }
  ]
}